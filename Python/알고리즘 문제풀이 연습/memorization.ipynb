{
 "cells": [
  {
   "cell_type": "markdown",
   "metadata": {},
   "source": [
    "## memorization\n",
    "\n",
    "- 개념요약 : 반복적으로 사용되는 계산결과를 임시 저장공간에 캐싱하여 활용함으로써 반복적인 연산을 줄이는 기법\n",
    "\n",
    "\n",
    "- 아래 피보나치 함수와 같이 두단계로 나누어지는 피보나치 수열 예시로 구현"
   ]
  },
  {
   "cell_type": "code",
   "execution_count": 29,
   "metadata": {},
   "outputs": [],
   "source": [
    "def fib(n):\n",
    "    if n < 2:\n",
    "        return n\n",
    "    \n",
    "    return fib(n-1) + fib(n-2)"
   ]
  },
  {
   "cell_type": "markdown",
   "metadata": {},
   "source": [
    "- 피보나치 수열의 연산시간은 크지 않은 수가 입력됨에도 불구하고 상당히 오래걸린다."
   ]
  },
  {
   "cell_type": "code",
   "execution_count": 30,
   "metadata": {},
   "outputs": [
    {
     "name": "stdout",
     "output_type": "stream",
     "text": [
      "Wall time: 1min 38s\n"
     ]
    },
    {
     "data": {
      "text/plain": [
       "102334155"
      ]
     },
     "execution_count": 30,
     "metadata": {},
     "output_type": "execute_result"
    }
   ],
   "source": [
    "%%time\n",
    "fib(40)"
   ]
  },
  {
   "cell_type": "markdown",
   "metadata": {},
   "source": [
    "- 아래 구현한 'make_memo' 함수의 핵심 : \n",
    "\n",
    "-> 불필요한 연산감소\n",
    "\n",
    "-> 중복된 계산을 'me' 딕셔너리에 임시 캐싱하여 차후 반복적인 계산 시 캐싱된 데이터를 대신 활용하겠다"
   ]
  },
  {
   "cell_type": "code",
   "execution_count": 46,
   "metadata": {},
   "outputs": [],
   "source": [
    "def make_memo(func):\n",
    "    me = {}\n",
    "    \n",
    "    def memo(n): # memo(400) # me, func=fib\n",
    "        print(\"실제 요청 받은 숫자 n:\", n)\n",
    "        \n",
    "        if me.get(n):\n",
    "            print(\"캐쉬된 값 :\", n)\n",
    "            return me[n]\n",
    "        \n",
    "        else:\n",
    "            print(\"캐쉬되지 않아서 계산해야하는 값 :\", n)\n",
    "            result = func(n)\n",
    "            me[n] = result\n",
    "            return result\n",
    "        \n",
    "    return memo"
   ]
  },
  {
   "cell_type": "markdown",
   "metadata": {},
   "source": [
    "- 'make_memo' 데코레이터를 씌우는 순간 'make_memo' 함수 안에 'memo'함수가 작동되는 원리이다."
   ]
  },
  {
   "cell_type": "code",
   "execution_count": 47,
   "metadata": {},
   "outputs": [],
   "source": [
    "@make_memo\n",
    "def fib(n): \n",
    "    ## memo에 인자를 400넣는거랑 동일하다고 할 수 있다. \n",
    "    # me, func = fib\n",
    "    if n < 2:\n",
    "        return n\n",
    "    \n",
    "    return fib(n-1) + fib(n-2)"
   ]
  },
  {
   "cell_type": "markdown",
   "metadata": {},
   "source": [
    "- memorization 기법 적용 시 상당한 시간단축을 할 수 있다."
   ]
  },
  {
   "cell_type": "code",
   "execution_count": 48,
   "metadata": {},
   "outputs": [
    {
     "name": "stdout",
     "output_type": "stream",
     "text": [
      "실제 요청 받은 숫자 n: 5\n",
      "캐쉬되지 않아서 계산해야하는 값 : 5\n",
      "실제 요청 받은 숫자 n: 4\n",
      "캐쉬되지 않아서 계산해야하는 값 : 4\n",
      "실제 요청 받은 숫자 n: 3\n",
      "캐쉬되지 않아서 계산해야하는 값 : 3\n",
      "실제 요청 받은 숫자 n: 2\n",
      "캐쉬되지 않아서 계산해야하는 값 : 2\n",
      "실제 요청 받은 숫자 n: 1\n",
      "캐쉬되지 않아서 계산해야하는 값 : 1\n",
      "실제 요청 받은 숫자 n: 0\n",
      "캐쉬되지 않아서 계산해야하는 값 : 0\n",
      "실제 요청 받은 숫자 n: 1\n",
      "캐쉬된 값 : 1\n",
      "실제 요청 받은 숫자 n: 2\n",
      "캐쉬된 값 : 2\n",
      "실제 요청 받은 숫자 n: 3\n",
      "캐쉬된 값 : 3\n",
      "Wall time: 4.02 ms\n"
     ]
    },
    {
     "data": {
      "text/plain": [
       "5"
      ]
     },
     "execution_count": 48,
     "metadata": {},
     "output_type": "execute_result"
    }
   ],
   "source": [
    "%%time\n",
    "fib(5)"
   ]
  },
  {
   "cell_type": "code",
   "execution_count": null,
   "metadata": {},
   "outputs": [],
   "source": [
    "%%time\n",
    "fib(5)"
   ]
  },
  {
   "cell_type": "markdown",
   "metadata": {},
   "source": [
    "- 파이썬 라이브러리에도 memorization을 구현할 수 있는 내부함수가 있다."
   ]
  },
  {
   "cell_type": "code",
   "execution_count": 34,
   "metadata": {},
   "outputs": [],
   "source": [
    "from functools import lru_cache"
   ]
  },
  {
   "cell_type": "code",
   "execution_count": 35,
   "metadata": {},
   "outputs": [],
   "source": [
    "@lru_cache(maxsize = 512)\n",
    "def fib(n):\n",
    "    if n < 2:\n",
    "        return n\n",
    "    \n",
    "    return fib(n-1) + fib(n-2)"
   ]
  },
  {
   "cell_type": "code",
   "execution_count": 36,
   "metadata": {},
   "outputs": [
    {
     "name": "stdout",
     "output_type": "stream",
     "text": [
      "Wall time: 4.01 ms\n"
     ]
    },
    {
     "data": {
      "text/plain": [
       "176023680645013966468226945392411250770384383304492191886725992896575345044216019675"
      ]
     },
     "execution_count": 36,
     "metadata": {},
     "output_type": "execute_result"
    }
   ],
   "source": [
    "%%time\n",
    "fib(400)"
   ]
  }
 ],
 "metadata": {
  "kernelspec": {
   "display_name": "Python 3",
   "language": "python",
   "name": "python3"
  },
  "language_info": {
   "codemirror_mode": {
    "name": "ipython",
    "version": 3
   },
   "file_extension": ".py",
   "mimetype": "text/x-python",
   "name": "python",
   "nbconvert_exporter": "python",
   "pygments_lexer": "ipython3",
   "version": "3.7.1"
  }
 },
 "nbformat": 4,
 "nbformat_minor": 2
}
