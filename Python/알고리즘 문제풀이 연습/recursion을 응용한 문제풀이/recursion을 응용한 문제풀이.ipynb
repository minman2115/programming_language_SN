{
 "cells": [
  {
   "cell_type": "markdown",
   "metadata": {},
   "source": [
    "<img src=\"2.png\" width=\"800\" />"
   ]
  },
  {
   "cell_type": "code",
   "execution_count": 9,
   "metadata": {},
   "outputs": [],
   "source": [
    "def solution(n):\n",
    "    \n",
    "    result_count = 0\n",
    "    \n",
    "    for data in range(10**n):\n",
    "        data = str(data)\n",
    "            \n",
    "        if data == data[::-1]:\n",
    "            result_count += 1\n",
    "            \n",
    "    return result_count"
   ]
  },
  {
   "cell_type": "code",
   "execution_count": 10,
   "metadata": {},
   "outputs": [
    {
     "data": {
      "text/plain": [
       "19"
      ]
     },
     "execution_count": 10,
     "metadata": {},
     "output_type": "execute_result"
    }
   ],
   "source": [
    "solution(2)"
   ]
  },
  {
   "cell_type": "markdown",
   "metadata": {},
   "source": [
    "- 문제식별 : 최악의 조건에서 프로세싱 속도가 저하되는 현상"
   ]
  },
  {
   "cell_type": "markdown",
   "metadata": {},
   "source": [
    "solution : 규칙을 찾아내면 복잡도를 상당히 줄일 수 있다.\n",
    "\n",
    "- 1자리 수일때 : 0,1,2,3,4,5,6,7,8,9 -> 10개\n",
    "- 2자리 수일때 : 11,22,33,44,55,66,77,88,99 ->9개\n",
    "- 3자리 수일때 : 1x1, 2x2, 3x3, ... , 9x9 -> 9 X 10개\n",
    "- 4자리 수일때 : 1xx1, 2xx2, 3xx3, ... , 9xx9 -> 9 X 10개\n",
    "- 5자리 수일때 : 1xyx1, 2xyx2, 3xyx3, ... , 9xyx9 -> 9 X 10 X 10개\n",
    "- 6자리 수일때 : 1xyyx1, 2xyyx2, 3xyyx3, ... , 9xyyx9 -> 9 X 10 X 10개"
   ]
  },
  {
   "cell_type": "code",
   "execution_count": 11,
   "metadata": {},
   "outputs": [],
   "source": [
    "# 재귀를 응용한 문제풀이\n",
    "def solution(n):\n",
    "    if n == 1:\n",
    "        return 10\n",
    "    \n",
    "    return solution(n-1) + 9*(10**((n-1)//2))"
   ]
  },
  {
   "cell_type": "code",
   "execution_count": 12,
   "metadata": {},
   "outputs": [
    {
     "data": {
      "text/plain": [
       "10"
      ]
     },
     "execution_count": 12,
     "metadata": {},
     "output_type": "execute_result"
    }
   ],
   "source": [
    "solution(1)"
   ]
  },
  {
   "cell_type": "code",
   "execution_count": 13,
   "metadata": {},
   "outputs": [
    {
     "data": {
      "text/plain": [
       "19"
      ]
     },
     "execution_count": 13,
     "metadata": {},
     "output_type": "execute_result"
    }
   ],
   "source": [
    "solution(2)"
   ]
  },
  {
   "cell_type": "code",
   "execution_count": 14,
   "metadata": {},
   "outputs": [
    {
     "data": {
      "text/plain": [
       "109"
      ]
     },
     "execution_count": 14,
     "metadata": {},
     "output_type": "execute_result"
    }
   ],
   "source": [
    "solution(3)"
   ]
  }
 ],
 "metadata": {
  "kernelspec": {
   "display_name": "Python 3",
   "language": "python",
   "name": "python3"
  },
  "language_info": {
   "codemirror_mode": {
    "name": "ipython",
    "version": 3
   },
   "file_extension": ".py",
   "mimetype": "text/x-python",
   "name": "python",
   "nbconvert_exporter": "python",
   "pygments_lexer": "ipython3",
   "version": "3.7.1"
  }
 },
 "nbformat": 4,
 "nbformat_minor": 2
}
