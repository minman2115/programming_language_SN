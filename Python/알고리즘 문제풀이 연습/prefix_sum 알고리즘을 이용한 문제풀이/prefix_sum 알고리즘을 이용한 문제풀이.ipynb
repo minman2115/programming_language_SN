{
 "cells": [
  {
   "cell_type": "markdown",
   "metadata": {},
   "source": [
    "<img src=\"1.png\" width=\"800\" />"
   ]
  },
  {
   "cell_type": "markdown",
   "metadata": {},
   "source": [
    "- 최초 누적합문제 풀이"
   ]
  },
  {
   "cell_type": "code",
   "execution_count": 1,
   "metadata": {},
   "outputs": [],
   "source": [
    "# 최초 누적합문제\n",
    "def solution(data, queries):\n",
    "    \n",
    "    result_list = []\n",
    "    \n",
    "    for start, end in queries:\n",
    "        result_list.append(sum(data[start-1:end]))\n",
    "        \n",
    "    return result_list"
   ]
  },
  {
   "cell_type": "code",
   "execution_count": 2,
   "metadata": {},
   "outputs": [
    {
     "data": {
      "text/plain": [
       "[60, 90, 120, 150, 40]"
      ]
     },
     "execution_count": 2,
     "metadata": {},
     "output_type": "execute_result"
    }
   ],
   "source": [
    "## 문제에서 주어진 테스트 코드\n",
    "\n",
    "N = 5\n",
    "M = 5\n",
    "data = [10, 20, 30, 40, 50]\n",
    "queries = [[1, 3], [2, 4], [3, 5], [1, 5], [4, 4]]\n",
    "\n",
    "solution(data, queries)"
   ]
  },
  {
   "cell_type": "markdown",
   "metadata": {},
   "source": [
    "- 문제식별 : 최악의 조건에서 프로세싱 속도가 저하되는 현상"
   ]
  },
  {
   "cell_type": "code",
   "execution_count": 3,
   "metadata": {},
   "outputs": [],
   "source": [
    "import time\n",
    "from random import randint\n",
    "\n",
    "N = 100000\n",
    "M = 10000\n",
    "\n",
    "data = [randint(1,N) for _ in range(N)]\n",
    "queries = [sorted([randint(1,N), randint(1,N)]) for _ in range(M)]"
   ]
  },
  {
   "cell_type": "code",
   "execution_count": 4,
   "metadata": {},
   "outputs": [
    {
     "name": "stdout",
     "output_type": "stream",
     "text": [
      "Wall time: 10.5 s\n"
     ]
    }
   ],
   "source": [
    "%%time\n",
    "result = solution(data, queries)"
   ]
  },
  {
   "cell_type": "markdown",
   "metadata": {},
   "source": [
    "- 문제해결 : prefix_sum을 이용한 문제 재풀이"
   ]
  },
  {
   "cell_type": "code",
   "execution_count": 5,
   "metadata": {},
   "outputs": [],
   "source": [
    "# 메인문제\n",
    "def solution(data, queries):\n",
    "    \n",
    "    result_list = []\n",
    "    acc_list = [0]\n",
    "    acc_num = 0\n",
    "\n",
    "    for element in data:\n",
    "        acc_num += element\n",
    "        acc_list.append(acc_num)\n",
    "        \n",
    "    for start, end in queries:\n",
    "        result_list.append(acc_list[end]-acc_list[start-1])\n",
    "        \n",
    "    return result_list"
   ]
  },
  {
   "cell_type": "code",
   "execution_count": 6,
   "metadata": {},
   "outputs": [
    {
     "data": {
      "text/plain": [
       "[60, 90, 120, 150, 40]"
      ]
     },
     "execution_count": 6,
     "metadata": {},
     "output_type": "execute_result"
    }
   ],
   "source": [
    "## 문제에서 주어진 테스트 코드\n",
    "\n",
    "N = 5\n",
    "M = 5\n",
    "data = [10, 20, 30, 40, 50]\n",
    "queries = [[1, 3], [2, 4], [3, 5], [1, 5], [4, 4]]\n",
    "\n",
    "solution(data, queries)"
   ]
  },
  {
   "cell_type": "code",
   "execution_count": 7,
   "metadata": {},
   "outputs": [],
   "source": [
    "import time\n",
    "from random import randint\n",
    "\n",
    "N = 100000\n",
    "M = 10000\n",
    "\n",
    "data = [randint(1,N) for _ in range(N)]\n",
    "queries = [sorted([randint(1,N), randint(1,N)]) for _ in range(M)]"
   ]
  },
  {
   "cell_type": "code",
   "execution_count": 8,
   "metadata": {},
   "outputs": [
    {
     "name": "stdout",
     "output_type": "stream",
     "text": [
      "Wall time: 21.8 ms\n"
     ]
    }
   ],
   "source": [
    "%%time\n",
    "result =solution(data, queries)"
   ]
  }
 ],
 "metadata": {
  "kernelspec": {
   "display_name": "Python 3",
   "language": "python",
   "name": "python3"
  },
  "language_info": {
   "codemirror_mode": {
    "name": "ipython",
    "version": 3
   },
   "file_extension": ".py",
   "mimetype": "text/x-python",
   "name": "python",
   "nbconvert_exporter": "python",
   "pygments_lexer": "ipython3",
   "version": "3.7.1"
  }
 },
 "nbformat": 4,
 "nbformat_minor": 2
}
