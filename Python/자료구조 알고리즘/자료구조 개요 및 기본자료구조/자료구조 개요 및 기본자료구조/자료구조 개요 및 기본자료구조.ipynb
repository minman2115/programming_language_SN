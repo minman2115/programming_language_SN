{
 "cells": [
  {
   "cell_type": "markdown",
   "metadata": {},
   "source": [
    "#### 그림, 실습코드 등 학습자료 출처 : https://github.com/ythwork\n",
    "\n",
    "#### [자료구조]\n",
    "\n",
    "\n",
    "- 데이터가 선형으로 저장되어 있는가 아닌가에 따라 두가지로 나뉘어진다.\n",
    "\n",
    "\n",
    "1) 선형구조\n",
    "\n",
    "배열, 연결리스트, 스택, 큐\n",
    "    \n",
    "    \n",
    "2) 비선형구조\n",
    "\n",
    "트리(바이너리 서치트리, B-tree 등), 그래프, 해시테이블, 힙\n",
    "\n",
    "참고로 데이터베이스가 B-tree 자료구조로 구성된다.\n",
    "\n",
    "#### [기본자료구조]\n",
    "\n",
    "\n",
    "1) 스텍\n",
    "\n",
    "스텍의 응용사례 : 후위표기법 계산기\n",
    "   \n",
    "2) 큐\n",
    "\n",
    "큐와 리스트는 일시적인 데이터를 처리할때 많이 쓴다.\n",
    "\n",
    "데이터를 오래 저장하고 활용하고자 할 때는 링크드리스트, 배열, 트리 등을 많이 쓴다.\n",
    "\n",
    "3) 해시테이블\n",
    "\n",
    "#### [stack]\n",
    "\n",
    "- 접시쌓기, 급식판 !!\n",
    "\n",
    "\n",
    "- 스택에서는 가장 최근에 삽입된 원소가 삭제된다. 스택은 후입선출(LIFO) 정책을 구현한 것이다.\n",
    "\n",
    "LIFO : Last In, First Out\n",
    "\n",
    "\n",
    "- 스택에서 삽입 연산은 Push, 삭제 연산은 Pop이라 불린다.\n",
    "\n",
    "\n",
    "- 비어있는 스택에서 원소를 추출하려고 할 때 stack underflow라고 하며, 스택이 넘치는 경우 stack overflow 라고 한다.\n",
    "\n",
    "\n",
    "- 활용예시 : 후입선출(LIFO)의 특징을 활용하여 여러 분야에서 활용 가능하다.\n",
    "\n",
    "1) 웹 브라우저 방문기록 (뒤로가기)\n",
    "\n",
    "2) 실행취소 (undo)\n",
    "\n",
    "3) 역순 문자열 만들기\n",
    "\n",
    "4) 수식의 괄호 검사 (연산자 우선순위 표현을 위한 괄호 검사)\n",
    "    \n",
    "5) 후위표기법 계산\n",
    "\n",
    "#### [자료구조의 구성]\n",
    "\n",
    "자료구조를 만들때 고민할 내용으로 통상 ADT(Abstract Data Type) : 추상 데이터 타입 라고 한다.\n",
    "\n",
    "데이터를 삽입,탐색, 삭제하는 자료구조의 메서드의 함수사용법(함수 시그니처)\n",
    "\n",
    "함수의 인터페이스와 유사하다\n",
    "\n",
    "1) insert : 데이터를 어떻게 저장할 것인가\n",
    "\n",
    "2) search : 데이터를 어떻게 탐색할 것인가\n",
    "\n",
    "3) delete : 데이터를 어떻게 지울 것인가\n",
    "\n",
    "자료구조를 만들때는 항상 먼저 ADT를 구상하고 구현해야 한다."
   ]
  },
  {
   "cell_type": "markdown",
   "metadata": {},
   "source": [
    "#### 파이썬의 리스트를 활용해서 stack을 구현해보기\n",
    "\n",
    "- 파이썬의 내부 자료구조인 스텍을 활용해서 컨테이너라는 것을 만들어서 우리가 구현하고자하는 스텍을 구현한다.\n",
    "\n",
    "\n",
    "- stack의 ADT\n",
    "\n",
    "S.empty() : Boolean을 반환하는데 스택이 비어있으면 True, 아니면 False를 반환한다.\n",
    "\n",
    "S.push(data) : 반환하지 않으며 스택의 맨위에 데이터를 쌓아준다.\n",
    "\n",
    "S.pop() : 스택 맨위의 data를 삭제하면서 반환하게 된다.\n",
    "\n",
    "S.peek() : 스텍의 맨 위의 data를 반환해준다.\n",
    "\n",
    "\n",
    "- 위의 개념을 반영해서 self.container=list() 로 초기화 하는것을 통합기법이라고 한다.\n",
    "\n",
    "\n",
    "- push 작동예시"
   ]
  },
  {
   "cell_type": "markdown",
   "metadata": {},
   "source": [
    "<img src=\"1.png\" width=\"500\" />"
   ]
  },
  {
   "cell_type": "markdown",
   "metadata": {},
   "source": [
    "- pop 작동예시"
   ]
  },
  {
   "cell_type": "markdown",
   "metadata": {},
   "source": [
    "<img src=\"2.png\" width=\"500\" />"
   ]
  },
  {
   "cell_type": "markdown",
   "metadata": {},
   "source": [
    "- 파이썬 코드구현"
   ]
  },
  {
   "cell_type": "code",
   "execution_count": 1,
   "metadata": {},
   "outputs": [
    {
     "name": "stdout",
     "output_type": "stream",
     "text": [
      "5  4  3  2  1  "
     ]
    }
   ],
   "source": [
    "class Stack:\n",
    "    def __init__(self):\n",
    "        self.container=list() \n",
    "        ## 컨테이너는 실제 데이터를 가지고 있는 자료구조\n",
    "        \n",
    "    def empty(self):\n",
    "        ## 파이썬에서는 빈 리스트를 False로 인식한다.\n",
    "        if not self.container:\n",
    "            return True\n",
    "        else :\n",
    "            return False\n",
    "\n",
    "    def push(self, data):\n",
    "        self.container.append(data)\n",
    "\n",
    "    def pop(self):\n",
    "        return self.container.pop()\n",
    "\n",
    "    def peek(self):\n",
    "        return self.container[-1]\n",
    "\n",
    "if __name__==\"__main__\":\n",
    "    s=Stack()\n",
    "    s.push(1)\n",
    "    s.push(2)\n",
    "    s.push(3)\n",
    "    s.push(4)\n",
    "    s.push(5)\n",
    "    while not s.empty():\n",
    "        print(s.pop(), end='  ')"
   ]
  },
  {
   "cell_type": "markdown",
   "metadata": {},
   "source": [
    "#### 파이썬의 배열(single linked list)을 활용해서 구현\n",
    "\n",
    "- push 작동예시"
   ]
  },
  {
   "cell_type": "markdown",
   "metadata": {},
   "source": [
    "<img src=\"3.png\" width=\"1000\" />"
   ]
  },
  {
   "cell_type": "markdown",
   "metadata": {},
   "source": [
    "- pop 작동예시"
   ]
  },
  {
   "cell_type": "markdown",
   "metadata": {},
   "source": [
    "<img src=\"4.png\" width=\"800\" />"
   ]
  },
  {
   "cell_type": "markdown",
   "metadata": {},
   "source": [
    "- 파이썬 코드구현"
   ]
  },
  {
   "cell_type": "code",
   "execution_count": 4,
   "metadata": {},
   "outputs": [
    {
     "name": "stdout",
     "output_type": "stream",
     "text": [
      "5  4  3  2  1  "
     ]
    }
   ],
   "source": [
    "class Node:\n",
    "    def __init__(self, data=None):\n",
    "        self.__data=data\n",
    "        self.__next=None\n",
    "\n",
    "    @property\n",
    "    def data(self):\n",
    "        return self.__data\n",
    "    \n",
    "    @data.setter\n",
    "    def data(self, data):\n",
    "        self.__data=data\n",
    "    \n",
    "    @property\n",
    "    def next(self):\n",
    "        return self.__next\n",
    "\n",
    "    @next.setter\n",
    "    def next(self, n):\n",
    "        self.__next=n\n",
    "\n",
    "class LStack:\n",
    "    def __init__(self):\n",
    "        self.top=None\n",
    "\n",
    "    def empty(self):\n",
    "        if self.top is None:\n",
    "            return True\n",
    "        else:\n",
    "            return False\n",
    "\n",
    "    def push(self, data):\n",
    "        new_node = Node(data)\n",
    "        new_node.next = self.top\n",
    "        self.top = new_node\n",
    "\n",
    "    def pop(self):\n",
    "        if self.empty():\n",
    "            return None\n",
    "        cur = self.top\n",
    "        self.top = self.top.next\n",
    "        return cur.data\n",
    "        ## cur는 지역변수로 함수실행이 종료되면 없어지기 때문에 팝하고자하는 데이터도 함수실행이 종료되면 레퍼런스\n",
    "        ## 카운트가 0이되면서 없어지게 된다.\n",
    "\n",
    "    def peek(self):\n",
    "        if self.empty():\n",
    "            return None\n",
    "        return self.top.data\n",
    "\n",
    "if __name__ ==\"__main__\":\n",
    "    s = LStack()\n",
    "\n",
    "    s.push(1)\n",
    "    s.push(2)\n",
    "    s.push(3)\n",
    "    s.push(4)\n",
    "    s.push(5)\n",
    "\n",
    "    while not s.empty():\n",
    "        print(s.pop(), end=\"  \")"
   ]
  },
  {
   "cell_type": "markdown",
   "metadata": {},
   "source": [
    "#### [Queue]\n",
    "\n",
    "- 큐 에서는 집합에서 가장 오랜 시간 존재했던 원소를 삭제한다. 큐는 선입선출(FIFO) 정책을 구현한 것이다."
   ]
  },
  {
   "cell_type": "markdown",
   "metadata": {},
   "source": [
    "<img src=\"5.png\" width=\"300\" />"
   ]
  },
  {
   "cell_type": "markdown",
   "metadata": {},
   "source": [
    "- 큐에서 삽입 연산은 Enqueue, 삭제연산은 Dequeue라 한다.\n",
    "\n",
    "\n",
    "- 스택에서는 원소의 삽입, 삭제가 스택의 한 끝에서 이루어지고, 큐에서는 원소의 삽입, 삭제가 큐의 서로 다른 쪽 끝에서 이루어진다.\n",
    "\n",
    "\n",
    "- 양방향 큐, 다시말해 데크(deque) 라는 것도 있는데 이것은 원소의 삽입, 삭제가 양쪽 방향에서 이루어진다.\n",
    "\n",
    "(큐와 스택을 합친 것으로 선입선출/후입선출의 복합적인 성격이 필요한 경우에 사용)\n",
    "\n",
    "\n",
    "- 활용예시 :선입선출(FIFO)의 특징을 활용한 활용예시\n",
    "\n",
    "1) 우선순위가 같은 작업 예약 (인쇄 대기열)\n",
    "\n",
    "2) 선입선출이 필요한 대기열 (티켓 카운터)\n",
    "\n",
    "3) 콜센터 고객 대기시간\n",
    "\n",
    "- ADT \n",
    "\n",
    "Q.empty() : Boolean을 반환하는데 큐가 비어있으면 True, 아니면 False를 반환한다.\n",
    "\n",
    "Q.enqueue(data) : 반환하지 않으며 큐의 맨 뒤에 데이터를 쌓아준다.\n",
    "\n",
    "Q.dequeue() : 큐 맨 앞의 데이터를 삭제하면서 그 데이터를 반환한다.\n",
    "\n",
    "Q.peek() : 큐 맨 앞의 데이터를 반환한다."
   ]
  },
  {
   "cell_type": "markdown",
   "metadata": {},
   "source": [
    "#### 파이썬의 리스트를 활용해서 구현\n",
    "\n",
    "- Enqueue 작동예시"
   ]
  },
  {
   "cell_type": "markdown",
   "metadata": {},
   "source": [
    "<img src=\"6.png\" width=\"400\" />"
   ]
  },
  {
   "cell_type": "markdown",
   "metadata": {},
   "source": [
    "- Dequeue 작동예시"
   ]
  },
  {
   "cell_type": "markdown",
   "metadata": {},
   "source": [
    "<img src=\"7.png\" width=\"300\" />"
   ]
  },
  {
   "cell_type": "markdown",
   "metadata": {},
   "source": [
    "- 파이썬 코드 구현"
   ]
  },
  {
   "cell_type": "code",
   "execution_count": 5,
   "metadata": {},
   "outputs": [
    {
     "name": "stdout",
     "output_type": "stream",
     "text": [
      "1  2  3  4  5  "
     ]
    }
   ],
   "source": [
    "class Queue:\n",
    "    def __init__(self):\n",
    "        self.container=list()\n",
    "\n",
    "    def empty(self):\n",
    "        if not self.container:\n",
    "            return True\n",
    "        else :\n",
    "            return False\n",
    "\n",
    "    def enqueue(self, data):\n",
    "        self.container.append(data)\n",
    "\n",
    "    def dequeue(self):\n",
    "        return self.container.pop(0)\n",
    "\n",
    "    def peek(self):\n",
    "        return self.container[0]\n",
    "\n",
    "if __name__==\"__main__\":\n",
    "    s=Queue()\n",
    "    s.enqueue(1)\n",
    "    s.enqueue(2)\n",
    "    s.enqueue(3)\n",
    "    s.enqueue(4)\n",
    "    s.enqueue(5)\n",
    "    while not s.empty():\n",
    "        print(s.dequeue(), end='  ')"
   ]
  },
  {
   "cell_type": "markdown",
   "metadata": {},
   "source": [
    "#### 파이썬 배열(single linked list)을 활용해서 구현\n",
    "\n",
    "- Enqueue 작동예시"
   ]
  },
  {
   "cell_type": "markdown",
   "metadata": {},
   "source": [
    "<img src=\"8.png\" width=\"1000\" />"
   ]
  },
  {
   "cell_type": "markdown",
   "metadata": {},
   "source": [
    "- Dequeue 작동예시"
   ]
  },
  {
   "cell_type": "markdown",
   "metadata": {},
   "source": [
    "<img src=\"9.png\" width=\"1000\" />"
   ]
  },
  {
   "cell_type": "markdown",
   "metadata": {},
   "source": [
    "- 파이썬 코드구현"
   ]
  },
  {
   "cell_type": "code",
   "execution_count": 8,
   "metadata": {},
   "outputs": [
    {
     "name": "stdout",
     "output_type": "stream",
     "text": [
      "1  2  3  4  5  "
     ]
    }
   ],
   "source": [
    "class Node:\n",
    "    def __init__(self, data=None):\n",
    "        self.__data=data\n",
    "        self.__next=None\n",
    "\n",
    "    @property\n",
    "    def data(self):\n",
    "        return self.__data\n",
    "    \n",
    "    @data.setter\n",
    "    def data(self, data):\n",
    "        self.__data=data\n",
    "    \n",
    "    @property\n",
    "    def next(self):\n",
    "        return self.__next\n",
    "\n",
    "    @next.setter\n",
    "    def next(self, n):\n",
    "        self.__next=n\n",
    "\n",
    "class LQueue:\n",
    "    def __init__(self):\n",
    "        self.front = None\n",
    "        self.rear = None\n",
    "\n",
    "    def empty(self):\n",
    "        if not self.front:\n",
    "            return True\n",
    "        return False\n",
    "\n",
    "    def enqueue(self, data):\n",
    "        new_node = Node(data)\n",
    "        if self.empty():\n",
    "            self.front = new_node\n",
    "            self.rear = new_node\n",
    "            return\n",
    "\n",
    "        self.rear.next = new_node\n",
    "        self.rear = new_node\n",
    "\n",
    "    def dequeue(self):\n",
    "        if self.empty():\n",
    "            return None\n",
    "            ## None으로 리턴해도 되고 아니면 애러레이징해도 된다.\n",
    "\n",
    "        if self.front is self.rear:\n",
    "            self.rear = self.rear.next\n",
    "            \n",
    "        cur = self.front\n",
    "        self.front = self.front.next\n",
    "        return cur.data\n",
    "\n",
    "    def peek(self):\n",
    "        if self.empty():\n",
    "            return None\n",
    "        \n",
    "        return self.front.data\n",
    "\n",
    "if __name__ == \"__main__\":\n",
    "    q = LQueue()\n",
    "    q.enqueue(1)\n",
    "    q.enqueue(2)\n",
    "    q.enqueue(3)\n",
    "    q.enqueue(4)\n",
    "    q.enqueue(5)\n",
    "\n",
    "    while not q.empty():\n",
    "        print(q.dequeue(), end='  ')"
   ]
  },
  {
   "cell_type": "markdown",
   "metadata": {},
   "source": [
    "#### 스텍 2개를 이용해서 구현\n",
    "\n",
    "- 스택 2개를 이용해서 마치 큐를 쓰는 것처럼 구현하기"
   ]
  },
  {
   "cell_type": "code",
   "execution_count": 2,
   "metadata": {},
   "outputs": [
    {
     "name": "stdout",
     "output_type": "stream",
     "text": [
      "1  2  3  4  5  "
     ]
    }
   ],
   "source": [
    "#implementation of queue with two stacks\n",
    "from stack1 import LStack\n",
    "\n",
    "class SQueue:\n",
    "    def __init__(self):\n",
    "        self.first = LStack()\n",
    "        self.second = LStack()\n",
    "\n",
    "    def empty(self):\n",
    "        if self.first.empty() and self.second.empty():\n",
    "            return True\n",
    "        return False\n",
    "\n",
    "    def enqueue(self, data):\n",
    "        self.first.push(data)\n",
    "        \n",
    "    ## 유저 프로그래머에게 공개 안하고 내부 클래스로 처리할 경우 앞에  __붙여준다.\n",
    "    def __shift_stack(self):\n",
    "        if self.empty():\n",
    "            return None\n",
    "        \n",
    "        if self.second.empty():\n",
    "            while not self.first.empty():\n",
    "                self.second.push(self.first.pop())\n",
    "\n",
    "    def dequeue(self):\n",
    "        self.__shift_stack()\n",
    "        return self.second.pop()\n",
    "\n",
    "    def peek(self):\n",
    "        self.__shift_stack()\n",
    "        return self.second.peek()\n",
    "\n",
    "if __name__ == \"__main__\":\n",
    "    q= SQueue()\n",
    "    q.enqueue(1)\n",
    "    q.enqueue(2)\n",
    "    q.enqueue(3)\n",
    "    q.enqueue(4)\n",
    "    q.enqueue(5)\n",
    "\n",
    "    while not q.empty():\n",
    "        print(q.dequeue(), end= '  ')"
   ]
  }
 ],
 "metadata": {
  "kernelspec": {
   "display_name": "Python 3",
   "language": "python",
   "name": "python3"
  },
  "language_info": {
   "codemirror_mode": {
    "name": "ipython",
    "version": 3
   },
   "file_extension": ".py",
   "mimetype": "text/x-python",
   "name": "python",
   "nbconvert_exporter": "python",
   "pygments_lexer": "ipython3",
   "version": "3.7.3"
  }
 },
 "nbformat": 4,
 "nbformat_minor": 2
}
