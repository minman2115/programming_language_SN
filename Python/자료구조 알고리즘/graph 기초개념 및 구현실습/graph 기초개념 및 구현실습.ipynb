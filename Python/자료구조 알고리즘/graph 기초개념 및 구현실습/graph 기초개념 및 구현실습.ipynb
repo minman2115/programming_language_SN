{
 "cells": [
  {
   "cell_type": "markdown",
   "metadata": {},
   "source": [
    "#### 그림, 실습코드 등 학습자료 출처 : https://github.com/ythwork\n",
    "\n",
    "#### 1. 그래프 개요\n",
    "\n",
    "- 그래프 G는 두 집합 V,E로 나타낸다.\n",
    "\n",
    "1) V(G) : 노드 혹은 정점(vertex)의 집합\n",
    "\n",
    "2) E(G) : 정점간을 잇는 edge의 집합\n",
    "\n",
    "- 그래프의 특징\n",
    "\n",
    "1) 자기간선(self-edge)를 가질 수 없다.\n",
    "\n",
    "다시말해 (v,v) or <v,v>를 가질 수 없다.\n",
    "\n",
    "2) 두 정점 사이에 같은 에지를 여러개 가질 수 없다.\n",
    "\n",
    "이런 특징이 있는 그래프를 다중그래프라고 한다.\n",
    "\n",
    "#### 2. 그래프의 종류\n",
    "\n",
    "1) 무방향 그래프"
   ]
  },
  {
   "cell_type": "markdown",
   "metadata": {},
   "source": [
    "<img src=\"1.png\" width=\"700\" />"
   ]
  },
  {
   "cell_type": "markdown",
   "metadata": {},
   "source": [
    "2) 방향 그래프"
   ]
  },
  {
   "cell_type": "markdown",
   "metadata": {},
   "source": [
    "<img src=\"2.png\" width=\"700\" />"
   ]
  },
  {
   "cell_type": "markdown",
   "metadata": {},
   "source": [
    "#### 3. adjacent와 incident"
   ]
  },
  {
   "cell_type": "markdown",
   "metadata": {},
   "source": [
    "<img src=\"3.png\" width=\"700\" />"
   ]
  },
  {
   "cell_type": "markdown",
   "metadata": {},
   "source": [
    "#### 4. 경로와 길이"
   ]
  },
  {
   "cell_type": "markdown",
   "metadata": {},
   "source": [
    "<img src=\"4.png\" width=\"700\" />"
   ]
  },
  {
   "cell_type": "markdown",
   "metadata": {},
   "source": [
    "#### 5. cycle과 connected"
   ]
  },
  {
   "cell_type": "markdown",
   "metadata": {},
   "source": [
    "<img src=\"5.png\" width=\"700\" />"
   ]
  },
  {
   "cell_type": "markdown",
   "metadata": {},
   "source": [
    "#### 6. degree(차수) : 정점 v에 부속된 에지의 수\n",
    "\n",
    "아래의 경우 차수는?"
   ]
  },
  {
   "cell_type": "markdown",
   "metadata": {},
   "source": [
    "<img src=\"6.png\" width=\"300\" />"
   ]
  },
  {
   "cell_type": "markdown",
   "metadata": {},
   "source": [
    "#### 7. in-degree와 out-degree"
   ]
  },
  {
   "cell_type": "markdown",
   "metadata": {},
   "source": [
    "<img src=\"7.png\" width=\"700\" />"
   ]
  },
  {
   "cell_type": "markdown",
   "metadata": {},
   "source": [
    "#### 8. subgraph(부분그래프)와 spanning subgraph (신장부분그래프)"
   ]
  },
  {
   "cell_type": "markdown",
   "metadata": {},
   "source": [
    "<img src=\"8.png\" width=\"700\" />"
   ]
  },
  {
   "cell_type": "markdown",
   "metadata": {},
   "source": [
    "임의의 그래프 G에 대한 부분그래프중에서 모든 정점과 연결된 부분 그래프를 말한다.\n",
    "\n",
    "#### 9. 그래프 표현"
   ]
  },
  {
   "cell_type": "markdown",
   "metadata": {},
   "source": [
    "<img src=\"9.png\" width=\"700\" />"
   ]
  },
  {
   "cell_type": "markdown",
   "metadata": {},
   "source": [
    "#### 10. Graph traversal(그래프 순회)\n",
    "\n",
    "#### 그래프 G에서 한 정점 v가 주어졌을때 모든 정점을 중복되지 않게 방문하는 것\n",
    "\n",
    "1) 너비우선탐색(BFS, Breadth first search)\n",
    "\n",
    "- 트리에서 큐를 이용한 레벨순서순회가 예시다.\n",
    "\n",
    "\n",
    "- 정점 v에서 시작하여 인접한 정점을 모두 방문하고 방문한 인접 정점에 대해서 모든 인접한 정점을 방문하는 방식, 큐를 이용함"
   ]
  },
  {
   "cell_type": "markdown",
   "metadata": {},
   "source": [
    "<img src=\"10.png\" width=\"700\" />"
   ]
  },
  {
   "cell_type": "markdown",
   "metadata": {},
   "source": [
    "2) 깊이우선탐색(DFS, Depth first search)\n",
    "\n",
    "- 트리에서 스택을 이용한 전위,중위, 후위 순회가 예시다.\n",
    "\n",
    "\n",
    "- 정점 v에서 시작하여 방문하지 않은 정점 중 한 방향으로 쭉 따라간 후 다시 돌아와 방문하지 않은 다른 정점을 따라 다시 쭉 따라간다. 처음 시작한 정점에 돌아오고 더 이상 방문할 정점이 남아있지 않다면 종료"
   ]
  },
  {
   "cell_type": "markdown",
   "metadata": {},
   "source": [
    "<img src=\"11.png\" width=\"700\" />"
   ]
  },
  {
   "cell_type": "markdown",
   "metadata": {},
   "source": [
    "step 1) 3번이 스타트 위치라고 치자, 현재 위치에서 3 스텍 프레임이 쌓인다. top이 3을 가리킴. top이 현재 가리키는 것이 현재 위치라고 할 수 있다.\n",
    "\n",
    "step 2) 그리고 0번으로 이동한다고 하면 0 스텍프레임이 3스텍 프레임 위로 쌓인다. top이 0을 가리킴\n",
    "\n",
    "step 3) 그 다음에 1로 이동한다고 하면 1번이 가장 위의 스텍프레임으로 쌓이게 된다. top이 1을 가리킴.\n",
    "\n",
    "- 파이썬 코드로 구현실습\n",
    "\n",
    "graph representation을 이용하여 구현할 수 있어야 한다."
   ]
  },
  {
   "cell_type": "code",
   "execution_count": 1,
   "metadata": {},
   "outputs": [],
   "source": [
    "from queue1 import Queue\n",
    "from stack1 import Stack\n",
    "\n",
    "class GNode:\n",
    "    def __init__(self, vertex=None):\n",
    "        self.vertex=vertex\n",
    "        self.link=None\n",
    "\n",
    "class Graph:\n",
    "    def __init__(self):\n",
    "        #인접 리스트로 구현\n",
    "        self.adjacency_list=[]\n",
    "        #방문 여부 체크\n",
    "        self.visited=[]\n",
    "\n",
    "    def add_vertex(self, vnum=1):\n",
    "        self.adjacency_list.extend([None for _ in range(vnum)])\n",
    "        self.visited.extend([False for _ in range(vnum)])\n",
    "    \n",
    "    def __add_node(self, vertex, node):\n",
    "        cur=self.adjacency_list[vertex]\n",
    "        #아직 에지가 하나도 없다면\n",
    "        if not cur:\n",
    "            self.adjacency_list[vertex]=node\n",
    "        else:\n",
    "            while cur.link:\n",
    "                cur=cur.link\n",
    "            cur.link=node\n",
    "\n",
    "    def insert_edge(self, u, v):\n",
    "        unode=GNode(u)\n",
    "        vnode=GNode(v)\n",
    "\n",
    "        self.__add_node(u, vnode)\n",
    "        self.__add_node(v, unode)\n",
    "\n",
    "    def init_visited(self):\n",
    "        for i in range(len(self.visited)):\n",
    "            self.visited[i]=False\n",
    "\n",
    "    def bfs(self, v):\n",
    "        \n",
    "        ## step1) 큐를 하나만든다.\n",
    "        ## step2) 큐에다가 첫번째 인덱스(시작 정점)를 삽입한다.\n",
    "        ## step3) visited라는 array에 전부 false로 채워져 있는데\n",
    "        ##        visited의 v에 True를 할당한다.\n",
    "        ## step4) 큐가 비어있을때까지 while문이 돌것이다.\n",
    "        ## step5) 큐에서 v를 하나 받아오는데 이 방식을 큐에서 dequeue하는 방식\n",
    "        ## step6) v를 방문했다고 체크 (print문)\n",
    "        ## step7) adjacency_list를 u로 할당하여 얻어온다.\n",
    "        ## step8) u가 방문하지 않았으면 visited를 True로 바꿔준다.\n",
    "        ## step9) u를 u.link로 만들어준다.\n",
    "        \n",
    "        q=Queue()\n",
    "        #방문 체크 리스트를 초기화한다\n",
    "        #O(v)\n",
    "        self.init_visited()\n",
    "\n",
    "        #첫번째 정점을 큐에 넣고\n",
    "        #방문 체크\n",
    "        q.enqueue(v)\n",
    "        self.visited[v]=True\n",
    "        \n",
    "        # 방문\n",
    "        print(v, end=\"  \")\n",
    "\n",
    "        while not q.empty():\n",
    "            v=q.dequeue()\n",
    "            #인접 리스트를 얻어온다\n",
    "            u=self.adjacency_list[v]\n",
    "            while u:\n",
    "                #아직 방문하지 않은 노드라면\n",
    "                #큐에 넣고 방문 체크!\n",
    "                if not self.visited[u.vertex]:\n",
    "                    q.enqueue(u.vertex)\n",
    "                    self.visited[u.vertex]=True\n",
    "                u=u.link\n",
    "\n",
    "    def __dfs_recursion(self, v):\n",
    "        #방문\n",
    "        print(v, end=\"  \")\n",
    "        #방문 체크\n",
    "        self.visited[v]=True\n",
    "\n",
    "        u=self.adjacency_list[v]\n",
    "        while u:\n",
    "            if not self.visited[u.vertex]:\n",
    "                self.__dfs_recursion(u.vertex)\n",
    "            u=u.link\n",
    "\n",
    "    def dfs(self, v):\n",
    "        self.init_visited()\n",
    "        self.__dfs_recursion(v)\n",
    "\n",
    "    def iter_dfs(self, v):\n",
    "        ## iter : 결국에는 while문이나for문 쓰겠다.\n",
    "        ## v는 스타팅 포인트\n",
    "        \n",
    "        \"\"\"\n",
    "        시작 정점으로 돌아가 \n",
    "        더 이상 방문할 정점이 없어야 종료\n",
    "        \"\"\"\n",
    "        \n",
    "        s=Stack() \n",
    "        # 스텍을 이용할 것이기 때문에 스텍을 하나 만듬\n",
    "        \n",
    "        self.init_visited() \n",
    "        ## 내부적으로 visited라는 함수를 이용해서 visit 배열을 false로 초기화\n",
    "\n",
    "        s.push(v)\n",
    "        ## 방문 체크 및 방문\n",
    "        self.visited[v]=True\n",
    "        print(v, end=\"  \")\n",
    "\n",
    "        ## 스텍이 비어있지 않는 이상 계속 반복됨\n",
    "        while not s.empty():\n",
    "            \n",
    "            is_moved = False\n",
    "            \n",
    "            v = s.peek()\n",
    "            ## pop을 한다는 것은 스텍을 날려서 전단계로 돌아간다는 \n",
    "            ## 의미니까 아직은 그럴 단계는 아니고 그냥 peek로 현재 위치를 받아옴\n",
    "            \n",
    "            ## v와 연결된 모든 인접 리스트를 받아온다.\n",
    "            u = self.adjacency_list[v]\n",
    "            ## u로 받아온것은 adjacency의 single_linked_list로 되어 있다.\n",
    "            \n",
    "            while u:\n",
    "                \n",
    "                if not self.visited[u.vertex]:\n",
    "                    ## u가 아직 방문하지 않았다면\n",
    "                    \n",
    "                    s.push(u.vertex)\n",
    "                    #방문 체크 및 방문\n",
    "                    \n",
    "                    self.visited[u.vertex]=True\n",
    "                    ## 다음 노드로 이동했다는 것을 의미함\n",
    "                    \n",
    "                    print(u.vertex, end=\"  \")\n",
    "                    #아직 방문하지 않은 정점을 방문했으므로\n",
    "                    \n",
    "                    is_moved=True\n",
    "                    ## 방문했다는 의미는 이동을 했다는 의미이므로 is_moved를\n",
    "                    ## True로 만든다.\n",
    "                    \n",
    "                    break\n",
    "                    \n",
    "                u = u.link\n",
    "            \n",
    "            if not is_moved: \n",
    "                ## while을 빠져나왔음에도 불구하고 is_move가 false라는 의미는\n",
    "                ## 이동할 곳이 없다는 의미이므로 pop해서 back해주면 된다.\n",
    "                s.pop()\n",
    "                \n",
    "\n",
    "## < visited >\n",
    "## 배열이고 노드 6개가 [F,F,F,F,F,F]로 되어 있으며 인덱스가 vertex다\n",
    "## 방문했으면 False가 True로 바뀐다\n",
    "\n",
    "## < is_moved >\n",
    "## 노드가 갈 수 있는 곳을 다 갔는가를 체크하는 용도\n",
    "\n",
    "g=Graph()\n",
    "g.add_vertex(6)\n",
    "g.insert_edge(1, 0)\n",
    "g.insert_edge(0, 3)\n",
    "g.insert_edge(3, 4)\n",
    "g.insert_edge(4, 2)\n",
    "g.insert_edge(2, 5)"
   ]
  },
  {
   "cell_type": "markdown",
   "metadata": {},
   "source": [
    "- BFS"
   ]
  },
  {
   "cell_type": "code",
   "execution_count": 3,
   "metadata": {},
   "outputs": [
    {
     "name": "stdout",
     "output_type": "stream",
     "text": [
      "3  0  4  1  2  5  "
     ]
    }
   ],
   "source": [
    "#예상 출력 결과 : 3  0  4  1  2  5\n",
    "g.bfs(3)"
   ]
  },
  {
   "cell_type": "markdown",
   "metadata": {},
   "source": [
    "- DFS"
   ]
  },
  {
   "cell_type": "code",
   "execution_count": 4,
   "metadata": {},
   "outputs": [
    {
     "name": "stdout",
     "output_type": "stream",
     "text": [
      "3  0  1  4  2  5  "
     ]
    }
   ],
   "source": [
    "#예상 출력 결과 : 3  0  1  4  2  5\n",
    "g.dfs(3)"
   ]
  },
  {
   "cell_type": "markdown",
   "metadata": {},
   "source": [
    "- iter_DFS"
   ]
  },
  {
   "cell_type": "code",
   "execution_count": 5,
   "metadata": {},
   "outputs": [
    {
     "name": "stdout",
     "output_type": "stream",
     "text": [
      "3  0  1  4  2  5  "
     ]
    }
   ],
   "source": [
    "g.iter_dfs(3)"
   ]
  }
 ],
 "metadata": {
  "kernelspec": {
   "display_name": "Python 3",
   "language": "python",
   "name": "python3"
  },
  "language_info": {
   "codemirror_mode": {
    "name": "ipython",
    "version": 3
   },
   "file_extension": ".py",
   "mimetype": "text/x-python",
   "name": "python",
   "nbconvert_exporter": "python",
   "pygments_lexer": "ipython3",
   "version": "3.7.3"
  }
 },
 "nbformat": 4,
 "nbformat_minor": 2
}
