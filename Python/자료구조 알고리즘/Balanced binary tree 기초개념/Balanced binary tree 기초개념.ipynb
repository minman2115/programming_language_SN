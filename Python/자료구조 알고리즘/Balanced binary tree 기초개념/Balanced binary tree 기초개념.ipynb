{
 "cells": [
  {
   "cell_type": "markdown",
   "metadata": {},
   "source": [
    "#### 그림, 실습코드 등 학습자료 출처 : https://github.com/ythwork\n",
    "\n",
    "### 균형이진트리 등장배경\n",
    "\n",
    "- BST는 일반적으로 인서트, 서치, 딜리트가 O(log n)으로 처리하는 좋은 구조이다.\n",
    "\n",
    "\n",
    "- 그러나 BST는 키값을 어떻게 넣느냐에 따라 아래와 같이 최악의 경우로 구성되는 경우가 있다. 이 경우 O(n)이 된다. 이것은 우리가 원하는 자료구조가 아니다."
   ]
  },
  {
   "cell_type": "markdown",
   "metadata": {},
   "source": [
    "<img src=\"1.png\" width=\"500\" />"
   ]
  },
  {
   "cell_type": "markdown",
   "metadata": {},
   "source": [
    "#### 데이터를 어떻게 넣든지 자기가 균형있게 구현하는게 균형이진트리이다.\n",
    "\n",
    "\"노드가 insert 되거나 delete되면 알아서 균형을 맞춰줄 수는 없을까?\"라는 고민에서 나온 아이디어다."
   ]
  },
  {
   "cell_type": "markdown",
   "metadata": {},
   "source": [
    "<img src=\"2.png\" width=\"1000\" />"
   ]
  },
  {
   "cell_type": "markdown",
   "metadata": {},
   "source": [
    "### 균형이진트리 종류\n",
    "\n",
    "1) AVL\n",
    "\n",
    "2) 레드블랙 트리\n",
    "\n",
    "3) B tree\n",
    "\n",
    "4) B+ tree\n",
    "\n",
    "5) 2-3 tree\n",
    "\n",
    "6) 2-3-4 tree\n",
    "\n",
    "5),6)은 Btree의 특수한 케이스이다."
   ]
  }
 ],
 "metadata": {
  "kernelspec": {
   "display_name": "Python 3",
   "language": "python",
   "name": "python3"
  },
  "language_info": {
   "codemirror_mode": {
    "name": "ipython",
    "version": 3
   },
   "file_extension": ".py",
   "mimetype": "text/x-python",
   "name": "python",
   "nbconvert_exporter": "python",
   "pygments_lexer": "ipython3",
   "version": "3.7.3"
  }
 },
 "nbformat": 4,
 "nbformat_minor": 2
}
