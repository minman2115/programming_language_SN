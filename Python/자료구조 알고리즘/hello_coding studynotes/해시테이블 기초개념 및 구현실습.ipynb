{
 "cells": [
  {
   "cell_type": "markdown",
   "metadata": {},
   "source": [
    "ㅇ 학습 시 참고한 도서정보\n",
    "\n",
    "- 제목 : Hello Coding 그림으로 개념을 이해하는 알고리즘\n",
    "\n",
    "\n",
    "- 저자&출판사 : 아디트야 바르가바 지음, 김도형 옮김 / 한빛미디어\n",
    "\n",
    "#### 개요\n",
    "\n",
    "- 해시 테이블은 사전을 구현하는 가장 효율적인 자료구조이다.\n",
    "\n",
    "\n",
    "- 이론적으로는 해시테이블에서 원소를 찾는 것이 연결 리스트에서 원소를 찾는 것(O(n)) 만큼 오래 걸릴 수 있지만, 실제 해싱은 성능이 탁월하다.\n",
    "\n",
    "\n",
    "- 일반적으로 해시 테이블에서 원소를 찾는 데 걸리는 수행시간은 O(1)이다.\n",
    "\n",
    "\n",
    "- 해시 테이블은 단순한 표현인 배열을 일반화 한 것이다.\n",
    "\n",
    "\n",
    "- 일반적인 배열에 대한 직접 번지화 방법은 배열의 임의의 위치를 O(1)안에 접근하게 하는 효율적인 방법이다.\n",
    "\n",
    "\n",
    "- 해시테이블의 핵심\n",
    "\n",
    "헤시테이블은 속도가 빠르고 여러가지로 모형화가 가능한 강력한 자료구조이다.\n",
    "\n",
    "1) 헤시테이블은 해시함수와 배열을 결합해서 만든다.\n",
    "\n",
    "해시함수 : string을 입력했을때 숫자를 반환하는 함수. 보통 파이썬에서는 딕셔너리를 활용한다.\n",
    "\n",
    "\n",
    "2) 충돌은 나쁜현상이다. 충돌을 줄이는 해시함수가 있어야한다. 하지만 우리가 고민할 깊이는 아니다.\n",
    "\n",
    "\n",
    "3) 헤시테이블은 정말 빠른 탐색,삽입,삭제 속도를 가진다.\n",
    "\n",
    "\n",
    "4) 헤시테이블은 어떤 항목과 다른 항목의 관계를 모형화 하는데 좋다.\n",
    "\n",
    "\n",
    "5) 헤시테이블의 사용률이 0.7보다 커지면 헤시테이블을 리사이징할 때다.\n",
    "\n",
    "\n",
    "6) 헤시테이블은 (웹서버 등에서) 데이터를 캐싱하는데도 사용된다.\n",
    "\n",
    "서버에게 작업을 시키지 않고 자료를 캐싱할 수 있다.\n",
    "\n",
    "모든 대형 웹 사이트는 캐싱을 사용한다. 그리고 그 자료는 헤시테이블에 저장된다.\n",
    "     \n",
    "7) 헤시테이블 중복을 잡아내는데도 뛰어나다.\n",
    "\n",
    "#### 파이썬 코드구현\n",
    "\n",
    "예시) 투표소에서 투표하는 사람을 관리해보자"
   ]
  },
  {
   "cell_type": "code",
   "execution_count": 1,
   "metadata": {
    "scrolled": false
   },
   "outputs": [
    {
     "name": "stdout",
     "output_type": "stream",
     "text": [
      "let them vote!\n",
      "{'tom': True}\n",
      "let them vote!\n",
      "{'tom': True, 'mike': True}\n",
      "kick them out!\n"
     ]
    }
   ],
   "source": [
    "voted = {}\n",
    "\n",
    "def check_voter(name):\n",
    "    if voted.get(name):\n",
    "        print(\"kick them out!\")\n",
    "    else:\n",
    "        voted[name] = True\n",
    "        print(\"let them vote!\")\n",
    "\n",
    "check_voter(\"tom\")\n",
    "print(voted)\n",
    "check_voter(\"mike\")\n",
    "print(voted)\n",
    "check_voter(\"mike\")"
   ]
  }
 ],
 "metadata": {
  "kernelspec": {
   "display_name": "Python 3",
   "language": "python",
   "name": "python3"
  },
  "language_info": {
   "codemirror_mode": {
    "name": "ipython",
    "version": 3
   },
   "file_extension": ".py",
   "mimetype": "text/x-python",
   "name": "python",
   "nbconvert_exporter": "python",
   "pygments_lexer": "ipython3",
   "version": "3.7.3"
  }
 },
 "nbformat": 4,
 "nbformat_minor": 2
}
