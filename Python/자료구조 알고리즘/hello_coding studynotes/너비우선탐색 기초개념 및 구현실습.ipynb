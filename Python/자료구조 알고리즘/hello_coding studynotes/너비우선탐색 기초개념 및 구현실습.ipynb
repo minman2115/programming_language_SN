{
 "cells": [
  {
   "cell_type": "markdown",
   "metadata": {},
   "source": [
    "ㅇ 학습 시 참고한 도서정보\n",
    "\n",
    "- 제목 : Hello Coding 그림으로 개념을 이해하는 알고리즘\n",
    "\n",
    "\n",
    "- 저자&출판사 : 아디트야 바르가바 지음, 김도형 옮김 / 한빛미디어\n",
    "\n",
    "#### 개요\n",
    "\n",
    "- 너비우선탐색은 그래프를 이용하여 \"x로 가는 최단경로는 무엇일까\"와 같은 문제에 답을 할 수 있는 알고리즘이다.\n",
    "\n",
    "\n",
    "- O(간선(edge) 개수 + 노드의 개수) => O(1)\n",
    "\n",
    "\n",
    "- 너비우선탐색은 A에서 B로 가는 경로가 있는지 알려준다.\n",
    "\n",
    "\n",
    "- 만약 경로가 존재한다면 최단 경로도 찾아준다.\n",
    "\n",
    "\n",
    "- 만약 X까지의 최단경로를 찾는 문제가 있다면 그 문제를 그래프로 모형화하고 너비우선탐색으로 문제를 풀면된다.\n",
    "\n",
    "\n",
    "- 탐색목록에 추가된 순서대로 사람을 확인해야한다. 그래서 탐색목록은 큐가 되어야 한다. 그러지 않으면 최단경로는 구할 수 없다.\n",
    "\n",
    "\n",
    "- 누군가를 확인한 다음에는 두번 확인하지 않도록 잘 조치해야한다. 아니면 무한루프에 빠질 수 있다.\n",
    "\n",
    "#### 파이썬 코드구현 망고판매상 찾기 예시"
   ]
  },
  {
   "cell_type": "code",
   "execution_count": 1,
   "metadata": {},
   "outputs": [
    {
     "name": "stdout",
     "output_type": "stream",
     "text": [
      "{'you': ['alice', 'bob', 'claire'], 'bob': ['anuj', 'peggy'], 'alice': ['peggy'], 'claire': ['thom', 'jonny'], 'anuj': [], 'peggy': [], 'thom': [], 'jonny': []}\n"
     ]
    },
    {
     "data": {
      "text/plain": [
       "'thom is a mango seller !'"
      ]
     },
     "execution_count": 1,
     "metadata": {},
     "output_type": "execute_result"
    }
   ],
   "source": [
    "graph = {}\n",
    "graph[\"you\"]  = [\"alice\",\"bob\",\"claire\"]\n",
    "graph[\"bob\"]  = [\"anuj\",\"peggy\"]\n",
    "graph[\"alice\"]  = [\"peggy\"]\n",
    "graph[\"claire\"]  = [\"thom\",\"jonny\"]\n",
    "graph[\"anuj\"] = []\n",
    "graph[\"peggy\"] = []\n",
    "graph[\"thom\"] = []\n",
    "graph[\"jonny\"] = []\n",
    "print(graph)\n",
    "\n",
    "from collections import deque\n",
    "\n",
    "def person_is_seller(name):\n",
    "    return name[-1] == 'm'\n",
    "\n",
    "def search(name):\n",
    "    search_queue = deque()\n",
    "    search_queue += graph[name]\n",
    "    searched = []\n",
    "    \n",
    "    while search_queue:\n",
    "        person = search_queue.popleft()\n",
    "        if not person in searched:\n",
    "            if person_is_seller(person):\n",
    "                return person + \" is a mango seller !\"\n",
    "            else : \n",
    "                search_queue += graph[person]\n",
    "                searched.append(person)\n",
    "                \n",
    "    return \"no mango seller !\"\n",
    "\n",
    "search('you')"
   ]
  }
 ],
 "metadata": {
  "kernelspec": {
   "display_name": "Python 3",
   "language": "python",
   "name": "python3"
  },
  "language_info": {
   "codemirror_mode": {
    "name": "ipython",
    "version": 3
   },
   "file_extension": ".py",
   "mimetype": "text/x-python",
   "name": "python",
   "nbconvert_exporter": "python",
   "pygments_lexer": "ipython3",
   "version": "3.7.3"
  }
 },
 "nbformat": 4,
 "nbformat_minor": 2
}
