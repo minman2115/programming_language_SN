{
 "cells": [
  {
   "cell_type": "markdown",
   "metadata": {},
   "source": [
    "#### 그림, 실습코드 등 학습자료 출처 : https://github.com/ythwork\n",
    "\n",
    "- OOP는 object oriented programming를 의미한다.\n",
    "\n",
    "\n",
    "- 추상화기법으로 추상화를 객체를 통해서 구현하는 것이다.\n",
    "\n",
    "\n",
    "- 객체 = 변수 + 함수\n",
    "\n",
    "\n",
    "- 관련있는 변수(데이터)와 관려있는 함수(기능,행동)를 하나로 모아두는 것 \n",
    " \n",
    " \n",
    "- oop를 구현할 때는 class로 구현한다.\n",
    "\n",
    "\n",
    "(참고로 자바는 클래스를 구현하지는 않는다. 그래서 자바로 클래스를 구현하려면 closer를 쓰면된다.)\n",
    "\n",
    "\n",
    "- 예를 들어서 아래와 같이 사람이라는 클래스를 파이썬 코드로 구현해보자"
   ]
  },
  {
   "cell_type": "code",
   "execution_count": 1,
   "metadata": {},
   "outputs": [
    {
     "data": {
      "text/plain": [
       "'cathy'"
      ]
     },
     "execution_count": 1,
     "metadata": {},
     "output_type": "execute_result"
    }
   ],
   "source": [
    "# 사람 클래스\n",
    "# 멤버 : 어떤 객체가 가지는 특성값\n",
    "# 메서드 : 객체가 가지는 기능을 표현\n",
    "\n",
    "class Person:\n",
    "    # __init__은 생성자라고 하며 객체가 생성할때 이 기능으로 만든다.\n",
    "    def __init__(self, name, age, height):\n",
    "        # 사람이라면 누구나 가지고 있는 특성에 대한 값을 정의\n",
    "        # 사람마다 특성은 갖지만 특성값은 사람마다 다르다.\n",
    "        # 아래를 인스턴스 멤버라고 한다.\n",
    "        self.name = name\n",
    "        self.age = age\n",
    "        self.height = height\n",
    "        \n",
    "    # 인스턴스 메서드 : 기능 혹은 행동\n",
    "    \n",
    "    def get_old(self):\n",
    "        self.age+=1\n",
    "        \n",
    "    def walk(self):\n",
    "        print(\"walking\") \n",
    "        \n",
    "## 객체 혹은 인스턴스\n",
    "## 위에는 사람이 어떻다는 특성을 나타낸것이지 어떤 사람을 나타내지는 않았다.\n",
    "\n",
    "## 이렇게 생성된 사람을 객체(오브젝트) 또는 인스턴스라고 한다.\n",
    "kim = Person('cathy',10,180)\n",
    "park = Person('minsu',20,170)\n",
    "\n",
    "\n",
    "kim.get_old()\n",
    "park.get_old()\n",
    "## 객체와 클래스는 다른 존재이고\n",
    "## 객체는 클래스를 참조해서 만들게 된다.\n",
    "## 각각은 서로 다른 메모리 공간에 저장된다.\n",
    "\n",
    "kim.name"
   ]
  },
  {
   "cell_type": "markdown",
   "metadata": {},
   "source": [
    "- 위에 구현한 코드는 외부에서 인스턴스 멤버에 바로 접근하는데 사실 이런 경우는 전형적으로 안좋은 케이스라고 할 수 있다. 이렇게 구현하면 안된다.\n",
    "\n",
    "\n",
    "- 외부에서 어떤 객체의 인스턴스 멤버에 접근할때 바로 접근하지 않고 가능하면 함수 또는 메서드로 접근해야 한다. 인스턴스 멤버에 바로 접근할때는 유저 프로그래머가 실수를 할 수 있기 때문이다.\n",
    "\n",
    "\n",
    "- 예를 들어 나이를 양수값만 입력해야 하는데 마이너스값으로 입력한다던가, 이름에 숫자를 입력한다던가 이런문제가 발생하면 프로그램 원천적으로 문제가 발생할 수 있다.\n",
    "\n",
    "- 위에 구현한것처럼 하지 않으려먼 사람 클래스에 get_name이라는 함수를 만들어서 함수로 이름을 호출하면 된다."
   ]
  },
  {
   "cell_type": "code",
   "execution_count": 2,
   "metadata": {},
   "outputs": [
    {
     "data": {
      "text/plain": [
       "'cathy'"
      ]
     },
     "execution_count": 2,
     "metadata": {},
     "output_type": "execute_result"
    }
   ],
   "source": [
    "class Person:\n",
    "    def __init__(self, name, age, height):\n",
    "        self.name = name\n",
    "        self.age = age\n",
    "        self.height = height\n",
    "    \n",
    "    def get_name(self):\n",
    "        return self.name\n",
    "    \n",
    "    def set_age(self, age):\n",
    "        if age <= 0:\n",
    "            print(\"나이를 잘못 입력했습니다.\")\n",
    "            return\n",
    "        self.age = age\n",
    "        \n",
    "    def get_age(self):\n",
    "        return self.age\n",
    "    \n",
    "    def get_old(self):\n",
    "        self.age+=1\n",
    "        \n",
    "    def walk(self):\n",
    "        print(\"walking\")   \n",
    "\n",
    "kim = Person('cathy',10,180)\n",
    "\n",
    "kim.get_name()"
   ]
  },
  {
   "cell_type": "markdown",
   "metadata": {},
   "source": [
    "- 이렇게 나이를 잘못입력했을때 함수내부에서 걸러주는 기능이 있다면 사용자의 실수를 차단할 수 있다. 그래서 외부에서 인스턴트 멤버에 바로 접근하는 것을 막는 이유다.\n",
    "\n",
    "\n",
    "- 아래와 같이 프로그램 사용자가 실수로 나이를 -50이라고 입력할 수 있는 경우가 있는데, 위와 같이 프로그램을 구현하면 프로그래밍을 하는 입장에서 원천적으로 이런 실수가 일어나는 것을 막아줄 수 있다."
   ]
  },
  {
   "cell_type": "code",
   "execution_count": 3,
   "metadata": {},
   "outputs": [
    {
     "name": "stdout",
     "output_type": "stream",
     "text": [
      "나이를 잘못 입력했습니다.\n"
     ]
    }
   ],
   "source": [
    "kim.set_age(-50)"
   ]
  },
  {
   "cell_type": "markdown",
   "metadata": {},
   "source": [
    "- 그런데 유저프로그래머들은 대부분 \"다 필요없고 그냥 직접 접근하는 방법처럼 쓰고 싶어\" 한다. \n",
    "\n",
    "\n",
    "- 그래서 마치 멤버에 바로 접근하는 것처럼 보이지만 내부적으로는 property라는 것을 이용해서 함수를 호출해서 접근하는 방법을 구현할 수 있다.\n",
    "\n",
    "\n",
    "- 아래와 같이 setter나 getter라는 것이 있는데 이런 기능을 access function이라고 한다.\n",
    "\n",
    "\n",
    "- 예를 들어서 setter는 멤버를 변경하고 싶을때 쓸 수 있고 \n",
    "\n",
    "ex) kim.set_age(50)\n",
    "\n",
    "\n",
    "- 예를 들어서 getter 멤버에 접근하고 싶을때 쓸 수 있다. \n",
    "\n",
    "ex) yang.get_name(), yang.get_age()\n",
    "\n",
    "\n",
    "- property를 이용한 person 구현 예시"
   ]
  },
  {
   "cell_type": "code",
   "execution_count": 4,
   "metadata": {},
   "outputs": [
    {
     "data": {
      "text/plain": [
       "20"
      ]
     },
     "execution_count": 4,
     "metadata": {},
     "output_type": "execute_result"
    }
   ],
   "source": [
    "class Person:\n",
    "    def __init__(self, name, age, height):\n",
    "        self.name = name\n",
    "        self.__age = age\n",
    "        self.height = height\n",
    "    \n",
    "    def get_name(self):\n",
    "        return self.name\n",
    "    \n",
    "    ## 함수이름이 유저 프로그래머가 멤버라고 생각하고 호출하는 이름\n",
    "    ## 그냥 property만 붙이면 getter이다.\n",
    "    @property\n",
    "    def age(self):\n",
    "        return self.__age\n",
    "        \n",
    "    @age.setter    \n",
    "    def age(self,age):\n",
    "        \n",
    "        if age <= 0:\n",
    "            print(\"잘못된 값이 입력되었습니다.\")\n",
    "            return\n",
    "        \n",
    "        self.__age = age\n",
    "    \n",
    "    def get_old(self):\n",
    "        self.age+=1\n",
    "        \n",
    "    def walk(self):\n",
    "        print(\"walking\")   \n",
    "\n",
    "kim = Person('cathy',10,180)\n",
    "\n",
    "kim.age = 20\n",
    "\n",
    "kim.age"
   ]
  },
  {
   "cell_type": "markdown",
   "metadata": {},
   "source": [
    "[기타 OOP에서 알고 있어야하는 개념]"
   ]
  },
  {
   "cell_type": "markdown",
   "metadata": {},
   "source": [
    "1) garbage collection\n",
    "\n",
    "\n",
    "- 메모리 관리에 관한 얘기이다.\n",
    "\n",
    "\n",
    "- 쓸모 없어진 메모리 관리하는 것으로 파이썬은 reference count로 가비지 컬랙션을 구현했다.\n",
    "\n",
    "\n",
    "- C언어는 메모리를 할당해주면 일일히 다 삭제해주는 코드가 필요하다.\n",
    "  \n",
    "  \n",
    "2) 파이썬의 reference count\n",
    "\n",
    "- ex) a = 10   ==> reference count = 1\n",
    "\n",
    "\n",
    "- ex) a = 10, b = 10 ==> reference count = 2 \n",
    "\n",
    "\n",
    "- ex)  a = 10, b = 10, c = 10 ==> reference count = 3 \n",
    "\n",
    "\n",
    "- ex)\n",
    "\n",
    "a = 10\n",
    "\n",
    "b = 10\n",
    "\n",
    "c = 10\n",
    "\n",
    "del c\n",
    "    \n",
    "==> reference count = 2\n",
    "\n",
    "- 이런식으로 변수를 다 삭제해서 더이상 10을 가리키는게 아무것도 없으면 10은 reference count = 0 이 되어 메모리에서 자동으로 삭제된다.\n",
    "\n",
    "\n",
    "- 참고로 자주 할당하는 데이터는 메모리에 미리 만들어놓았다. 파이선을 만든 개발자들이 예를들어 1이나 작은 숫자들은 아무래도 자주쓰이기 때문에 메모리에 미리 만들어놓았다.\n",
    "\n",
    "\n",
    "- reference count 예시"
   ]
  },
  {
   "cell_type": "code",
   "execution_count": 5,
   "metadata": {},
   "outputs": [
    {
     "data": {
      "text/plain": [
       "4"
      ]
     },
     "execution_count": 5,
     "metadata": {},
     "output_type": "execute_result"
    }
   ],
   "source": [
    "a = 'hello'\n",
    "\n",
    "import sys\n",
    "\n",
    "b = a\n",
    "\n",
    "sys.getrefcount(a)"
   ]
  },
  {
   "cell_type": "code",
   "execution_count": 6,
   "metadata": {},
   "outputs": [
    {
     "data": {
      "text/plain": [
       "2"
      ]
     },
     "execution_count": 6,
     "metadata": {},
     "output_type": "execute_result"
    }
   ],
   "source": [
    "del b\n",
    "\n",
    "sys.getrefcount(a)"
   ]
  },
  {
   "cell_type": "code",
   "execution_count": 7,
   "metadata": {},
   "outputs": [
    {
     "ename": "NameError",
     "evalue": "name 'a' is not defined",
     "output_type": "error",
     "traceback": [
      "\u001b[1;31m---------------------------------------------------------------------------\u001b[0m",
      "\u001b[1;31mNameError\u001b[0m                                 Traceback (most recent call last)",
      "\u001b[1;32m<ipython-input-7-54f892929e6e>\u001b[0m in \u001b[0;36m<module>\u001b[1;34m\u001b[0m\n\u001b[0;32m      1\u001b[0m \u001b[1;32mdel\u001b[0m \u001b[0ma\u001b[0m\u001b[1;33m\u001b[0m\u001b[1;33m\u001b[0m\u001b[0m\n\u001b[0;32m      2\u001b[0m \u001b[1;33m\u001b[0m\u001b[0m\n\u001b[1;32m----> 3\u001b[1;33m \u001b[0msys\u001b[0m\u001b[1;33m.\u001b[0m\u001b[0mgetrefcount\u001b[0m\u001b[1;33m(\u001b[0m\u001b[0ma\u001b[0m\u001b[1;33m)\u001b[0m\u001b[1;33m\u001b[0m\u001b[1;33m\u001b[0m\u001b[0m\n\u001b[0m",
      "\u001b[1;31mNameError\u001b[0m: name 'a' is not defined"
     ]
    }
   ],
   "source": [
    "del a\n",
    "\n",
    "sys.getrefcount(a)"
   ]
  },
  {
   "cell_type": "markdown",
   "metadata": {},
   "source": [
    "3) ADT(Abstract Data Type) 추상자료형\n",
    "\n",
    "- 어떤 자료구조의 내부구조를 말한다.\n",
    "\n",
    "\n",
    "- 이 자료구조가 가지는 기능(오퍼레이션), 역할을 의미한다.\n",
    "\n",
    "\n",
    "- 기능은 결국에는 함수로 구현한다.\n",
    "\n",
    "\n",
    "- 간단하게 ADT를 정의하자면 내가 사용하는 자료구조의 함수의 사용법이다.\n",
    "\n",
    "\n",
    "- 실제 정의는 그 내부구조가 어떻게 구현되어 있는지, 기능은 어떻게 되어있는지에 관한 것이다.\n",
    "\n",
    "\n",
    "- list.append의 ADT 예시"
   ]
  },
  {
   "cell_type": "code",
   "execution_count": 8,
   "metadata": {
    "scrolled": true
   },
   "outputs": [
    {
     "name": "stdout",
     "output_type": "stream",
     "text": [
      "Help on method_descriptor:\n",
      "\n",
      "append(self, object, /)\n",
      "    Append object to the end of the list.\n",
      "\n"
     ]
    }
   ],
   "source": [
    "help(list.append)"
   ]
  }
 ],
 "metadata": {
  "kernelspec": {
   "display_name": "Python 3",
   "language": "python",
   "name": "python3"
  },
  "language_info": {
   "codemirror_mode": {
    "name": "ipython",
    "version": 3
   },
   "file_extension": ".py",
   "mimetype": "text/x-python",
   "name": "python",
   "nbconvert_exporter": "python",
   "pygments_lexer": "ipython3",
   "version": "3.7.3"
  }
 },
 "nbformat": 4,
 "nbformat_minor": 2
}
