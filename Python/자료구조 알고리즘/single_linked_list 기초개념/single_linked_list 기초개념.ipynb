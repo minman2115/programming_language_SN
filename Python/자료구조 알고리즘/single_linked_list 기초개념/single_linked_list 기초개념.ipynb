{
 "cells": [
  {
   "cell_type": "markdown",
   "metadata": {},
   "source": [
    "#### 그림, 실습코드 등 학습자료 출처 : https://github.com/ythwork\n",
    "\n",
    "\n",
    "- 현업에서 얘기하는 링크드리스트는 대부분 더미 더블 링크드 리스트를 의미한다.\n",
    "\n",
    "\n",
    "- single linked list : 여기서 싱글은 링크가 가리키는게 하나만 있다는 얘기이다.\n",
    "\n",
    "\n",
    "- single linked list의 구성요소\n",
    "\n",
    "1) 노드 클래스\n",
    "\n",
    "데이터를 저장하는 틀\n",
    "\n",
    "노드의 두가지요소 \n",
    "\n",
    "data : 실제로 저장하고자 하는 데이터\n",
    "\n",
    "next : 다음 노드를 가리키는 참조"
   ]
  },
  {
   "cell_type": "markdown",
   "metadata": {},
   "source": [
    "<img src=\"1.png\" width=\"400\" />"
   ]
  },
  {
   "cell_type": "markdown",
   "metadata": {},
   "source": [
    "2) SingleLinkedList 클래스\n",
    "\n",
    "- 인스턴스 멤버 \n",
    "\n",
    "head : 리스트의 첫번째 노드를 가리킴\n",
    "\n",
    "d_size : 리스트의 요소개수\n",
    "\n",
    "- ADT\n",
    "\n",
    "operations\n",
    "\n",
    "S.empty() : Boolean을 return하는데 리스트가 비어있으면 True, 아니면 False\n",
    "\n",
    "S.size() : integer를 return하는데 리스트에 있는 요소 개수\n",
    "\n",
    "S.add() : 아무것도 반환하지 않고, 노드를 리스트의 맨 앞에 추가한다.\n",
    "\n",
    "S.search(target) : Node를 반환하는데 리스트에서 target을 찾는다. 찾으면 노드를, 못찾으면 None을 반환한다.\n",
    "\n",
    "S.delete() : 아무것도 반환하지 않고 맨 앞의 노드를 삭제한다.\n",
    "\n",
    "ADT 상세\n",
    "\n",
    "1) 삽입 -> add\n",
    "\n",
    "s.add(data)->None\n",
    "\n",
    "case 1) 데이터가 비어있을때\n",
    "\n",
    "헤드=None 일것이고 그 상태에서 new를 만들면 새로운 노드가 데이터가 들어갈 것이다. 그리고 그 헤더가 new 노드를 가리키면 끝이다.\n",
    "\n",
    "case 2) 데이터가 비어있지 않을때\n",
    "\n",
    "기존에 데이터가 있을것이다. \n",
    "\n",
    "step1) 새로운 데이터를 만든다. 그 데이터는 None을 가리키고 있을 것이다. \n",
    "\n",
    "tep2) 이 new node의 넥스트를 헤드를 가리키게한다.\n",
    "\n",
    "step3) 헤드를 뉴 노드를 가리키게 한다.\n",
    "  \n",
    "2) 삭제 -> delete\n",
    "\n",
    "s.delete()-> Node\n",
    "\n",
    "3) 탐색 -> search\n",
    "\n",
    "cur를 이용해서 찾는다. 순회를 이용해서 찾는다. 순회 : 특정 자료구조에 저장되어 있는 모든데이터를 방문하는 것\n",
    "\n",
    "s.search(target) -> 찾는게 있으면 그 노드를 반환하고 아니면 None을 반환한다.\n",
    "\n",
    "- garbage collection \n",
    "\n",
    "파이썬에서 사용하지 않는 heap 메모리를 언어 또는 os차원에서 알아서 지워주는 것\n",
    "\n",
    "반면에 c는 일일히 사용하고 지워줘야 하는 번거로움이 있고 이걸 제대로 안해주면 메모리 누수가 발생한다.\n",
    "  \n",
    "이 가비지 컬렉션은 reference count(참조횟수)로 수행한다.\n",
    "\n",
    "ex) a = 10, b=a 면 레퍼런스 카운트는 2이다.\n",
    "\n",
    "레퍼런스 카운트가 0이 되는 순간 아무도 안쓰기 때문에 메모리에서 날려주는 것이 가비지 컬렉션이다.\n",
    "\n",
    "#### [작동예시]\n",
    "\n",
    "- 초기화"
   ]
  },
  {
   "cell_type": "markdown",
   "metadata": {},
   "source": [
    "<img src=\"2.png\" width=\"300\" />"
   ]
  },
  {
   "cell_type": "markdown",
   "metadata": {},
   "source": [
    "- 노드 insert 시 \n",
    "\n",
    "새 노드(new_node)를 먼저 생성한다."
   ]
  },
  {
   "cell_type": "markdown",
   "metadata": {},
   "source": [
    "<img src=\"3.png\" width=\"700\" />"
   ]
  },
  {
   "cell_type": "markdown",
   "metadata": {},
   "source": [
    "새 노드가 head를 가리키게 만든다."
   ]
  },
  {
   "cell_type": "markdown",
   "metadata": {},
   "source": [
    "<img src=\"4.png\" width=\"700\" />"
   ]
  },
  {
   "cell_type": "markdown",
   "metadata": {},
   "source": [
    "head가 새 노드를 가리키게 만든다."
   ]
  },
  {
   "cell_type": "markdown",
   "metadata": {},
   "source": [
    "<img src=\"5.png\" width=\"700\" />"
   ]
  },
  {
   "cell_type": "markdown",
   "metadata": {},
   "source": [
    "- 예를들어 target이 2일때 노드 search 시 \n",
    "\n",
    "cur가 head를 가리키게 만든다."
   ]
  },
  {
   "cell_type": "markdown",
   "metadata": {},
   "source": [
    "<img src=\"6.png\" width=\"700\" />"
   ]
  },
  {
   "cell_type": "markdown",
   "metadata": {},
   "source": [
    "cur가 리스트를 순회하면서 target과 요소를 비교한다."
   ]
  },
  {
   "cell_type": "markdown",
   "metadata": {},
   "source": [
    "<img src=\"7.png\" width=\"700\" />"
   ]
  },
  {
   "cell_type": "markdown",
   "metadata": {},
   "source": [
    "<img src=\"8.png\" width=\"700\" />"
   ]
  },
  {
   "cell_type": "markdown",
   "metadata": {},
   "source": [
    "- 노드 delete 시\n",
    "\n",
    "head를 head.next로 옮겨준다."
   ]
  },
  {
   "cell_type": "markdown",
   "metadata": {},
   "source": [
    "<img src=\"9.png\" width=\"700\" />"
   ]
  },
  {
   "cell_type": "markdown",
   "metadata": {},
   "source": [
    "- 파이썬 코드 구현 예시"
   ]
  },
  {
   "cell_type": "code",
   "execution_count": 60,
   "metadata": {},
   "outputs": [
    {
     "name": "stdout",
     "output_type": "stream",
     "text": [
      "**********\n",
      "data of 4 is deleted\n",
      "data of 3 is deleted\n",
      "데이터 삽입\n",
      "data size : 4\n",
      "1  5  4  3  \n",
      "데이터 탐색\n",
      "데이터 3 검색 성공\n",
      "데이터 삭제\n",
      "data of 1 is deleted\n",
      "data of 5 is deleted\n",
      "data size : 2\n",
      "4  3  \n",
      "**********\n"
     ]
    }
   ],
   "source": [
    "class Node:\n",
    "    def __init__(self, data = None):\n",
    "        self.__data = data\n",
    "        self.__next = None\n",
    "    \n",
    "    ## __del__은 소멸자라고 하고 객체가 메모리에서 사라질때 반드시 한번 호출하는 것\n",
    "    def __del__(self):\n",
    "        print(\"data of {} is deleted\".format(self.__data))\n",
    "\n",
    "    @property\n",
    "    def data(self):\n",
    "        return self.__data\n",
    "    \n",
    "    @data.setter\n",
    "    def data(self, data):\n",
    "        self.__data = data\n",
    "\n",
    "    @property\n",
    "    def next(self):\n",
    "        return self.__next\n",
    "\n",
    "    @next.setter\n",
    "    def next(self, next):\n",
    "        self.__next = next\n",
    "\n",
    "class SingleLinkedList:\n",
    "    def __init__(self):\n",
    "        self.head = None \n",
    "        ## 헤드는 저장되어 있는 리스트중에 첫번째를 가리키는 것이다.\n",
    "        ## 헤드는 싱글링크드리스트의 자료의 존재를 위해서도 필요하다. head가 없다면 예를들어 맨앞에 데이터의 reference count가 0이 되면서\n",
    "        ## 연쇄적으로 데이터가 가비지 컬렉션될 것이고 자료 전체가 유지되지 않을것이다.\n",
    "        self.d_size = 0 ## d_size는 이 싱글연결리스트가 갖고 있는 데이터 개수를 말한다.\n",
    "\n",
    "\n",
    "    ## 아래 empty와 size 함수는 사용자가 이 싱글연결리스트에 데이터가 비어있는지 몇개 있는지 확인할때 쓴다.\n",
    "\n",
    "    def empty(self): ## single 링크드 리스트가 비어있을때는 트루, 아니면 false\n",
    "        if self.d_size == 0:\n",
    "            return True\n",
    "        else:\n",
    "            return False\n",
    "\n",
    "    def size(self): ## integer를 반환하는데 데이터의 개수를 반환한다.\n",
    "        return self.d_size\n",
    "\n",
    "\n",
    "    ## 아래 add, search, delete 함수는 ADT 삽입, 탐색, 삭제 구현\n",
    "    \n",
    "    def add(self, data):\n",
    "        new_node = Node(data)\n",
    "        new_node.next = self.head ## 새로운 노드 next를 기존에 있던 헤드를 가리키게 한다.\n",
    "        self.head = new_node ## 헤드를 새로운 노드로 바꿔준다.\n",
    "        self.d_size += 1\n",
    "\n",
    "    def search(self, target): ## cur가 처음부터 하나씩 비교를해서 찾는다.\n",
    "        cur = self.head ## cur를 헤드를 가리키도록 한다.\n",
    "        while cur: ## cur가 있다면, 다시말해 링크드리스트를 돌면서(cur가 next를 계속하다가 None을 만나면 while문을 빠져나오게 된다.)\n",
    "            if cur.data == target:\n",
    "                return cur\n",
    "            cur = cur.next ## 순회(traversal)를 구현함\n",
    "        return None\n",
    "\n",
    "    def delete(self): ## 싱글링크드 리스트의 맨 앞을 지우게 된다.\n",
    "        self.head = self.head.next ## 기존에 데이터를 참조횟수를 0으로 만들어서 없애버림\n",
    "        self.d_size -= 1\n",
    "\n",
    "\n",
    "    ## 아래에 트레버스 함수는 ADT에는 들어가지는 않는데 \n",
    "    ## 데이터가 있으면 헤더부터 시작해서 반환해서 넘겨주는 함수 search와 비슷함\n",
    "\n",
    "    def traverse(self):\n",
    "        cur = self.head\n",
    "        while cur:\n",
    "            yield cur \n",
    "            cur = cur.next\n",
    "\n",
    "## 쇼리스트 함수는 트레버스 함수를 이용해서 리스트를 사용자에게 보여주는 함수\n",
    "## 자료구조에서 중요한 부분은 아니다.\n",
    "def show_list(slist):\n",
    "    print('data size : {}'.format(slist.size()))\n",
    "    g = slist.traverse()\n",
    "    for node in g:\n",
    "        print(node.data, end = '  ')\n",
    "    print()\n",
    "\n",
    "\n",
    "## 사용자 부분의 구현\n",
    "if __name__ == \"__main__\":\n",
    "\n",
    "    print('*'*10)\n",
    "    slist = SingleLinkedList() ## 우리가 쓸 자료구조를 하나 인스턴스를 만든다.\n",
    "\n",
    "    print('데이터 삽입')\n",
    "    slist.add(3)\n",
    "    slist.add(4)\n",
    "    slist.add(5)\n",
    "    slist.add(1)\n",
    "    show_list(slist)\n",
    "\n",
    "    print('데이터 탐색')\n",
    "    target = 3\n",
    "    res = slist.search(target)\n",
    "    if res:\n",
    "        print('데이터 {} 검색 성공'.format(res.data))\n",
    "    else:\n",
    "        print('데이터 {} 검색 실패'.format(target))\n",
    "    del res\n",
    "\n",
    "    print('데이터 삭제')\n",
    "    slist.delete()\n",
    "    slist.delete()\n",
    "    show_list(slist)\n",
    "    \n",
    "    print('*'*10)"
   ]
  }
 ],
 "metadata": {
  "kernelspec": {
   "display_name": "Python 3",
   "language": "python",
   "name": "python3"
  },
  "language_info": {
   "codemirror_mode": {
    "name": "ipython",
    "version": 3
   },
   "file_extension": ".py",
   "mimetype": "text/x-python",
   "name": "python",
   "nbconvert_exporter": "python",
   "pygments_lexer": "ipython3",
   "version": "3.7.3"
  }
 },
 "nbformat": 4,
 "nbformat_minor": 2
}
