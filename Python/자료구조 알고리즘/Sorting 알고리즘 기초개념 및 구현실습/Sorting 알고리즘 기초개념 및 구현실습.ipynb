{
 "cells": [
  {
   "cell_type": "markdown",
   "metadata": {},
   "source": [
    "#### 그림, 실습코드 등 학습자료 출처 :\n",
    "\n",
    "1) 참고사이트 : https://github.com/ythwork\n",
    "\n",
    "2) 참고서적 : Hello Coding 그림으로 개념을 이해하는 알고리즘 (아디트야 바르가바 지음, 김도형 옮김 / 한빛미디어)\n",
    "\n",
    "### 1. Quick Sort (퀵정렬)\n",
    "\n",
    "- 현업에서 많이 사용되는 빠른 정렬 기법\n",
    "\n",
    "1) 분할정복기법 (Divide and conquer)을 활용한다. \n",
    "\n",
    "(문제를 분할하여 해결, 재귀 함수를 이용)\n",
    "\n",
    "기준값을 하나 택하고 순회를 돌면서 기준값보다 작은 데이터는 좌측에, 기준값보다 큰 데이터는 우측으로 분할하고 다시 퀵 정렬을 적용한다.\n",
    "\n",
    "2) 통상 $$\\ O(nlogn) $$이고, 이미 정렬 된 데이터의 경우(최악의 경우) $$\\ O(n^2) $$ 를 보이기도 한다.\n",
    "   \n",
    "퀵소트의 경우 이미 정렬 된 데이터에 대해서 최악의 효율을 보입니다. 피벗이 한쪽 끝으로 오게 되어서 파티션을 나눌 때 균형이 완전히 무너지고 한 번 정렬에 데이터가 하나씩 떨어져 나가게 됩니다. 따라서 데이터가 n개라면 n과 거의 동일한 수의 단계를 거쳐야 합니다. 그래서 결과적으로 이미 정렬 된 데이터에 대해 효율은 $$\\ O(n^2) $$이 됩니다.\n",
    "\n",
    "3) 작동원리\n",
    "\n",
    "입력 : [7,5,3,5,4,2,8]\n",
    "\n",
    "출력 : [2,3,4,5,5,7,8]"
   ]
  },
  {
   "cell_type": "markdown",
   "metadata": {},
   "source": [
    "<img src=\"1.png\" width=\"500\" />"
   ]
  },
  {
   "cell_type": "markdown",
   "metadata": {},
   "source": [
    "4) 파이썬 코드구현"
   ]
  },
  {
   "cell_type": "code",
   "execution_count": 10,
   "metadata": {},
   "outputs": [
    {
     "name": "stdout",
     "output_type": "stream",
     "text": [
      "input :  [7, 5, 3, 5, 4, 2, 8]\n",
      "output :  [2, 3, 4, 5, 5, 7, 8]\n"
     ]
    }
   ],
   "source": [
    "import random\n",
    "\n",
    "def get_pivot_index(li, start, mid, end):\n",
    "    idx_li=[start, mid, end]\n",
    "    if li[idx_li[0]] > li[idx_li[1]]:\n",
    "        idx_li[0], idx_li[1]=idx_li[1], idx_li[0]\n",
    "    if li[idx_li[1]] > li[idx_li[2]]:\n",
    "        idx_li[1], idx_li[2]=idx_li[2], idx_li[1]\n",
    "    if li[idx_li[0]] > li[idx_li[1]]:\n",
    "        idx_li[0], idx_li[1]=idx_li[1], idx_li[0]\n",
    "    \n",
    "    return idx_li[1]\n",
    "\n",
    "def quick_sort(li, start, end):\n",
    "    if start >= end:\n",
    "        return\n",
    "    \n",
    "    left=start\n",
    "    right=end\n",
    "    \n",
    "    mid=(start+end)//2\n",
    "    pivot_idx=get_pivot_index(li, start, mid, end)\n",
    "    li[mid], li[pivot_idx]=li[pivot_idx], li[mid]\n",
    "\n",
    "    pivot=li[mid]\n",
    "    while left <= right:\n",
    "        while li[left] < pivot:\n",
    "            left+=1\n",
    "        while li[right] > pivot:\n",
    "            right-=1\n",
    "        \n",
    "        if left <= right:\n",
    "            li[left], li[right]=li[right], li[left]\n",
    "            left+=1\n",
    "            right-=1\n",
    "\n",
    "    quick_sort(li, start, right)\n",
    "    quick_sort(li, left, end)\n",
    "\n",
    "if __name__==\"__main__\":\n",
    "    data=[7,5,3,5,4,2,8]\n",
    "    print(\"input : \", data)\n",
    "    quick_sort(data, 0, len(data)-1)\n",
    "    print(\"output : \", data)"
   ]
  },
  {
   "cell_type": "markdown",
   "metadata": {},
   "source": [
    "- 빅오계산"
   ]
  },
  {
   "cell_type": "markdown",
   "metadata": {},
   "source": [
    "<img src=\"2.png\" width=\"500\" />"
   ]
  },
  {
   "cell_type": "markdown",
   "metadata": {},
   "source": [
    "### 2. Bubble Sort (거품정렬)\n",
    "\n",
    "- 서로 인접한 두 원소를 검사하여 정렬하는 알고리즘\n",
    "\n",
    "\n",
    "- 인접한 2개의 레코드를 비교하여 크기가 순서대로 되어 있지 않으면 서로 교환한다.\n",
    "\n",
    "\n",
    "- 구현하기 쉬운 것이 특징이다.\n",
    "\n",
    "\n",
    "- 작동원리\n",
    "\n",
    "입력 : [7,2,4,9]\n",
    "\n",
    "출력 : [2,4,7,9]"
   ]
  },
  {
   "cell_type": "markdown",
   "metadata": {},
   "source": [
    "<img src=\"3.png\" width=\"500\" />"
   ]
  },
  {
   "cell_type": "markdown",
   "metadata": {},
   "source": [
    "- 파이썬 코드 구현"
   ]
  },
  {
   "cell_type": "code",
   "execution_count": 9,
   "metadata": {},
   "outputs": [
    {
     "name": "stdout",
     "output_type": "stream",
     "text": [
      "input :  [7, 2, 4, 9]\n",
      "output :  [2, 4, 7, 9]\n"
     ]
    }
   ],
   "source": [
    "import random\n",
    "\n",
    "def bubble_sort(li):\n",
    "    n=len(li)\n",
    "    for i in range(n-1):\n",
    "        for j in range(n-i-1):\n",
    "            if li[j] > li[j+1]:\n",
    "                li[j], li[j+1]=li[j+1], li[j]\n",
    "\n",
    "if __name__==\"__main__\":\n",
    "    data=[7,2,4,9]\n",
    "    print(\"input : \",data)\n",
    "    bubble_sort(data)\n",
    "    print(\"output : \", data)"
   ]
  },
  {
   "cell_type": "markdown",
   "metadata": {},
   "source": [
    "- 빅오계산\n",
    "\n",
    "데이터 개수가 4개일때\n",
    "\n",
    "7 9 비교 ,2 9 비교, 4 9비교 3번\n",
    "\n",
    "7 2 비교, 7 4 비교 2번\n",
    "\n",
    "2 4 비교 1번\n",
    "\n",
    "총 6번 비교\n",
    "\n",
    "등차수열로 늘어나게 되므로 빅오는 O(n제곱) 이다.\n",
    "\n",
    "다시말해 데이터가 많아질수록 엄청나게 늘어나게 된다.\n",
    "\n",
    "### 3. Selection Sort (선택정렬)\n",
    "\n",
    "- 빅오 : $$\\ O(n^2) $$\n",
    "\n",
    "- 최소값을 선택하는 과정을 반복해서 선택 정렬이라 부른다고 한다.\n",
    "\n",
    "step1) 주어진 리스트 중에 최솟값을 찾는다.\n",
    "\n",
    "step2) 그 값을 맨 앞에 위치한 값과 교체한다.\n",
    "    \n",
    "step3) 맨 처음 위치를 뺀 나머지 리스트를 같은 방법으로 교체한다.\n",
    "\n",
    "- 파이썬 코드구현"
   ]
  },
  {
   "cell_type": "code",
   "execution_count": 11,
   "metadata": {},
   "outputs": [
    {
     "name": "stdout",
     "output_type": "stream",
     "text": [
      "정렬 전 최초 리스트 : [9382, 1201, 6871, 7670, 2424, 2215, 11, 157, 4188, 9456]\n",
      "정렬 후 리스트 : [11, 157, 1201, 2215, 2424, 4188, 6871, 7670, 9382, 9456]\n"
     ]
    }
   ],
   "source": [
    "import random\n",
    "\n",
    "def findSmallest(li):\n",
    "    smallest = li[0]\n",
    "    smallest_index = 0\n",
    "\n",
    "    for idx in range(1,len(li)):\n",
    "        if li[idx] < smallest:\n",
    "            smallest = li[idx]\n",
    "            smallest_index = idx\n",
    "    \n",
    "    return smallest_index\n",
    "\n",
    "def selectionSort(li):\n",
    "    \n",
    "    result = []\n",
    "    \n",
    "    for count in range(len(li)):\n",
    "        smallest = findSmallest(li)\n",
    "        result.append(li.pop(smallest))\n",
    "        \n",
    "    return print(\"정렬 후 리스트 :\", result)\n",
    "\n",
    "\n",
    "li = [random.randint(1,10000) for data in range(10)]\n",
    "print(\"정렬 전 최초 리스트 :\", li )\n",
    "\n",
    "selectionSort(li)"
   ]
  }
 ],
 "metadata": {
  "kernelspec": {
   "display_name": "Python 3",
   "language": "python",
   "name": "python3"
  },
  "language_info": {
   "codemirror_mode": {
    "name": "ipython",
    "version": 3
   },
   "file_extension": ".py",
   "mimetype": "text/x-python",
   "name": "python",
   "nbconvert_exporter": "python",
   "pygments_lexer": "ipython3",
   "version": "3.7.3"
  }
 },
 "nbformat": 4,
 "nbformat_minor": 2
}
