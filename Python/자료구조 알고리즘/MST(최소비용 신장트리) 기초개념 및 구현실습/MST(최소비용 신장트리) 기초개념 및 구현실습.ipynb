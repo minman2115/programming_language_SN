{
 "cells": [
  {
   "cell_type": "markdown",
   "metadata": {},
   "source": [
    "#### 그림, 실습코드 등 학습자료 출처 : https://github.com/ythwork\n",
    "\n",
    "#### 1. spanning tree (신장트리)\n",
    "\n",
    "- 그래프에서 모든 정점이 연결되어 있지만 사이클이 존재하지 않는 그래프를 말한다. 다시말해서 모든 정점을 모두 포함하는 트리를 신장 트리라고 한다.\n",
    "\n",
    "\n",
    "- 트리의 특수한 형태로 모든 정점들이 연결되어 있어야 하고 사이클이 있어서는 안된다, n개의 정점을 정확히 (n-1)개의 간선으로 연결된다.\n",
    "\n",
    "\n",
    "- 트리의 정점이 파생되어 나온 그래프와 같다\n",
    "\n",
    "\n",
    "- 그래프 관련 기초용어\n",
    "\n",
    "1) 에지의 수 : 정점의 수 - 1\n",
    "\n",
    "\n",
    "2) 무방향\n",
    "\n",
    "u --- v\n",
    "\n",
    "(u,v) = (v,u) \n",
    "\n",
    "3) 방향 \n",
    "\n",
    "u ---> v\n",
    "   \n",
    "<u,v> != <v,u>\n",
    "\n",
    "4) 비용이란 엣지를 이동할때의 가중치들의 합을 말한다.\n",
    "\n",
    "#### 2. minimum cost spanning tree(최소비용 신장트리)\n",
    "\n",
    "1) 무방향 그래프이다.\n",
    "\n",
    "2) 가중치 그래프이다.\n",
    "\n",
    "3) 가중치 cost가 최소가 되야한다.\n",
    "\n",
    "#### 3. minimum cost spanning tree(최소비용 신장트리)를 구현하기 위한 알고리즘\n",
    "\n",
    "- 최소 비용신장트리를 구현하기 위한 알고리즘 = 탐욕 알고리즘\n",
    "\n",
    "1) kruskal 알고리즘\n",
    "\n",
    "2) prim 알고리즘\n",
    "\n",
    "3) sollin 알고리즘\n",
    "\n",
    "- 탐욕 알고리즘이란\n",
    "\n",
    "큰 문제에 대한 최적해를 찾기 위해서 그때그때마다 그 지역별로 최적해를 선택하면 그 지역해를 다 더했을때 전역 최적해에 근접한다는 이론이다.\n",
    "\n",
    "지역적 최적 선택의 모음이므로 전역적인 최적해라는 보장이 없다.\n",
    "\n",
    "- 탐욕 알고리즘의 실패 예시\n",
    "\n",
    "아래그림에서 최대 합을 구하는 문제"
   ]
  },
  {
   "cell_type": "markdown",
   "metadata": {},
   "source": [
    "<img src=\"1.png\" width=\"700\" />"
   ]
  },
  {
   "cell_type": "markdown",
   "metadata": {},
   "source": [
    "#### 4. 탐욕 알고리즘이 잘 먹히기 위한 조건\n",
    "\n",
    "1) greedy choice property\n",
    "\n",
    "지역최적해를 선택해 나가면 전역 최적해에 도달 할 수 있다.\n",
    "\n",
    "locally optimal choices lead to globally optimal choice\n",
    "\n",
    "2) optimal substructure\n",
    "\n",
    "전역적인 문제가 부분으로 쪼개도 그 부분에 대해서도 최적해를 포함한다.\n",
    "\n",
    "문제에 대한 최적해가 부분 문제에 대한 최적해를 포함할 때\n",
    "\n",
    "tip) 실제 현업에서 쓸때는 choice property를 만족한다는 것을 보장해야 탐욕알고리즘을 쓸 수 있다.\n",
    "\n",
    "#### 5. MST가 어떻게 choice property를 만족시키는가\n",
    "\n",
    "- 단순화가정\n",
    "\n",
    "1) edge 가중치는 서로 다르다. 왜냐하면 에지가 같은 경우에 MST가 여러개 나오는 경우가 생길 수 있기 때문이다. \n",
    "\n",
    "2) 그래프는 연결되어 있다.\n",
    "\n",
    "3) 그래서 MST의 존재하며 유일하다는 가정\n",
    "\n",
    "#### 6. Cut 이란"
   ]
  },
  {
   "cell_type": "markdown",
   "metadata": {},
   "source": [
    "<img src=\"2.png\" width=\"700\" />"
   ]
  },
  {
   "cell_type": "markdown",
   "metadata": {},
   "source": [
    "컷 지점을 지나가는 것을 크로싱엣지라고 한다.\n",
    "\n",
    "- cut property"
   ]
  },
  {
   "cell_type": "markdown",
   "metadata": {},
   "source": [
    "<img src=\"3.png\" width=\"700\" />"
   ]
  },
  {
   "cell_type": "markdown",
   "metadata": {},
   "source": [
    "각 스테이지에서 가중치가 가장 작은것을 선택한다는 것은 컷 프로퍼티와 초이스 프로퍼티다.\n",
    "\n",
    "(0,2)는 반드시 E(T)에 포함될 것이다.\n",
    "\n",
    "#### 7. Greedy MST algorithm\n",
    "\n",
    "선택된 edge가 crossing edge가 되지 않는 cut을 찾은 다음에 crossing edge 중 가중치가 가장 작은 edge를 찾아 선택한다.\n",
    "\n",
    "\n",
    "step 1) 0번부터 출발하는데 사용자 임의로 컷을 나눈다.\n",
    "\n",
    "step 2) 컷을 나누고 다음 스테이지로 넘어가는데 가장 작은 2를 선택할 것이다.\n",
    "\n",
    "step 3) 또 다시 컷을 임의로 설정하고 크로싱 에지중 가장 작은 것을 고른다.\n",
    "\n",
    "이런식으로 진행한다."
   ]
  },
  {
   "cell_type": "markdown",
   "metadata": {},
   "source": [
    "<img src=\"4.png\" width=\"1000\" />"
   ]
  },
  {
   "cell_type": "markdown",
   "metadata": {},
   "source": [
    "결론적으로 위의 그림에서 9번 step과 같이  사이클이 없고, 코스트가 최소가 되는 루트를 찾았다.\n",
    "\n",
    "#### 8. MST 만드는 방법\n",
    "\n",
    "1) connected로 만듬\n",
    "\n",
    "2) 반드시 트리여야하고\n",
    "\n",
    "3) 모든 엣지들의 가중치를 합쳤을때 반드시 최소가 되야 한다.\n",
    "\n",
    "- 그렇다면 크루스칼과 프림은 무슨차이일까\n",
    "\n",
    "1) 어떻게 컷을 선택할 것인가.\n",
    "\n",
    "2) 어떻게 가중치가 가장 작은 에지를 찾은것일까.\n",
    "\n",
    "에 따라서 이 두 알고리즘이 구분이 된다.\n",
    "\n",
    "#### 9. Disjoint set(분리집합)\n",
    "\n",
    "트리의 일종으로 우리는 파이썬으로 집합을 구현하기 위해 set이 아니라 이 분리 집합을 이용할 것이다. \n",
    "\n",
    "포레스트가 분리집합이라고 할 수 있다.\n",
    "\n",
    "i 가 vertex(정점)이고\n",
    "\n",
    "parent라는 배열이 있을때 parent[i]가 부모라는 의미다.\n",
    "\n",
    "루트는 음수로 표현했다.\n",
    "\n",
    "사이클이 생기는지 안생기는지 확인할때 find를 쓰고\n",
    "\n",
    "사이클이 없으면 union으로 합칠것이다."
   ]
  },
  {
   "cell_type": "markdown",
   "metadata": {},
   "source": [
    "<img src=\"10.png\" width=\"1000\" />"
   ]
  },
  {
   "cell_type": "markdown",
   "metadata": {},
   "source": [
    "- 파이썬 코드구현 실습"
   ]
  },
  {
   "cell_type": "code",
   "execution_count": 1,
   "metadata": {},
   "outputs": [
    {
     "name": "stdout",
     "output_type": "stream",
     "text": [
      "[4, 2, -5, 1, 2]\n"
     ]
    }
   ],
   "source": [
    "class DisjointSet:\n",
    "    def __init__(self, vnum):\n",
    "        self.parent=[-1 for _ in range(vnum)]\n",
    "\n",
    "    def simple_find(self, i):\n",
    "        while self.parent[i] >= 0:\n",
    "            i=self.parent[i]\n",
    "        return i\n",
    "\n",
    "    def simple_union(self, i, j):\n",
    "        self.parent[i]=j\n",
    "\n",
    "    def collapsing_find(self, i):\n",
    "        root=trail=lead=None\n",
    "        #find the root\n",
    "        root=i\n",
    "        while self.parent[root] >= 0:\n",
    "            root=self.parent[root]\n",
    "\n",
    "        #make all nodes to children of the root\n",
    "        trail=i\n",
    "        while trail != root:\n",
    "            lead=self.parent[trail]\n",
    "            self.parent[trail]=root\n",
    "            trail=lead\n",
    "\n",
    "        return root\n",
    "\n",
    "    def weighted_union(self, i, j):\n",
    "        \"\"\"\n",
    "        paremeters i, j must be roots!\n",
    "        if size[i] < size[j] then parent[i]=j\n",
    "        \"\"\"\n",
    "        #abs(parent[i])=size[i]\n",
    "        #temp_cnt is negative and the sum of size[i], size[j]\n",
    "        temp_cnt=self.parent[i]+self.parent[j]\n",
    "\n",
    "        #size[i] < size[j] : consider signs!!\n",
    "        if self.parent[i] > self.parent[j]:\n",
    "            self.parent[i]=j\n",
    "            self.parent[j]=temp_cnt\n",
    "        #size[i] > size[j]\n",
    "        else:\n",
    "            self.parent[j]=i\n",
    "            self.parent[i]=temp_cnt\n",
    "\n",
    "if __name__==\"__main__\":\n",
    "    ds=DisjointSet(5)\n",
    "\n",
    "    # ds.simple_union(4, 2)\n",
    "    # ds.simple_union(0, 4)\n",
    "    # ds.simple_union(1, 0)\n",
    "    # ds.simple_union(3, 1)\n",
    "    # print(ds.parent)\n",
    "\n",
    "    # print(ds.simple_find(4), ds.simple_find(0),\n",
    "    #     ds.simple_find(1), ds.simple_find(3))\n",
    "\n",
    "    # print(ds.collapsing_find(3))\n",
    "    # print(ds.parent)\n",
    "\n",
    "    ds.simple_union(4, 2)\n",
    "    ds.simple_union(0, 4)\n",
    "    ds.simple_union(3, 1)\n",
    "    ds.parent[2]=-3\n",
    "    ds.parent[1]=-2\n",
    "\n",
    "    ds.weighted_union(2, 1)\n",
    "    print(ds.parent)"
   ]
  },
  {
   "cell_type": "markdown",
   "metadata": {},
   "source": [
    "#### 10. kruskal 알고리즘\n",
    "\n",
    "\n",
    "step 1) edge를 가중치가 작은 것에서 큰 것 순으로 정렬"
   ]
  },
  {
   "cell_type": "markdown",
   "metadata": {},
   "source": [
    "<img src=\"5.png\" width=\"700\" />"
   ]
  },
  {
   "cell_type": "markdown",
   "metadata": {},
   "source": [
    "step 2) 트리에 에지를 하나씩 추가"
   ]
  },
  {
   "cell_type": "markdown",
   "metadata": {},
   "source": [
    "<img src=\"6.png\" width=\"700\" />"
   ]
  },
  {
   "cell_type": "markdown",
   "metadata": {},
   "source": [
    "같은 집합이 아니면 사이클이 아니라는 것을 알 수 있다."
   ]
  },
  {
   "cell_type": "markdown",
   "metadata": {},
   "source": [
    "<img src=\"7.png\" width=\"1000\" />"
   ]
  },
  {
   "cell_type": "markdown",
   "metadata": {},
   "source": [
    "step 3) 사이클이 생기면 아래 그림과 같이 추가하지 않는다."
   ]
  },
  {
   "cell_type": "markdown",
   "metadata": {},
   "source": [
    "<img src=\"8.png\" width=\"1000\" />"
   ]
  },
  {
   "cell_type": "markdown",
   "metadata": {},
   "source": [
    "step 4) 최소비용 신장 트리가 완성되면 |E| = |V|-1"
   ]
  },
  {
   "cell_type": "markdown",
   "metadata": {},
   "source": [
    "<img src=\"9.png\" width=\"700\" />"
   ]
  },
  {
   "cell_type": "markdown",
   "metadata": {},
   "source": [
    "- 파이썬 코드구현 실습"
   ]
  },
  {
   "cell_type": "code",
   "execution_count": 2,
   "metadata": {},
   "outputs": [
    {
     "name": "stdout",
     "output_type": "stream",
     "text": [
      "(0, 2) : 2\n",
      "(3, 4) : 4\n",
      "(1, 2) : 5\n",
      "(2, 3) : 7\n",
      "(3, 5) : 14\n"
     ]
    }
   ],
   "source": [
    "class GNode:\n",
    "    def __init__(self, vertex=None, weight=None):\n",
    "        self.vertex=vertex\n",
    "        self.weight=weight\n",
    "        self.link=None\n",
    "\n",
    "class Edge:\n",
    "    def __init__(self, v1, v2, weight):\n",
    "        self.v1=v1\n",
    "        self.v2=v2\n",
    "        self.weight=weight\n",
    "\n",
    "class Graph:\n",
    "    def __init__(self):\n",
    "        self.adjacency_list=[]\n",
    "        self.edge_list=[]\n",
    "\n",
    "        self.vertex_num=0\n",
    "\n",
    "    def add_vertex(self, vnum=1):\n",
    "        self.adjacency_list.extend([None for _ in range(vnum)])\n",
    "        self.vertex_num+=vnum\n",
    "    \n",
    "    def __add_node(self, vertex, node):\n",
    "        cur=self.adjacency_list[vertex]\n",
    "        if not cur:\n",
    "            self.adjacency_list[vertex]=node\n",
    "        else:\n",
    "            while cur.link:\n",
    "                cur=cur.link\n",
    "            cur.link=node\n",
    "\n",
    "    def insert_edge(self, u, v, weight):\n",
    "        unode=GNode(u, weight)\n",
    "        vnode=GNode(v, weight)\n",
    "\n",
    "        self.__add_node(u, vnode)\n",
    "        self.__add_node(v, unode)\n",
    "\n",
    "        self.edge_list.append(Edge(u, v, weight))\n",
    "\n",
    "    def MST_kruskal(self):\n",
    "        #최종적으로 만들어질 MST\n",
    "        mst=Graph(); mst.add_vertex(self.vertex_num)        \n",
    "        #분리집합 : 사이클 형성 검사를 할 정점 집합\n",
    "        ds=DisjointSet(self.vertex_num)\n",
    "        #가중치에 따라 에지를 정렬\n",
    "        self.edge_list.sort(key=lambda e: e.weight)\n",
    "        #mst에 속하는 에지의 수\n",
    "        mst_edge_num=0\n",
    "        #정렬된 에지 리스트에서 인덱스\n",
    "        edge_idx=0\n",
    "        \n",
    "        #|TE| = |TV|-1이면 종료\n",
    "        while mst_edge_num < self.vertex_num-1:\n",
    "            #가중치가 작은 순서대로 에지를 가져온다\n",
    "            edge=self.edge_list[edge_idx]\n",
    "            \n",
    "            #FIND(u) != FIND(v)이면 사이클을 형성하지 않는다\n",
    "            # 즉 사이클을 형성하지 않는다면\n",
    "            if ds.collapsing_find(edge.v1) != ds.collapsing_find(edge.v2):\n",
    "                #TE=TE U {(u, v)}\n",
    "                mst.insert_edge(edge.v1, edge.v2, edge.weight)\n",
    "                #UNION(u, v)\n",
    "                ds.weighted_union(ds.collapsing_find(edge.v1), ds.collapsing_find(edge.v2))\n",
    "                mst_edge_num+=1\n",
    "            edge_idx+=1\n",
    "\n",
    "        return mst\n",
    "\n",
    "    def print_edges(self):\n",
    "        for edge in self.edge_list:\n",
    "            print(\"({}, {}) : {}\".format(edge.v1, edge.v2, edge.weight))\n",
    "            \n",
    "g=Graph()\n",
    "g.add_vertex(6)\n",
    "\n",
    "g.insert_edge(0, 1, 10)\n",
    "g.insert_edge(0, 2, 2)\n",
    "g.insert_edge(0, 3, 8)\n",
    "g.insert_edge(1, 2, 5)\n",
    "g.insert_edge(1, 4, 12)\n",
    "g.insert_edge(2, 3, 7)\n",
    "g.insert_edge(2, 4, 17)\n",
    "g.insert_edge(3, 4, 4)\n",
    "g.insert_edge(3, 5, 14)\n",
    "\n",
    "mst=g.MST_kruskal()\n",
    "mst.print_edges()"
   ]
  },
  {
   "cell_type": "markdown",
   "metadata": {},
   "source": [
    "#### 11. prim 알고리즘\n",
    "\n",
    "\n",
    "1) 정점 하나를 가진 트리에서 시작한다.\n",
    "\n",
    "TV = {v1} 여기서 TV는 트리의 정점\n",
    "\n",
    "2) 트리 내의 정점 u와 트리 밖의 정점 v를 잇는 에지 중 최소 비용을 가진 (u,v)를 트리 에지로 만든다. TE = TE{(u,v)}\n",
    "\n",
    "3) 트리 밖의 정점 v도 트리의 정점으로 만든다.\n",
    "\n",
    "TV = TVu{v}\n",
    "\n",
    "4) TV = V(G)와 같아지면 종료한다.\n",
    "\n",
    "트리 내의 정점u와 트리 밖의 정점 v를 잇는 에지를 선택하므로 사이클은 형성되지 않는다."
   ]
  },
  {
   "cell_type": "markdown",
   "metadata": {},
   "source": [
    "<img src=\"11.png\" width=\"1000\" />"
   ]
  },
  {
   "cell_type": "markdown",
   "metadata": {},
   "source": [
    "<img src=\"12.png\" width=\"1000\" />"
   ]
  },
  {
   "cell_type": "markdown",
   "metadata": {},
   "source": [
    "- prim 알고리즘 수도코드"
   ]
  },
  {
   "cell_type": "markdown",
   "metadata": {},
   "source": [
    "<img src=\"13.png\" width=\"700\" />"
   ]
  },
  {
   "cell_type": "markdown",
   "metadata": {},
   "source": [
    "- Min heap"
   ]
  },
  {
   "cell_type": "markdown",
   "metadata": {},
   "source": [
    "<img src=\"14.png\" width=\"1000\" />"
   ]
  },
  {
   "cell_type": "markdown",
   "metadata": {},
   "source": [
    "<img src=\"15.png\" width=\"1000\" />"
   ]
  },
  {
   "cell_type": "markdown",
   "metadata": {},
   "source": [
    "- min heap을 이용한 prim 알고리즘 수도코드"
   ]
  },
  {
   "cell_type": "markdown",
   "metadata": {},
   "source": [
    "<img src=\"16.png\" width=\"700\" />"
   ]
  },
  {
   "cell_type": "markdown",
   "metadata": {},
   "source": [
    "- 파이썬 코드구현 실습\n",
    "\n",
    "먼저 Prim 구현을 위한 min heap 구현실습"
   ]
  },
  {
   "cell_type": "code",
   "execution_count": 3,
   "metadata": {},
   "outputs": [],
   "source": [
    "class Element:\n",
    "    def __init__(self, v, w, _from):\n",
    "        self.w=w\n",
    "        self.v=v\n",
    "        self._from=_from\n",
    "\n",
    "class MinHeap:\n",
    "    MAX_ELEMENTS=200\n",
    "    def __init__(self):\n",
    "        self.arr=[None for i in range(self.MAX_ELEMENTS)]\n",
    "        self.heapsize=0\n",
    "        #정점이 arr에 위치한 현재 인덱스\n",
    "        self.pos=[None for i in range(self.MAX_ELEMENTS)]\n",
    "\n",
    "    def is_empty(self):\n",
    "        if self.heapsize==0:\n",
    "            return True\n",
    "        return False\n",
    "\n",
    "    def is_full(self):\n",
    "        if self.heapsize>=self.MAX_ELEMENTS:\n",
    "            return True\n",
    "        return False\n",
    "\n",
    "    def __get_parent_idx(self, idx):\n",
    "        return idx // 2\n",
    "\n",
    "    def __get_left_child_idx(self, idx):\n",
    "        return idx * 2\n",
    "\n",
    "    def __get_right_child_idx(self, idx):\n",
    "        return idx * 2 + 1\n",
    "\n",
    "    def push(self, item):\n",
    "        if self.is_full():\n",
    "            raise IndexError(\"the heap is full!!\")\n",
    "\n",
    "        self.heapsize+=1\n",
    "        cur_idx=self.heapsize\n",
    "\n",
    "        #cur_idx가 루트가 아니고\n",
    "        #item의 w가 cur_idx 부모의 키보다 작으면\n",
    "        while cur_idx!=1 and item.w < self.arr[self.__get_parent_idx(cur_idx)].w:\n",
    "            #리프 노드로 추가된 새로운 원소의 weight가 부모의 원소의 weight보다 \n",
    "            #더 작으면 부모 원소를 한 칸 내린다 \n",
    "            self.arr[cur_idx]=self.arr[self.__get_parent_idx(cur_idx)]\n",
    "            #아래로 내려오는 부모 원소의 위치 인덱스 업데이트\n",
    "            self.pos[self.arr[cur_idx].v]=cur_idx\n",
    "\n",
    "            cur_idx=self.__get_parent_idx(cur_idx)\n",
    "\n",
    "        self.arr[cur_idx]=item\n",
    "        self.pos[item.v]=cur_idx\n",
    "\n",
    "    def __get_smaller_child_idx(self, idx):\n",
    "        if self.heapsize < self.__get_left_child_idx(idx):\n",
    "            return None\n",
    "        elif self.heapsize==self.__get_left_child_idx(idx):\n",
    "            return self.__get_left_child_idx(idx)\n",
    "        else:\n",
    "            left_child=self.__get_left_child_idx(idx)\n",
    "            right_child=self.__get_right_child_idx(idx)\n",
    "            if self.arr[left_child].w < self.arr[right_child].w:\n",
    "                return left_child\n",
    "            else:\n",
    "                return right_child\n",
    "\n",
    "    def pop(self):\n",
    "        if self.is_empty():\n",
    "            return None\n",
    "\n",
    "        #삭제된 후 반환될 원소\n",
    "        rem_elem=self.arr[1]\n",
    "\n",
    "        #맨 마지막에 위치한 원소\n",
    "        temp=self.arr[self.heapsize]\n",
    "\n",
    "        #루트에서 시작\n",
    "        cur_idx=1\n",
    "        smaller_child_idx=self.__get_smaller_child_idx(cur_idx)\n",
    "\n",
    "        while smaller_child_idx and temp.w > self.arr[smaller_child_idx].w:\n",
    "            #마지막 원소보다 weight가 큰 정점은 루트쪽으로 한칸 올라간다\n",
    "            self.arr[cur_idx]=self.arr[smaller_child_idx]\n",
    "            \n",
    "            #이와 함께 루트쪽으로 올라간 정점의 현재 인덱스도 업데이트한다\n",
    "            self.pos[self.arr[cur_idx].v]=cur_idx\n",
    "\n",
    "            cur_idx=smaller_child_idx\n",
    "            smaller_child_idx=self.__get_smaller_child_idx(cur_idx)\n",
    "        \n",
    "        self.arr[cur_idx]=temp\n",
    "        self.pos[temp.v]=cur_idx\n",
    "\n",
    "        self.heapsize-=1\n",
    "\n",
    "        return rem_elem\n",
    "\n",
    "    def top(self):\n",
    "        if self.is_empty():\n",
    "            return None\n",
    "\n",
    "        return self.arr[1]\n",
    "\n",
    "    #프림 알고리즘을 위해 추가된 함수\n",
    "    def decrease_weight(self, new_elem):\n",
    "        #업데이트될 정점의 현재 인덱스\n",
    "        cur=self.pos[new_elem.v]\n",
    "\n",
    "        #cur가 루트가 아니고 업데이트 될 원소의 weight가\n",
    "        #부모 원소의 weight보다 작다면 부모 원소를 아래로 내리고\n",
    "        #cur가 루트 쪽으로 올라간다\n",
    "        while cur!= 1 and new_elem.w < self.arr[self.__get_parent_idx(cur)].w:\n",
    "            #업데이트 될 원소의 weight가 부모 원소의 weight보다 작다면\n",
    "            #부모 원소를 한 칸 아래로 내린다 \n",
    "            self.arr[cur]=self.arr[self.__get_parent_idx(cur)]\n",
    "\n",
    "            #내려온 원소의 위치 인덱스 업데이트\n",
    "            self.pos[self.arr[cur].v]=cur    \n",
    "\n",
    "            cur=self.__get_parent_idx(cur)\n",
    "\n",
    "        self.arr[cur]=new_elem\n",
    "        self.pos[new_elem.v]=cur\n",
    "\n",
    "def print_heap(h):\n",
    "    for i in range(1, h.heapsize+1):\n",
    "        print(\"{}\".format(h.arr[i].w), end=\"  \")\n",
    "    print()\n"
   ]
  },
  {
   "cell_type": "markdown",
   "metadata": {},
   "source": [
    "min heap 구현후 prim 알고리즘 구현실습"
   ]
  },
  {
   "cell_type": "code",
   "execution_count": 4,
   "metadata": {},
   "outputs": [
    {
     "name": "stdout",
     "output_type": "stream",
     "text": [
      "(2, 0) : 2\n",
      "(1, 2) : 5\n",
      "(3, 2) : 7\n",
      "(4, 3) : 4\n",
      "(5, 3) : 14\n"
     ]
    }
   ],
   "source": [
    "import math\n",
    "\n",
    "class GNode:\n",
    "    def __init__(self, vertex=None, weight=None):\n",
    "        self.vertex=vertex\n",
    "        self.weight=weight\n",
    "        self.link=None\n",
    "\n",
    "class Edge:\n",
    "    def __init__(self, v1, v2, weight):\n",
    "        self.v1=v1\n",
    "        self.v2=v2\n",
    "        self.weight=weight\n",
    "\n",
    "class Graph:\n",
    "    def __init__(self):\n",
    "        self.adjacency_list=[]\n",
    "        self.edge_list=[]\n",
    "\n",
    "        self.vertex_num=0\n",
    "\n",
    "    def add_vertex(self, vnum=1):\n",
    "        self.adjacency_list.extend([None for _ in range(vnum)])\n",
    "        self.vertex_num+=vnum\n",
    "    \n",
    "    def __add_node(self, vertex, node):\n",
    "        cur=self.adjacency_list[vertex]\n",
    "        if not cur:\n",
    "            self.adjacency_list[vertex]=node\n",
    "        else:\n",
    "            while cur.link:\n",
    "                cur=cur.link\n",
    "            cur.link=node\n",
    "\n",
    "    def insert_edge(self, u, v, weight):\n",
    "        unode=GNode(u, weight)\n",
    "        vnode=GNode(v, weight)\n",
    "\n",
    "        self.__add_node(u, vnode)\n",
    "        self.__add_node(v, unode)\n",
    "\n",
    "        self.edge_list.append(Edge(u, v, weight))\n",
    "\n",
    "    def get_min_v(self, w):\n",
    "        _min=math.inf\n",
    "        min_v=None\n",
    "        for i in range(self.vertex_num):\n",
    "            if w[i] < _min:\n",
    "                _min=w[i]\n",
    "                min_v=i\n",
    "        return min_v\n",
    "\n",
    "    def MST_prim1(self):\n",
    "        #TE={}\n",
    "        mst=Graph(); mst.add_vertex(self.vertex_num)\n",
    "        #TV={}\n",
    "        TV=set()\n",
    "\n",
    "        w=[math.inf for _ in range(self.vertex_num)]\n",
    "        _from=[None for _ in range(self.vertex_num)]\n",
    "\n",
    "        w[0]=0\n",
    "        #|TV| < |V|\n",
    "        while len(TV) < self.vertex_num:\n",
    "            v=self.get_min_v(w) ## 모든 버텍스를 하나하나 돌면서 작은거를 뽑아줌\n",
    "            #TV <- TV U {v}\n",
    "            TV.add(v)\n",
    "            #TE <- TE U {(v, from[v])}\n",
    "            if _from[v]!=None:\n",
    "                mst.insert_edge(v, _from[v], w[v])\n",
    "            #trick\n",
    "            w[v]=math.inf\n",
    "            #u adjacent to v\n",
    "            u=self.adjacency_list[v]\n",
    "            while u:\n",
    "                if u.vertex not in TV and u.weight < w[u.vertex]:\n",
    "                    w[u.vertex]=u.weight\n",
    "                    _from[u.vertex]=v\n",
    "                u=u.link\n",
    "        return mst\n",
    "\n",
    "    def MST_prim2(self):\n",
    "        #최종적으로 만들어질 MST\n",
    "        mst=Graph(); mst.add_vertex(self.vertex_num)\n",
    "        #TV={} : MST 정점의 집합, 시작 노드부터 하나씩 채워나간다\n",
    "        TV=set()\n",
    "\n",
    "        #w_list : 각 정점의 w 값을 담아두기 위한 배열\n",
    "        w_list=[None for _ in range(self.vertex_num)]\n",
    "        #min heap에 w와 from을 가진 정점을 담아둔다\n",
    "        #heap 초기화 : w->inf, from->None\n",
    "        h=MinHeap()\n",
    "        for i in range(1, self.vertex_num):\n",
    "            w_list[i]=math.inf\n",
    "            h.push(Element(i, math.inf, None))\n",
    "        #시작 노드인 0은 w->0, from->None\n",
    "        w_list[0]=0\n",
    "        h.push(Element(0, 0, None))\n",
    "\n",
    "        while not h.is_empty():\n",
    "            #가중치가 가장 작은 에지 (from, v) : w\n",
    "            #정보를 가진 정점 Element v\n",
    "            v=h.pop()\n",
    "            #TV에 정점을 추가\n",
    "            TV.add(v.v)\n",
    "            #TE에 에지 추가\n",
    "            if v._from != None:\n",
    "                mst.insert_edge(v.v, v._from, v.w)\n",
    "            \n",
    "            #TV에 정점이 추가되면 인접 정점 중 \n",
    "            #트리 밖에 있는 정점에 대해 업데이트 시도\n",
    "            #u는 새로 추가된 정점 v에 인접한 정점 노드\n",
    "            u=self.adjacency_list[v.v]\n",
    "            while u:\n",
    "                #u가 트리 밖의 정점이고\n",
    "                #기존 w 값보다 w(u, v)이 작다면 업데이트\n",
    "                if u.vertex not in TV and u.weight < w_list[u.vertex]:\n",
    "                    #w_list 업데이트\n",
    "                    w_list[u.vertex]=u.weight\n",
    "                    h.decrease_weight(Element(u.vertex, u.weight, v.v))\n",
    "                u=u.link\n",
    "\n",
    "        return mst\n",
    "\n",
    "    def print_edges(self):\n",
    "        for edge in self.edge_list:\n",
    "            print(\"({}, {}) : {}\".format(edge.v1, edge.v2, edge.weight))\n",
    "\n",
    "if __name__==\"__main__\":\n",
    "    g=Graph()\n",
    "    g.add_vertex(6)\n",
    "\n",
    "    g.insert_edge(0, 1, 10)\n",
    "    g.insert_edge(0, 2, 2)\n",
    "    g.insert_edge(0, 3, 8)\n",
    "    g.insert_edge(1, 2, 5)\n",
    "    g.insert_edge(1, 4, 12)\n",
    "    g.insert_edge(2, 3, 7)\n",
    "    g.insert_edge(2, 4, 17)\n",
    "    g.insert_edge(3, 4, 4)\n",
    "    g.insert_edge(3, 5, 14)\n",
    "\n",
    "    #mst=g.MST_prim1()\n",
    "    mst=g.MST_prim2()\n",
    "\n",
    "    mst.print_edges()"
   ]
  }
 ],
 "metadata": {
  "kernelspec": {
   "display_name": "Python 3",
   "language": "python",
   "name": "python3"
  },
  "language_info": {
   "codemirror_mode": {
    "name": "ipython",
    "version": 3
   },
   "file_extension": ".py",
   "mimetype": "text/x-python",
   "name": "python",
   "nbconvert_exporter": "python",
   "pygments_lexer": "ipython3",
   "version": "3.7.3"
  }
 },
 "nbformat": 4,
 "nbformat_minor": 2
}
