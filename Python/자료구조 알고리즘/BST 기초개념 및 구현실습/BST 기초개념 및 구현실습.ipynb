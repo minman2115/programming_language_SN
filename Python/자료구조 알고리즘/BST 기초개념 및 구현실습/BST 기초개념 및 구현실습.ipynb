{
 "cells": [
  {
   "cell_type": "markdown",
   "metadata": {},
   "source": [
    "#### 그림, 실습코드 등 학습자료 출처 : https://github.com/ythwork\n",
    "\n",
    "### Binary Search Tree(이진탐색트리) 개요\n",
    "\n",
    "[탐색]\n",
    "\n",
    "1) 선형탐색 : O(N)\n",
    "\n",
    "2) 이진탐색 : O(log(n)) -> 엄청 빠르다\n",
    "\n",
    "[BST의 응용]\n",
    "\n",
    "- BST는 딕셔너리를 구현하는데 많이 쓴다.\n",
    "\n",
    "ex) 파이썬의 딕셔너리가 정확히 BST이다.\n",
    "\n",
    "[딕셔너리의 구현]\n",
    "\n",
    "1) BST 이용해서 구현\n",
    "\n",
    "2) hasing (hash table) 이용해서 구현\n",
    "\n",
    "#### [BST의 특징]\n",
    "\n",
    "1) 모든 원소는 서로다른 '키'를 갖는다.\n",
    "\n",
    "(키는 반드시 유니크해야하지만 아이템은 중복되도 무방)\n",
    "\n",
    "2) 왼쪽 서브트리에 있는 모든키들은 루트의 키보다 작다.\n",
    "\n",
    "3) 오른쪽 서브트리에 있는 모든키들은 루트의 키보다 크다.\n",
    "\n",
    "(아래 그림참고)"
   ]
  },
  {
   "cell_type": "markdown",
   "metadata": {},
   "source": [
    "<img src=\"1.png\" width=\"500\" />"
   ]
  },
  {
   "cell_type": "markdown",
   "metadata": {},
   "source": [
    "4) 왼쪽 서브트리와 오른쪽 서브트리도 이진탐색 트리이다."
   ]
  },
  {
   "cell_type": "markdown",
   "metadata": {},
   "source": [
    "<img src=\"2.png\" width=\"500\" />"
   ]
  },
  {
   "cell_type": "markdown",
   "metadata": {},
   "source": [
    "[delete와 remove의 미묘한 차이점]\n",
    "\n",
    "- delete : 리스트가 있다고 하면, 특정 데이터를 뽑아서 아예 없애는것(사용자에게 반환x)\n",
    "\n",
    "\n",
    "- remove : 리스트가 있다고하면, 특정 데이터를 뽑아서 사용자에게 삭제를 할지 안할지 넘기는 것.(사용자에게 return해줌)\n",
    "\n",
    "사용자에게 반환하냐 안하냐\n",
    "\n",
    "따라서 엄밀히따지면 둘이 약간 다르다."
   ]
  },
  {
   "cell_type": "markdown",
   "metadata": {},
   "source": [
    "### BST insert, search, remove 알고리즘\n",
    "\n",
    "구현 시 고민해야할 사항\n",
    "\n",
    "- insert나 remove 오퍼레이션 후에도 이 트리가 여전히 BST인가?'\n",
    "\n",
    "\n",
    "- 예를 들어서 내가 5을 집어 넣으려고 하면 어떤 알고리즘에 의해 넣어야 하는가\n",
    "\n",
    "#### insert\n",
    "\n",
    "BST가 유지될 수 있는 여건의 공노드에 삽입해준다."
   ]
  },
  {
   "cell_type": "markdown",
   "metadata": {},
   "source": [
    "<img src=\"3.png\" width=\"1000\" />"
   ]
  },
  {
   "cell_type": "markdown",
   "metadata": {},
   "source": [
    "#### search"
   ]
  },
  {
   "cell_type": "markdown",
   "metadata": {},
   "source": [
    "<img src=\"4.png\" width=\"1000\" />"
   ]
  },
  {
   "cell_type": "markdown",
   "metadata": {},
   "source": [
    "#### remove\n",
    "\n",
    "노드를 지울때는 3가지 상황 중에 하나이다.\n",
    "\n",
    "1) 삭제할 노드가 리프노드일때\n",
    "\n",
    "2) 자식노드가 하나일때\n",
    "\n",
    "삭제가 되었을때 삭제된 놈의 자식노드를  삭제된 놈 부모노드와 이어줘야 한다.\n",
    "\n",
    "3) 자식노드가 두개일때\n",
    "\n",
    "지우는 놈 값을 대체해서 지운다.\n",
    "\n",
    "좌측 자식노드들 중에 가장 큰 수 일경우\n",
    "\n",
    "(cur를 좌측으로 한번 내려오고 우측으로 가장 쭉 내려보내면 된다)\n",
    "\n",
    "우측 자식노드들 중에 가장 작은 수 일경우\n",
    "\n",
    "(cur를 우측으로 한번 내려보내고 좌측으로 가장 쭉 내려보내면 된다)\n",
    "\n",
    "- 삭제할 노드가 리프노드일때"
   ]
  },
  {
   "cell_type": "markdown",
   "metadata": {},
   "source": [
    "<img src=\"5.png\" width=\"1000\" />"
   ]
  },
  {
   "cell_type": "markdown",
   "metadata": {},
   "source": [
    "- 자식노드가 하나일때"
   ]
  },
  {
   "cell_type": "markdown",
   "metadata": {},
   "source": [
    "<img src=\"6.png\" width=\"1000\" />"
   ]
  },
  {
   "cell_type": "markdown",
   "metadata": {},
   "source": [
    "- 자식노드가 두개일때\n",
    "\n",
    "1) 대체노드를 찾는다.\n",
    "\n",
    "삭제하는 노드를 삭제해도 BST의 특성을 유지시켜야 하기 때문에\n",
    "\n",
    "2) 대체노드와 위치교환\n",
    "\n",
    "3) 대체노드를 지운다. 대체노드는 반드시 리프이거나 자식이 하나여야 한다.\n",
    "\n",
    "6에서 3으로 내려와서 계속 오른족으로 쭉 내려가면 된다. 대체노드를 찾을때"
   ]
  },
  {
   "cell_type": "markdown",
   "metadata": {},
   "source": [
    "<img src=\"7.png\" width=\"1000\" />"
   ]
  },
  {
   "cell_type": "markdown",
   "metadata": {},
   "source": [
    "remove()함수에서 루트 노드를 업데이트하는 이유는 결국에는 BST의 특성을 유지하기 위함이다."
   ]
  },
  {
   "cell_type": "markdown",
   "metadata": {},
   "source": [
    "<img src=\"8.png\" width=\"1000\" />"
   ]
  },
  {
   "cell_type": "markdown",
   "metadata": {},
   "source": [
    "#### 위의 내용 파이썬 코드 구현"
   ]
  },
  {
   "cell_type": "code",
   "execution_count": 1,
   "metadata": {},
   "outputs": [],
   "source": [
    "from binary_tree import TreeNode \n",
    "## 구현 시 바이너리 트리구조가 필요함. \n",
    "## 'Binary tree 기초개념 및 구현실습' 노트 참고!\n",
    "\n",
    "class BST:\n",
    "    def __init__(self):\n",
    "        self.root=None\n",
    "\n",
    "    def get_root(self):\n",
    "        return self.root\n",
    "\n",
    "    def preorder_traverse(self, cur, func, *args, **kwargs):\n",
    "        if not cur:\n",
    "            return\n",
    "\n",
    "        func(cur, *args, **kwargs)\n",
    "        self.preorder_traverse(cur.left, func, *args, **kwargs)\n",
    "        self.preorder_traverse(cur.right, func, *args, **kwargs)\n",
    "\n",
    "    ## 키값이 같을때는 배제하고 작성한 insert 함수임\n",
    "    ## 원래는 키값 중복시 에러를 일으키거나 예외처리를 해줘야한다.\n",
    "    def insert(self, data):\n",
    "        new_node=TreeNode()\n",
    "        new_node.data=data\n",
    "        cur=self.root\n",
    "        \n",
    "        if not cur:\n",
    "            self.root=new_node\n",
    "            return\n",
    "        \n",
    "        ## 아직 데이터가 하나도 없으면\n",
    "        ## 새로운 노드를 루트로 만든다\n",
    "        while True:\n",
    "            \n",
    "            parent = cur\n",
    "            \n",
    "            if data < cur.data:\n",
    "                \n",
    "                cur = cur.left\n",
    "                \n",
    "                if not cur:\n",
    "                    parent.left=new_node\n",
    "                    return\n",
    "            else:\n",
    "                \n",
    "                cur = cur.right\n",
    "                \n",
    "                if not cur:\n",
    "                    parent.right=new_node\n",
    "                    return \n",
    "\n",
    "    def search(self, target):\n",
    "        cur=self.root\n",
    "        while cur:\n",
    "            if cur.data==target:\n",
    "                return cur\n",
    "            elif cur.data > target:\n",
    "                cur=cur.left\n",
    "            elif cur.data < target:\n",
    "                cur=cur.right\n",
    "        return cur\n",
    "\n",
    "    def __remove_recursion(self, cur, target):\n",
    "        ## recursion은 기저조건이 필요한데 \n",
    "        ## if not cur가 기저조건이다.\n",
    "        if not cur: \n",
    "            return None, None\n",
    "        \n",
    "        ## 타겟이 현재 커렌트의 데이터보다 크냐\n",
    "        elif target < cur.data:\n",
    "            cur.left, rem_node = self.__remove_recursion(cur.left, target)\n",
    "            \n",
    "        elif target > cur.data:\n",
    "            cur.right, rem_node = self.__remove_recursion(cur.right, target)\n",
    "            ## 인자로 커런트의 오른쪽이 들어간다. 타겟은 9로 들어간다.\n",
    "        \n",
    "        ## 타겟과 현재위치가 같을때도 기저조건이라고 할 수 있다.\n",
    "        else:\n",
    "            if not cur.left and not cur.right:\n",
    "                rem_node=cur\n",
    "                cur=None\n",
    "                \n",
    "            elif not cur.right:\n",
    "                rem_node=cur\n",
    "                cur=cur.left\n",
    "                \n",
    "            elif not cur.left:\n",
    "                rem_node=cur\n",
    "                cur=cur.right\n",
    "            \n",
    "            ## 자식노드가 두개일때\n",
    "            else:\n",
    "                replace=cur.left\n",
    "                \n",
    "                while replace.right:\n",
    "                    replace = replace.right\n",
    "                    \n",
    "                cur.data, replace.data = replace.data, cur.data\n",
    "                cur.left, rem_node = self.__remove_recursion(cur.left, replace.data)\n",
    "                \n",
    "        return cur, rem_node\n",
    "\n",
    "    def remove(self, target):\n",
    "        self.root, removed_node=self.__remove_recursion(self.root, target)\n",
    "        if removed_node:\n",
    "            removed_node.left=removed_node.right=None\n",
    "        return removed_node\n",
    "    \n",
    "bst=BST()"
   ]
  },
  {
   "cell_type": "markdown",
   "metadata": {},
   "source": [
    "- insert"
   ]
  },
  {
   "cell_type": "code",
   "execution_count": 2,
   "metadata": {},
   "outputs": [
    {
     "name": "stdout",
     "output_type": "stream",
     "text": [
      "6  3  2  4  5  8  10  9  11  "
     ]
    }
   ],
   "source": [
    "bst.insert(6)\n",
    "bst.insert(3)\n",
    "bst.insert(2)\n",
    "bst.insert(4)\n",
    "bst.insert(5)\n",
    "bst.insert(8)\n",
    "bst.insert(10)\n",
    "bst.insert(9)\n",
    "bst.insert(11)\n",
    "\n",
    "f=lambda x: print(x.data, end='  ')\n",
    "\n",
    "bst.preorder_traverse(bst.get_root(), f)"
   ]
  },
  {
   "cell_type": "markdown",
   "metadata": {},
   "source": [
    "- search"
   ]
  },
  {
   "cell_type": "code",
   "execution_count": 3,
   "metadata": {
    "scrolled": true
   },
   "outputs": [
    {
     "name": "stdout",
     "output_type": "stream",
     "text": [
      "searched data : 8\n"
     ]
    }
   ],
   "source": [
    "res=bst.search(8)\n",
    "if res:\n",
    "    print('searched data : {}'.format(res.data))\n",
    "else:\n",
    "    print('search failed')"
   ]
  },
  {
   "cell_type": "markdown",
   "metadata": {},
   "source": [
    "- delete"
   ]
  },
  {
   "cell_type": "code",
   "execution_count": 4,
   "metadata": {
    "scrolled": true
   },
   "outputs": [
    {
     "name": "stdout",
     "output_type": "stream",
     "text": [
      "data 6 is deleted\n",
      "5  3  2  4  8  10  9  11  "
     ]
    }
   ],
   "source": [
    "#지울 노드가 리프 노드일 때\n",
    "#bst.remove(9)\n",
    "#자식 노드가 하나일 때\n",
    "#bst.remove(8)\n",
    "#자식 노드가 둘일 때\n",
    "bst.remove(6)\n",
    "bst.preorder_traverse(bst.get_root(), f)"
   ]
  }
 ],
 "metadata": {
  "kernelspec": {
   "display_name": "Python 3",
   "language": "python",
   "name": "python3"
  },
  "language_info": {
   "codemirror_mode": {
    "name": "ipython",
    "version": 3
   },
   "file_extension": ".py",
   "mimetype": "text/x-python",
   "name": "python",
   "nbconvert_exporter": "python",
   "pygments_lexer": "ipython3",
   "version": "3.7.3"
  }
 },
 "nbformat": 4,
 "nbformat_minor": 2
}
