{
 "cells": [
  {
   "cell_type": "markdown",
   "metadata": {},
   "source": [
    "#### 그림, 실습코드 등 학습자료 출처 : https://github.com/ythwork\n",
    "\n",
    "#### 파이썬의 리스트를 더미더블링크드 리스트로 구현하기\n",
    "\n",
    "- 만든 더미더블 링크드 리스트를 쓰다가 내가 짠 자료구조를 변경하고자 할때 코드를 튜닝할 수도 있다.\n",
    "\n",
    "예를 들어서 파이썬의 리스트에 치명적인 오류가 생겨서 리스트를 당분간 쓰지말라는 말도안되는 파이썬 공식문서의 공지가 떴을때\n",
    "\n",
    "그런데 나는 리스트를 그대로 쓰고 싶다 ! 이럴때\n",
    "\n",
    "from pseudo_list import PseudoList\n",
    "\n",
    "li = list() 요렇게 되어 있던 기존에 리스트를\n",
    "\n",
    "li = PseudoList() 아래와 같은 코드로 대체해서 기존에 리스트처럼 쓰고자 할때\n",
    "\n",
    "\n",
    "- 인터페이스는 그대로 유지하지만 내부 구현만 대체하고자 할때 튜닝이 가능하다.\n",
    "\n",
    "\n",
    "- 실습할 pseudo_list는 interface는 파이썬의 list를 이용할 것이고, implementation은 dummy double linked list이다.\n",
    "\n",
    "\n",
    "- PseudoList 구현을 위한 dummy_double_linked_list 구현"
   ]
  },
  {
   "cell_type": "code",
   "execution_count": 1,
   "metadata": {},
   "outputs": [],
   "source": [
    "class Node:\n",
    "    def __init__(self, data = None):\n",
    "        self.__data = data\n",
    "        self.__next = None\n",
    "        self.__before = None\n",
    "        \n",
    "    def __del__(self):\n",
    "        print(\"data of {} is deleted\".format(self.data))\n",
    "        \n",
    "    @property\n",
    "    def data(self):\n",
    "        return self.__data\n",
    "    \n",
    "    @data.setter\n",
    "    def data(self,data):\n",
    "        self.__data = data\n",
    "        \n",
    "    @property\n",
    "    def next(self):\n",
    "        return self.__next\n",
    "    \n",
    "    @next.setter\n",
    "    def next(self, next):\n",
    "        self.__next = next\n",
    "        \n",
    "    @property\n",
    "    def before(self):\n",
    "        return self.__before\n",
    "    \n",
    "    @before.setter\n",
    "    def before(self,before):\n",
    "        self.__before = before\n",
    "\n",
    "class DummyDoubleLinkedList:\n",
    "    def __init__(self):\n",
    "        self.head = Node()\n",
    "        self.tail = Node()\n",
    "        self.head.next = self.tail\n",
    "        self.tail.before = self.head\n",
    "        self.d_size = 0\n",
    "        \n",
    "    def empty(self):\n",
    "        if self.d_size == 0:\n",
    "            return True\n",
    "        else:\n",
    "            return False\n",
    "        \n",
    "    def size(self):\n",
    "        return self.d_size\n",
    "    \n",
    "    ## 삽입 관련된 코드는\n",
    "    ## 코드의 순서가 중요하며 뉴 노드에 대한 next와 before를 먼저 설정한다.\n",
    "    \n",
    "    def add_first(self, data):\n",
    "        new_node=Node(data)\n",
    "        \n",
    "        new_node.next=self.head.next\n",
    "        new_node.before=self.head\n",
    "\n",
    "        self.head.next.before=new_node\n",
    "        self.head.next=new_node\n",
    "\n",
    "        self.d_size+=1\n",
    "\n",
    "    def add_last(self, data):\n",
    "        new_node=Node(data)\n",
    "\n",
    "        new_node.before=self.tail.before\n",
    "        new_node.next=self.tail\n",
    "\n",
    "        self.tail.before.next=new_node\n",
    "        self.tail.before=new_node\n",
    "\n",
    "        self.d_size+=1\n",
    "\n",
    "    def insert_after(self, data, node):\n",
    "        new_node = Node(data)\n",
    "\n",
    "        new_node.next = node.next\n",
    "        new_node.before = node\n",
    "\n",
    "        node.next.before = new_node\n",
    "        node.next = new_node\n",
    "\n",
    "        self.d_size+=1\n",
    "\n",
    "    def insert_before(self, data, node):\n",
    "        new_node = Node(data)\n",
    "\n",
    "        new_node.before = node.before\n",
    "        new_node.next = node\n",
    "\n",
    "        node.before.next = new_node\n",
    "        node.before = new_node\n",
    "\n",
    "        self.d_size+=1\n",
    "    \n",
    "    def search_forward(self, target):\n",
    "        \n",
    "        cur = self.head.next\n",
    "        \n",
    "        ## 참고로 is not 과 == 는 다르다\n",
    "        ## == 는 값이 같은가에 관한것이고\n",
    "        ## is는 같은 메모리 공간인가에 관한 것이다.\n",
    "        ## 여기서는 next가 메모리 공간을 가리키는 것에 관한것이어서 is를 쓴것이다.\n",
    "        while cur is not self.tail:\n",
    "            if cur.data == target:\n",
    "                return cur\n",
    "            cur = cur.next\n",
    "            \n",
    "        return None\n",
    "    \n",
    "    def search_backward(self, target):\n",
    "        \n",
    "        cur = self.tail.before\n",
    "        \n",
    "        while cur is not self.head:\n",
    "            if cur.data == target:\n",
    "                return cur\n",
    "            cur = cur.before        \n",
    "        return None\n",
    "    \n",
    "    ## 써치 함수는 아래와 같이 구현할 수도 있다.\n",
    "    ## def search(self, data, start=True):\n",
    "    ##   if start :\n",
    "    ##     cur=self.head.next\n",
    "    ##     while cur is not self.tail:\n",
    "    ##         if data == cur.data:\n",
    "    ##             return cur\n",
    "    ##          cur=cur.next\n",
    "    ##      return None\n",
    "    ##   else :\n",
    "    ##      cur=self.tail.before\n",
    "    ##      while cur is not self.head:\n",
    "    ##          if data == cur.data:\n",
    "    ##              cur=cur.before\n",
    "    ##      return None\n",
    "    \n",
    "    def delete_first(self):\n",
    "        if self.empty():\n",
    "            return\n",
    "        self.head.next=self.head.next.next\n",
    "        self.head.next.before=self.head\n",
    "\n",
    "        self.d_size-=1\n",
    "            \n",
    "    def delete_last(self):\n",
    "        if self.empty():\n",
    "            return\n",
    "        self.tail.before=self.tail.before.before\n",
    "        self.tail.before.next=self.tail\n",
    "\n",
    "        self.d_size-=1\n",
    "    \n",
    "    def delete_node(self, node):\n",
    "        \n",
    "        del_node = node\n",
    "        \n",
    "        node.before.next = node.next\n",
    "        node.next.before = node.before\n",
    "        \n",
    "        self.d_size -= 1\n",
    "        \n",
    "        return del_node\n",
    "    \n",
    "    def traverse(self, start=True):\n",
    "        \n",
    "        ## start=True --> from head\n",
    "        ## start=False --> from tail\n",
    "        \n",
    "        if start:\n",
    "            cur=self.head.next\n",
    "            while cur is not self.tail:\n",
    "                yield cur\n",
    "                cur=cur.next\n",
    "        else:\n",
    "            cur=self.tail.before\n",
    "            while cur is not self.head:\n",
    "                yield cur\n",
    "                cur=cur.before\n",
    "\n",
    "\n",
    "def show_list(dlist, start=True):\n",
    "    print('data size : {}'.format(_list.size()))\n",
    "    nodes = _list.traverse(start)\n",
    "    for node in nodes:\n",
    "        print(node.data, end='  ')\n",
    "    print()"
   ]
  },
  {
   "cell_type": "markdown",
   "metadata": {},
   "source": [
    "- dummy_double_linked_list를 이용한 수도리스트 구현"
   ]
  },
  {
   "cell_type": "code",
   "execution_count": 2,
   "metadata": {},
   "outputs": [],
   "source": [
    "class PseudoList(DummyDoubleLinkedList):\n",
    "    def __init__(self, *args): ## *args(가변인자)에 리스트를 넣어준다.\n",
    "        super().__init__() ## 부모클래스의 이닛 함수를 실행한다.\n",
    "        for elem in args: ## 인자로 넣어준 리스트를 받아서 튜플로 읽어오는데 이 엘리먼트 별로 에드 라스트를 해준다.\n",
    "            self.add_last(elem)\n",
    "\n",
    "    def __len__(self): ## __len__은 자동으로 데이터가 들어오고 나가면 size를 보여준다.\n",
    "        return self.size()\n",
    "\n",
    "    def append(self, data): ## warpping함수\n",
    "        self.add_last(data)\n",
    "\n",
    "    def __find_position(self, pos): \n",
    "        ## 함수이름에도 __를 앞에 붙어주면 외부에서 접근이 안된다.(인포메이션 하이딩된 함수다)\n",
    "        ## 리스트로 보면 인덱스라고 보면 된다. 포지션이 이름만 다르지 인덱스랑 같은 개념이다.\n",
    "        ## pos(포지션)에다가 0을 넣으면 노드 자체를 반환하게 구현되어 있다.\n",
    "        if pos >=self.size():\n",
    "            raise IndexError('list index out of range')\n",
    "        cur = self.head.next\n",
    "        for _ in range(pos):\n",
    "            cur = cur.next\n",
    "        return cur\n",
    "\n",
    "    def insert(self, pos, data): \n",
    "        ## 리스트의 인서트 함수를 구현하는 코드다.\n",
    "        ## 예를들어서 li.insert(2,7)이라고 하면 2번째 인덱스 위치에 7을 넣는 코드다.\n",
    "        ## find포지션이라는 함수를 이용해서 노드번호를 반환받고 그 노드 앞에 insert_before를 구현한다.\n",
    "        cur = self.__find_position(pos)\n",
    "        self.insert_before(data, cur)\n",
    "\n",
    "    def count(self, data):\n",
    "        ## 인자에 데이터를 넣으면 노드를 하나씩 순회하면서 인자에 넣은 데이터와 동일한게 노드중에 있으면\n",
    "        ## 그 갯수를 반환한다.\n",
    "        count = 0\n",
    "        cur = self.head.next\n",
    "        while cur is not self.tail:\n",
    "            if cur.data == data:\n",
    "                count += 1\n",
    "            cur = cur.next\n",
    "        return count\n",
    "        \n",
    "    def index(self, data, start=0):\n",
    "        ## 데이터를 입력하면 인덱스를 반환하는 함수이다.\n",
    "        ## 리스트함수에서 li.index(7) 인덱스가 반환되는 것을 구현하고자 한다.\n",
    "        ## 스타트는 노드의 위치\n",
    "        ## 리스트에서는 찾고자 하는 데이터가 없다면 원래는 인덱스 애러를 반환한다. 이것도 구현하고자 한다.\n",
    "        cur = self.__find_position(start)\n",
    "        index = start\n",
    "        \n",
    "        while cur is not self.tail:\n",
    "            if cur.data == data:\n",
    "                return index\n",
    "            cur = cur.next\n",
    "            index+=1\n",
    "            \n",
    "        raise ValueError('{} is not in the list'.format(data))\n",
    "\n",
    "    def __getitem__(self, index):\n",
    "        ##print(li[3])처럼 [] 연산자를 통해 값을 가져올때 내부에서 호출\n",
    "        ## index는 pos를 의미\n",
    "        ## index에 위치한 노드의 데이터를 반환\n",
    "        \n",
    "        node = self.__find_position(index)\n",
    "        return node.data\n",
    "    \n",
    "    def __setitem__(self, index, data):\n",
    "        ## li[3]=10처럼 [] 연산자로 값을 대입할때 내부에서 호출\n",
    "        ## index에 위치한 노드의 값을 data로 바꿈\n",
    "        \n",
    "        node = self.__find_position(index)\n",
    "        node.data = data\n",
    "\n",
    "    def pop(self, pos=None):\n",
    "        # 인자가 pos가 있는경우\n",
    "        if pos == True:\n",
    "            node = self.__find_position(pos)\n",
    "        \n",
    "        # 인자가 pos가 없는 경우\n",
    "        else:        \n",
    "            node = self.tail.before\n",
    "        \n",
    "        cur = node\n",
    "        self.delete_node(node)\n",
    "        return cur.data \n",
    "        \n",
    "    def remove(self, data):\n",
    "        self.delete_node(self.search_forward(data))\n",
    "\n",
    "    def __str__(self):\n",
    "        string = '['\n",
    "        cur = self.head.next\n",
    "        while cur is not self.tail:\n",
    "            string+=str(cur.data)\n",
    "            if cur.next is not self.tail:\n",
    "                string+=', '\n",
    "            cur= cur.next\n",
    "\n",
    "        string+=']'\n",
    "        return string"
   ]
  },
  {
   "cell_type": "markdown",
   "metadata": {},
   "source": [
    "- 객체 생성 동작테스트 "
   ]
  },
  {
   "cell_type": "code",
   "execution_count": 3,
   "metadata": {},
   "outputs": [
    {
     "name": "stdout",
     "output_type": "stream",
     "text": [
      "pseudo list : [1, 2, 3, 4]\n",
      "python list : [1, 2, 3, 4]\n"
     ]
    }
   ],
   "source": [
    "initial = [1, 2, 3, 4]\n",
    "#pseudo_list\n",
    "li = PseudoList(*initial)\n",
    "#python list\n",
    "py_li = initial\n",
    "\n",
    "print(\"pseudo list : \"+ str(li))\n",
    "print(\"python list : \" + str(py_li))"
   ]
  },
  {
   "cell_type": "markdown",
   "metadata": {},
   "source": [
    "- append 테스트"
   ]
  },
  {
   "cell_type": "code",
   "execution_count": 4,
   "metadata": {},
   "outputs": [
    {
     "name": "stdout",
     "output_type": "stream",
     "text": [
      "pseudo list : [1, 2, 3, 4, 2, 1, 2, 7]\n",
      "python list : [1, 2, 3, 4, 2, 1, 2, 7]\n"
     ]
    }
   ],
   "source": [
    "#pseudo_list\n",
    "li.append(2)\n",
    "li.append(1)\n",
    "li.append(2)\n",
    "li.append(7)\n",
    "#python_list\n",
    "py_li.append(2)\n",
    "py_li.append(1)\n",
    "py_li.append(2)\n",
    "py_li.append(7)\n",
    "\n",
    "print(\"pseudo list : \"+ str(li))\n",
    "print(\"python list : \" + str(py_li))"
   ]
  },
  {
   "cell_type": "markdown",
   "metadata": {},
   "source": [
    "- count 테스트"
   ]
  },
  {
   "cell_type": "code",
   "execution_count": 5,
   "metadata": {},
   "outputs": [
    {
     "name": "stdout",
     "output_type": "stream",
     "text": [
      "count of 2 : 3 in pseudo_list\n",
      "count of 2 : 3 in python_list\n"
     ]
    }
   ],
   "source": [
    "target = 2\n",
    "print('count of {} : {} in pseudo_list'.format(target, li.count(target)))\n",
    "print('count of {} : {} in python_list'.format(target, py_li.count(target)))"
   ]
  },
  {
   "cell_type": "markdown",
   "metadata": {},
   "source": [
    "- pop 테스트"
   ]
  },
  {
   "cell_type": "code",
   "execution_count": 6,
   "metadata": {},
   "outputs": [
    {
     "name": "stdout",
     "output_type": "stream",
     "text": [
      "data of 7 is deleted\n",
      "data of 2 is deleted\n",
      "pseudo list : [1, 2, 3, 4, 2, 1]\n",
      "python list : [1, 2, 3, 4, 2, 1]\n"
     ]
    }
   ],
   "source": [
    "#pseudo_list\n",
    "li.pop(); li.pop()\n",
    "#python_list\n",
    "py_li.pop(); py_li.pop()\n",
    "\n",
    "print(\"pseudo list : \"+ str(li))\n",
    "print(\"python list : \" + str(py_li))"
   ]
  },
  {
   "cell_type": "markdown",
   "metadata": {},
   "source": [
    "- pop(index) 테스트"
   ]
  },
  {
   "cell_type": "code",
   "execution_count": 7,
   "metadata": {},
   "outputs": [
    {
     "name": "stdout",
     "output_type": "stream",
     "text": [
      "data of 1 is deleted\n",
      "pseudo list : [1, 2, 3, 4, 2]\n",
      "python list : [1, 2, 4, 2, 1]\n"
     ]
    }
   ],
   "source": [
    "#pseudo_list\n",
    "li.pop(2)\n",
    "#python_list\n",
    "py_li.pop(2)\n",
    "\n",
    "print(\"pseudo list : \"+ str(li))\n",
    "print(\"python list : \" + str(py_li))"
   ]
  },
  {
   "cell_type": "markdown",
   "metadata": {},
   "source": [
    "- insert 테스트"
   ]
  },
  {
   "cell_type": "code",
   "execution_count": 8,
   "metadata": {},
   "outputs": [
    {
     "name": "stdout",
     "output_type": "stream",
     "text": [
      "pseudo list : [1, 2, 3, 9, 4, 2]\n",
      "python list : [1, 2, 4, 9, 2, 1]\n"
     ]
    }
   ],
   "source": [
    "#pseudo_list\n",
    "li.insert(3, 9)\n",
    "#python_list\n",
    "py_li.insert(3, 9)\n",
    "\n",
    "print(\"pseudo list : \"+ str(li))\n",
    "print(\"python list : \" + str(py_li))"
   ]
  },
  {
   "cell_type": "markdown",
   "metadata": {},
   "source": [
    "- index 테스트"
   ]
  },
  {
   "cell_type": "code",
   "execution_count": 9,
   "metadata": {},
   "outputs": [
    {
     "name": "stdout",
     "output_type": "stream",
     "text": [
      "index of 9 : 3 in pseudo_list\n",
      "index of 9 : 3 in python_list\n"
     ]
    }
   ],
   "source": [
    "target = 9\n",
    "\n",
    "print(\"index of {} : {} in pseudo_list\".format(target, li.index(target)))\n",
    "print(\"index of {} : {} in python_list\".format(target, py_li.index(target)))"
   ]
  },
  {
   "cell_type": "markdown",
   "metadata": {},
   "source": [
    "- indexing 테스트"
   ]
  },
  {
   "cell_type": "code",
   "execution_count": 10,
   "metadata": {},
   "outputs": [
    {
     "name": "stdout",
     "output_type": "stream",
     "text": [
      "pseudo list : [1, 2, 3, 7, 4, 2]\n",
      "python list : [1, 2, 4, 7, 2, 1]\n"
     ]
    }
   ],
   "source": [
    "#pseudo_list\n",
    "li[3]=7\n",
    "#python_list\n",
    "py_li[3]=7\n",
    "\n",
    "print(\"pseudo list : \"+ str(li))\n",
    "print(\"python list : \" + str(py_li))"
   ]
  },
  {
   "cell_type": "code",
   "execution_count": 11,
   "metadata": {},
   "outputs": [
    {
     "name": "stdout",
     "output_type": "stream",
     "text": [
      "1  2  3  7  4  2  "
     ]
    }
   ],
   "source": [
    "#pseudo_list\n",
    "for i in range(len(li)):\n",
    "    print(li[i], end='  ')"
   ]
  },
  {
   "cell_type": "code",
   "execution_count": 12,
   "metadata": {},
   "outputs": [
    {
     "name": "stdout",
     "output_type": "stream",
     "text": [
      "1  2  4  7  2  1  "
     ]
    }
   ],
   "source": [
    "#python_list\n",
    "for i in range(len(py_li)):\n",
    "    print(py_li[i], end='  ')"
   ]
  },
  {
   "cell_type": "markdown",
   "metadata": {},
   "source": [
    "- remove 테스트"
   ]
  },
  {
   "cell_type": "code",
   "execution_count": 13,
   "metadata": {},
   "outputs": [
    {
     "name": "stdout",
     "output_type": "stream",
     "text": [
      "data of 7 is deleted\n",
      "pseudo list : [1, 2, 3, 4, 2]\n",
      "python list : [1, 2, 4, 2, 1]\n"
     ]
    }
   ],
   "source": [
    "#pseudo_list\n",
    "li.remove(7)\n",
    "#python_list\n",
    "py_li.remove(7)\n",
    "\n",
    "print(\"pseudo list : \"+ str(li))\n",
    "print(\"python list : \" + str(py_li))"
   ]
  }
 ],
 "metadata": {
  "kernelspec": {
   "display_name": "Python 3",
   "language": "python",
   "name": "python3"
  },
  "language_info": {
   "codemirror_mode": {
    "name": "ipython",
    "version": 3
   },
   "file_extension": ".py",
   "mimetype": "text/x-python",
   "name": "python",
   "nbconvert_exporter": "python",
   "pygments_lexer": "ipython3",
   "version": "3.7.3"
  }
 },
 "nbformat": 4,
 "nbformat_minor": 2
}
