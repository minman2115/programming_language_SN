{
 "cells": [
  {
   "cell_type": "markdown",
   "metadata": {},
   "source": [
    ".\n",
    "\n",
    "Coding_test_training(20210717)\n",
    "\n",
    "#### 문제 설명\n",
    "\n",
    "124 나라가 있습니다. 124 나라에서는 10진법이 아닌 다음과 같은 자신들만의 규칙으로 수를 표현합니다.\n",
    "\n",
    "1) 124 나라에는 자연수만 존재합니다.\n",
    "\n",
    "2) 124 나라에는 모든 수를 표현할 때 1, 2, 4만 사용합니다.\n",
    "\n",
    "예를 들어서 124 나라에서 사용하는 숫자는 다음과 같이 변환됩니다.\n",
    "\n",
    "10진법 / 124 나라\n",
    "\n",
    "1 / 1\n",
    "\n",
    "2 / 2\n",
    "\n",
    "3 / 4\n",
    "\n",
    "4 / 11\n",
    "\n",
    "5 / 12\n",
    "\n",
    "6 / 14\n",
    "\n",
    "7 / 21\n",
    "\n",
    "8 / 22\n",
    "\n",
    "9 / 24\n",
    "\n",
    "10 / 41\n",
    "\n",
    "자연수 n이 매개변수로 주어질 때, n을 124 나라에서 사용하는 숫자로 바꾼 값을 return 하도록 solution 함수를 완성해 주세요.\n",
    "\n",
    "#### 제한사항 \n",
    "\n",
    "n은 500,000,000이하의 자연수 입니다.\n",
    "\n",
    "#### 입출력 예\n",
    "\n",
    "n / result\n",
    "\n",
    "1 / 1\n",
    "\n",
    "2 / 2\n",
    "\n",
    "3 / 4\n",
    "\n",
    "4 / 11\n",
    "\n",
    "#### 풀이\n",
    "\n",
    "참고자료 : https://geonlee.tistory.com/77\n",
    "\n",
    "삼진법을 이용해 문제를 푸는것으로 접근할 수 있지만 삼진법으로 풀게되면 0이 생기기 때문에 추가적으로 처리를 해줘야 한다. 각 자리수 별로 표현할 수 있는 숫자가 1부터 시작하는 것을 0부터 시작하는 것으로 바꿔야해서 '124'[n%3]을 이용해 0일때는 '1'이 1일때는 '2'가 2일때는 '4'를 삽입해야한다. 이 과정을 위해 각 자리가 올라갈 때마다 전체 숫자에서 1을 빼준 값을 통해 삽입할 숫자를 정해준다."
   ]
  },
  {
   "cell_type": "code",
   "execution_count": 17,
   "metadata": {},
   "outputs": [
    {
     "data": {
      "text/plain": [
       "'111'"
      ]
     },
     "execution_count": 17,
     "metadata": {},
     "output_type": "execute_result"
    }
   ],
   "source": [
    "def solution(n):\n",
    "    answer = ''\n",
    "    while n > 0:\n",
    "        n -= 1\n",
    "        answer = '124'[n%3] + answer\n",
    "        n //= 3 # 몫만 구함\n",
    "    return answer\n",
    "\n",
    "solution(13)"
   ]
  },
  {
   "cell_type": "code",
   "execution_count": 19,
   "metadata": {},
   "outputs": [
    {
     "data": {
      "text/plain": [
       "'12'"
      ]
     },
     "execution_count": 19,
     "metadata": {},
     "output_type": "execute_result"
    }
   ],
   "source": [
    "solution(5)"
   ]
  },
  {
   "cell_type": "code",
   "execution_count": 20,
   "metadata": {},
   "outputs": [
    {
     "data": {
      "text/plain": [
       "'4141'"
      ]
     },
     "execution_count": 20,
     "metadata": {},
     "output_type": "execute_result"
    }
   ],
   "source": [
    "solution(100)"
   ]
  }
 ],
 "metadata": {
  "kernelspec": {
   "display_name": "Python 3",
   "language": "python",
   "name": "python3"
  },
  "language_info": {
   "codemirror_mode": {
    "name": "ipython",
    "version": 3
   },
   "file_extension": ".py",
   "mimetype": "text/x-python",
   "name": "python",
   "nbconvert_exporter": "python",
   "pygments_lexer": "ipython3",
   "version": "3.7.4"
  }
 },
 "nbformat": 4,
 "nbformat_minor": 2
}
