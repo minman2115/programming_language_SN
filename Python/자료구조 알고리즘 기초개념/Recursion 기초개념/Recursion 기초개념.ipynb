{
 "cells": [
  {
   "cell_type": "markdown",
   "metadata": {},
   "source": [
    "#### 그림, 실습코드 등 학습자료 출처 : https://github.com/ythwork\n",
    "\n",
    "- recursion(재귀)란 함수가 호출될때 자기 자신을 호출하는 함수를 말한다.\n",
    "\n",
    "\n",
    "- 재귀를 사용할때 매개변수를 줄여주는 조건을 걸어줘야 무한루프가 돌지 않는다.\n",
    "\n",
    "\n",
    "- 파이썬 코드 예시"
   ]
  },
  {
   "cell_type": "code",
   "execution_count": 8,
   "metadata": {},
   "outputs": [
    {
     "name": "stdout",
     "output_type": "stream",
     "text": [
      "5\n",
      "4\n",
      "3\n",
      "2\n",
      "1\n",
      "0\n"
     ]
    }
   ],
   "source": [
    "def func(n):\n",
    "    \n",
    "    print(n)\n",
    "    \n",
    "    if n == 0: ## 기저조건(base case) : 종료조건, 탈출조건\n",
    "        return\n",
    "    \n",
    "    \n",
    "    func(n-1)\n",
    "    \n",
    "\n",
    "func(5)"
   ]
  },
  {
   "cell_type": "markdown",
   "metadata": {},
   "source": [
    "- recursion의 대표적인 예시 : factorial \n",
    "\n",
    "\n",
    "ex) \n",
    "\n",
    "3! = 3 * 2 * 1\n",
    "\n",
    "3! = 3 * 2!\n",
    "\n",
    "\n",
    "이런 성질때문에 recursion을 쓸 수 있다.\n",
    "\n",
    "종료조건은 n이 1일때\n",
    "\n",
    "- factorial 파이썬 코드 구현\n",
    "\n",
    "손으로 스텍프레임을 그려보면 좀더 쉽게 이해할 수 있다."
   ]
  },
  {
   "cell_type": "code",
   "execution_count": 2,
   "metadata": {},
   "outputs": [
    {
     "name": "stdout",
     "output_type": "stream",
     "text": [
      "1  2  6  24  120  "
     ]
    }
   ],
   "source": [
    "def factorial(n):\n",
    "    \n",
    "    if n <= 1:\n",
    "        return 1\n",
    "    \n",
    "    return n * factorial(n-1)\n",
    "\n",
    "for i in range(1,6):\n",
    "    print(factorial(i), end='  ')"
   ]
  },
  {
   "cell_type": "markdown",
   "metadata": {},
   "source": [
    "- 재귀함수 구현할때 알아야 할 것\n",
    "\n",
    "1) 점화식을 구현\n",
    "\n",
    "2) base case 설계(언제 멈출거냐)\n",
    "\n",
    "#### [재귀 기념을 이용한 각종응용 사례]\n",
    "\n",
    "#### 1) fibonacci 수열\n",
    "\n",
    "\n",
    "- 점화식 : 이번 피보나치 수 = 전전 피보나치 수 + 이전 피보나치 수 \n",
    "\n",
    "\n",
    "- fibo(n) = fibo(n-2) + fibo(n-1)\n",
    "\n",
    "\n",
    "- base case\n",
    "\n",
    "첫 번째 피보나치 수 : 0\n",
    "\n",
    "두 번째 피보나치 수 : 1\n",
    "\n",
    "- 피보나치 수열 파이썬 코드로 구현"
   ]
  },
  {
   "cell_type": "code",
   "execution_count": 4,
   "metadata": {},
   "outputs": [
    {
     "name": "stdout",
     "output_type": "stream",
     "text": [
      "0  1  1  2  3  5  8  13  21  34  "
     ]
    }
   ],
   "source": [
    "def fibonacci(n): ## 인자 n을 넣게되면 n번째 피포나치 수열을 출력하게 한다. \n",
    "   \n",
    "    # base case\n",
    "    # n이 1 이면 0\n",
    "    \n",
    "    if n == 1:\n",
    "        return 0\n",
    "        \n",
    "    # n이 2 이면 1\n",
    "    if n == 2:\n",
    "        return 1\n",
    "    \n",
    "    return fibonacci(n-2) + fibonacci(n-1)\n",
    "\n",
    "n=10\n",
    "for i in range(1, n+1):\n",
    "    print(fibonacci(i), end= '  ')"
   ]
  },
  {
   "cell_type": "markdown",
   "metadata": {},
   "source": [
    "- 피보나치 수열 문제점\n",
    "\n",
    "점화식 실행 시 스텍프레임을 불필요하게 많이 쌓게 되므로(이말은 메모리 공간에 계속 데이터가 저장이 된 얘기) 성능상의 이슈가 발생한다. \n",
    "\n",
    "그래서 가능하다면 반복문으로 대체하는 것이 빠르다.\n",
    "\n",
    "이런 피보나치 수열의 문제점을 해결하기 위해 나온 개념이 다이나믹 프로그래밍이라는 개념이다.\n",
    "recursion을 쓰되 한번 호출한 스텍은 기억해두었다가 리턴해주자 라는 메모리제이션\n",
    "아니면 특정 메모리에 저장해두었다가 리턴해주자 라는 바텀 업 이라는 개념이 있다.\n",
    "\n",
    "반복문은 메모리 공간에 하나의 데이터가 저장이 된다.\n",
    "\n",
    "- 피보나치 수열 반복문으로 대체해보기"
   ]
  },
  {
   "cell_type": "code",
   "execution_count": 6,
   "metadata": {},
   "outputs": [
    {
     "name": "stdout",
     "output_type": "stream",
     "text": [
      "0  1  1  2  3  5  8  13  21  34  "
     ]
    }
   ],
   "source": [
    "def fibo_iter(n):\n",
    "    \n",
    "    if n == 1:\n",
    "        return 0\n",
    "        \n",
    "    if n == 2:\n",
    "        return 1\n",
    "    \n",
    "    last = 0\n",
    "    temp = 0\n",
    "    current = 1\n",
    "    for number in range(n-2):\n",
    "        temp = current\n",
    "        current = last + current\n",
    "        last = temp\n",
    "        \n",
    "#   또는 아래와 같은 코드로도 구현이 가능하다.        \n",
    "#   last, current = current, last + current\n",
    "        \n",
    "    return current\n",
    "\n",
    "for i in range(1, 11):\n",
    "    print(fibo_iter(i), end = \"  \")"
   ]
  },
  {
   "cell_type": "markdown",
   "metadata": {},
   "source": [
    "#### 2) 하노이타워\n",
    "\n",
    "- 하노이타워 목적 : from에 있는 원반을 그대로 to로 옮기는 것이다."
   ]
  },
  {
   "cell_type": "markdown",
   "metadata": {},
   "source": [
    "<img src=\"1.png\" width=\"1000\" />"
   ]
  },
  {
   "cell_type": "markdown",
   "metadata": {},
   "source": [
    "- 규칙 위반 예시 : from의 원반순서를 어긋나면 안된다. 아래 그림처럼 초록색원반이 파란색 원반 위에 있어야지 파란색 원반 아래에 있으면 안된다. "
   ]
  },
  {
   "cell_type": "markdown",
   "metadata": {},
   "source": [
    "<img src=\"2.png\" width=\"1000\" />"
   ]
  },
  {
   "cell_type": "markdown",
   "metadata": {},
   "source": [
    "- 원반이 하나일때 예시 : 바로 from에서 to로 옮기면 된다."
   ]
  },
  {
   "cell_type": "markdown",
   "metadata": {},
   "source": [
    "<img src=\"3.png\" width=\"1000\" />"
   ]
  },
  {
   "cell_type": "markdown",
   "metadata": {},
   "source": [
    "- 원반이 두개일때 예시 아래 그림을 보면 쉽게 이해할 수 있다."
   ]
  },
  {
   "cell_type": "markdown",
   "metadata": {},
   "source": [
    "<img src=\"4.png\" width=\"1000\" />"
   ]
  },
  {
   "cell_type": "markdown",
   "metadata": {},
   "source": [
    "<img src=\"5.png\" width=\"1000\" />"
   ]
  },
  {
   "cell_type": "markdown",
   "metadata": {},
   "source": [
    "<img src=\"6.png\" width=\"1000\" />"
   ]
  },
  {
   "cell_type": "markdown",
   "metadata": {},
   "source": [
    "- 만약에 원반이 3개일때 구현과정\n",
    "\n",
    "step1) 'top_tray'를 from에서 to로 옮긴다.\n",
    "\n",
    "step2) 'middle_tray'를 from에서 by로 옮긴다.\n",
    "\n",
    "step3) 'top_tray'를 to에서 by로 옮긴다.\n",
    "\n",
    "step4) 'bottom_tray'를 from에서 to로 옮긴다.\n",
    "\n",
    "step5) 'top_tray'를 by에서 from으로 옮긴다.\n",
    "\n",
    "step6) 'middle_tray'를 by에서 to로 옮긴다.\n",
    "\n",
    "step7) 'top_tray'를 from에서 to로 옮긴다.\n",
    "\n",
    "- 원반이 1개 일때가 base case이다.\n",
    "\n",
    "\n",
    "- 파이썬 코드 구현"
   ]
  },
  {
   "cell_type": "code",
   "execution_count": 7,
   "metadata": {},
   "outputs": [
    {
     "name": "stdout",
     "output_type": "stream",
     "text": [
      "원반의 개수를 입력하세요(종료 : 0) :3\n",
      "1번째 원반을 From에서 To로 이동\n",
      "2번째 원반을 From에서 By로 이동\n",
      "1번째 원반을 To에서 By로 이동\n",
      "3번째 원반을 From에서 To로 이동\n",
      "1번째 원반을 By에서 From로 이동\n",
      "2번째 원반을 By에서 To로 이동\n",
      "1번째 원반을 From에서 To로 이동\n",
      "원반의 개수를 입력하세요(종료 : 0) :0\n"
     ]
    }
   ],
   "source": [
    "def hanoi(num_tray, _from, _by, _to):\n",
    "    if num_tray==1:\n",
    "        print('{}번째 원반을 {}에서 {}로 이동'.format(num_tray, _from, _to))\n",
    "        return\n",
    "        \n",
    "    hanoi(num_tray-1, _from, _to, _by)\n",
    "    print('{}번째 원반을 {}에서 {}로 이동'.format(num_tray, _from, _to))\n",
    "    \n",
    "    hanoi(num_tray-1, _by, _from, _to)\n",
    "    \n",
    "while 1:\n",
    "    num_tray=int(input(\"원반의 개수를 입력하세요(종료 : 0) :\"))\n",
    "    if num_tray==0:\n",
    "        break\n",
    "    hanoi(num_tray, 'From', 'By', 'To')"
   ]
  }
 ],
 "metadata": {
  "kernelspec": {
   "display_name": "Python 3",
   "language": "python",
   "name": "python3"
  },
  "language_info": {
   "codemirror_mode": {
    "name": "ipython",
    "version": 3
   },
   "file_extension": ".py",
   "mimetype": "text/x-python",
   "name": "python",
   "nbconvert_exporter": "python",
   "pygments_lexer": "ipython3",
   "version": "3.7.3"
  }
 },
 "nbformat": 4,
 "nbformat_minor": 2
}
