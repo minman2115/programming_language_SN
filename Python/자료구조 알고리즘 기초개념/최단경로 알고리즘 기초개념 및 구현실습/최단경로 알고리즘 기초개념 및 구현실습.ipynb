{
 "cells": [
  {
   "cell_type": "markdown",
   "metadata": {},
   "source": [
    "#### 그림, 실습코드 등 학습자료 출처 :\n",
    "\n",
    "1) https://github.com/ythwork\n",
    "\n",
    "2) https://hsp1116.tistory.com/45\n",
    "\n",
    "#### 1. 최단경로의 사전조건\n",
    "\n",
    "1) 음수 사이클이 없다.\n",
    "\n",
    "2) 방향그래프다.(directed graph)\n",
    "\n",
    "3) 가중치그래프다.(weighted graph)\n",
    "\n",
    "4) 경로의 길이 : 에지 가중치의 합\n",
    "\n",
    "#### 2.  음수싸이클이란\n",
    "\n",
    "- 노드 간 이동하는 에너지가 음수가 되면 안된다. \n",
    "\n",
    "음수싸이클을 비유를 들면 기름을 가득 채워서 서울 -> 부산 -> 광주 -> 서울을 오니까 기름이 가득 채워져 있는 것과 바슷하다.\n",
    "\n",
    "- 다익스트라는 음수가중치를 인정하지 않고, 벨만포드 알고리즘은 음수가중치(음수에지)를 인정한다. 그리고 이 둘 다 음수사이클은 인정하지 않는다. 결론적으로 음수던 양수던 사이클을 인정하지 않는다.\n",
    "\n",
    "예를 들어서 아래 그림과 같다."
   ]
  },
  {
   "cell_type": "markdown",
   "metadata": {},
   "source": [
    "<img src=\"1.png\" width=\"500\" />"
   ]
  },
  {
   "cell_type": "markdown",
   "metadata": {},
   "source": [
    "#### 3. 최단 경로 알고리즘의 종류\n",
    "\n",
    "1) 하나의 출발점과 나머지 모든 목적지\n",
    "\n",
    "- 다익스트라 알고리즘\n",
    "\n",
    "탐욕 알고리즘 기반\n",
    "\n",
    "음수 가중치가 없다.\n",
    "\n",
    "- 벨만-포드 알고리즘\n",
    "    \n",
    "    \n",
    "2) 모든 (출발점, 목적지) 쌍\n",
    "\n",
    "플로이드-워셜 알고리즘(다이나믹 프로그래밍)\n",
    "\n",
    "#### 4. 다익스트라 알고리즘\n",
    "\n",
    "1) 탐욕 알고리즘 기반\n",
    "\n",
    "2) 음수가중치가 없다.\n",
    "\n",
    "3) 최단 경로가 발견된 정점의 집합 S\n",
    "\n",
    "4) 정점 v의 distance[v] \n",
    "\n",
    "출발 정점에서 S에 있는 정점만 거쳐 v에 도달하는 경로의 길이\n",
    "\n",
    "각 노드마다 distance라는 배열이 있고, predecessor가 있는데 프림알고리즘의 from과 역할이 비슷하다.\n",
    "\n",
    "#### 5. relaxation of an edge"
   ]
  },
  {
   "cell_type": "markdown",
   "metadata": {},
   "source": [
    "<img src=\"2.png\" width=\"700\" />"
   ]
  },
  {
   "cell_type": "markdown",
   "metadata": {},
   "source": [
    "#### 6. Graph representation\n",
    "\n",
    "#### Adjacency matrix\n",
    "\n",
    "다익스트라에서 shortest path를 인접행렬로 표현하였다.\n",
    "\n",
    "예를들어 아래그림에서 0번 터택스와 1번 버택스가 있으면 그둘의 에지가중치를 해당 행렬에 입력한다."
   ]
  },
  {
   "cell_type": "markdown",
   "metadata": {},
   "source": [
    "<img src=\"3.png\" width=\"1000\" />"
   ]
  },
  {
   "cell_type": "markdown",
   "metadata": {},
   "source": [
    "#### 7. 다익스트라 알고리즘\n",
    "\n",
    "- 알고리즘 예시로 아래 그림에서 0번 노드에서 3번 노드로 가는 최단경로를 구해보자.\n",
    "\n",
    "\n",
    "- 용어설명\n",
    "\n",
    "1) D : distance(소스부터 시작해서 s에 있는 정점들만 거쳐서 도달하는 거리)\n",
    "\n",
    "2) P : 전임자(최단거리 중에서 나 이전에 오는 노드)\n",
    "\n",
    "\n",
    "- 경로탐색과정\n",
    "\n",
    "step1) 시작정점을 입력하면 (예를 들어 0을 입력하면)\n",
    "\n",
    "0 -> 0을 가는 에지 가중치를 구한다. 에지 가중치는 0 이놈이 시작 정점의 가중치\n",
    "\n",
    "step2) 주변에 relax 를 구해야 한다\n",
    "\n",
    "(0->1) : 0 + 10 \n",
    "\n",
    "(0->2) : 0 + 3\n",
    "    \n",
    "step3) 2가 더 작으므로 2을 S에 업데이트 해준다.\n",
    "\n",
    "step2) ~ step3)을 반복한다."
   ]
  },
  {
   "cell_type": "markdown",
   "metadata": {},
   "source": [
    "<img src=\"4.png\" width=\"1000\" />"
   ]
  },
  {
   "cell_type": "markdown",
   "metadata": {},
   "source": [
    "- print_shortest_path\n",
    "\n",
    "shortestPath 클래스에는 distance 배열과 p 배열이 정의되어 있다.\n",
    "\n",
    "print_shortest_path 함수에서 0 -> 2 -> 3번으로 제대로 출력을하려면 재귀함수를 이용해야 한다."
   ]
  },
  {
   "cell_type": "code",
   "execution_count": null,
   "metadata": {},
   "outputs": [],
   "source": [
    "if sp.source==dest:\n",
    "    print(\"{}\".format(dest), end=\"  \")\n",
    "    return"
   ]
  },
  {
   "cell_type": "markdown",
   "metadata": {},
   "source": [
    "이 코드가 기저조건이다.\n",
    "\n",
    "Graph.print_shortest_path(sp, sp.p[dest])\n",
    "\n",
    "그리고 이 코드가 재귀적으로 돌게 될 것이다.\n",
    "\n",
    "- 파이썬 코드구현 예시"
   ]
  },
  {
   "cell_type": "code",
   "execution_count": 8,
   "metadata": {},
   "outputs": [
    {
     "name": "stdout",
     "output_type": "stream",
     "text": [
      "distance[0] : 0, p[0] : None\n",
      "distance[1] : 8, p[1] : 2\n",
      "distance[2] : 3, p[2] : 0\n",
      "distance[3] : 11, p[3] : 2\n",
      "path from 0 to 3\n",
      "0  2  3  \n"
     ]
    }
   ],
   "source": [
    "class ShortestPath:\n",
    "    def __init__(self, s, distance, p):\n",
    "        self.source=s\n",
    "        self.distance=distance\n",
    "        self.p=p\n",
    "\n",
    "class Graph:\n",
    "    #모든 가중치보다 충분히 큰 수\n",
    "    BIG_NUMBER=2000\n",
    "    @staticmethod\n",
    "    def print_shortest_path(sp, dest):\n",
    "        if sp.source==dest:\n",
    "            print(\"{}\".format(dest), end=\"  \")\n",
    "            return\n",
    "        if sp.p[dest]!=None:\n",
    "            Graph.print_shortest_path(sp, sp.p[dest])\n",
    "        else:\n",
    "            print(\"There is no path\")\n",
    "            return\n",
    "        print(\"{}\".format(dest), end=\"  \")\n",
    "\n",
    "    def __init__(self, vnum):\n",
    "        self.adjacency_matrix=[[None for _ in range(vnum)] for _ in range(vnum)]\n",
    "        self.vertex_num=vnum\n",
    "\n",
    "    def insert_edge(self, u, v, w):\n",
    "        self.adjacency_matrix[u][v]=w\n",
    "\n",
    "    def find_min(self, distance, S):\n",
    "        _min=self.BIG_NUMBER\n",
    "        min_v=-1\n",
    "        for i in range(self.vertex_num):\n",
    "            if i not in S and distance[i] < _min:\n",
    "                _min=distance[i]\n",
    "                min_v=i\n",
    "        return min_v\n",
    "\n",
    "    def dijkstra(self, s):\n",
    "        #출발 정점에서 S에 있는 정점만 거쳐 v에 도달하는 경로의 길이\n",
    "        distance=[self.BIG_NUMBER for _ in range(self.vertex_num)]\n",
    "        #predecessor\n",
    "        #distance[v]를 구할 때 경로 상에서 v의 바로 이전 노드\n",
    "        p=[None for _ in range(self.vertex_num)]\n",
    "        #최단 경로가 발견된 정점의 집합\n",
    "        S=set()\n",
    "        distance[s]=0\n",
    "\n",
    "        while len(S) < self.vertex_num:\n",
    "            #S에 속하지 않으면서 distance가 가장 작은 정점 v\n",
    "            v=self.find_min(distance, S)\n",
    "            #S=S U {v}\n",
    "            S.add(v)\n",
    "            for u in range(self.vertex_num):\n",
    "                w=self.adjacency_matrix[v][u]\n",
    "                #w가 None이 아니면 u가 v에 adjacent\n",
    "                #relaxation\n",
    "                #if distance[u] > distance[v]+w\n",
    "                #then distance[u] = distance[v]+w\n",
    "                if w!=None and u not in S and distance[u] > distance[v]+w:\n",
    "                    distance[u] = distance[v]+w\n",
    "                    p[u]=v\n",
    "        sp=ShortestPath(s, distance, p)\n",
    "        return sp\n",
    "\n",
    "if __name__==\"__main__\":\n",
    "    g=Graph(4)\n",
    "    g.insert_edge(0, 1, 10)\n",
    "    g.insert_edge(0, 2, 3)\n",
    "    g.insert_edge(1, 3, 5)\n",
    "    g.insert_edge(2, 1, 5)\n",
    "    g.insert_edge(2, 3, 8)\n",
    "    g.insert_edge(3, 1, 4)\n",
    "    g.insert_edge(3, 2, 12)\n",
    "\n",
    "    source=0\n",
    "    sp=g.dijkstra(source)\n",
    "    for i in range(g.vertex_num):\n",
    "        print('distance[{0}] : {1}, p[{0}] : {2}'.format(i, sp.distance[i], sp.p[i]))\n",
    "    \n",
    "    dest=3\n",
    "    print(\"path from {} to {}\".format(source, dest))\n",
    "    g.print_shortest_path(sp, dest)\n",
    "    print()"
   ]
  },
  {
   "cell_type": "markdown",
   "metadata": {},
   "source": [
    "#### 8. 플로이드-워쉘 알고리즘\n",
    "\n",
    "- 다익스트라는 single source shortest path problem인 반면에 플로이드-워쉘은 모든 (출발점, 목적지) 쌍에 대한 최단경로를 구한다.\n",
    "\n",
    "\n",
    "- 또한 다익스트라 알고리즘은 음수가중치를 인정하지 않지만 플로이드-워쉘은 음수 에지를 인정한다.\n",
    "\n",
    "\n",
    "- 모든 정점에 대한 경로를 계산하므로 거리를 저장할 2차원 테이블이 필요하다.\n",
    "\n",
    "\n",
    "- 플로이드-워쉘 알고리즘은 다이나믹 프로그래밍으로 부터 나온 개념이고, 다이나믹 프로그래밍은 optimal substructure의 개념을 이용하여 최단경로를 찾는다는 말이다. 다시말해 재귀함수가 필요하다. optimal substructure는 특정경로 안에 무수히 많은 경로가 있을때, 중간정점들이 각각 최단이 된다면 이를 모두 이은 경로 또한 최단이 된다는 것이다.\n",
    "\n",
    "\n",
    "- 플로이드-워쉘 알고리즘은 두개의 테이블을 사용한다.\n",
    "\n",
    "하나는 모든경로에 대한 비용을 저장하는 테이블\n",
    "\n",
    "다른 하나는 각 정점까지 가기 직전의 정점을 저장한 테이블이다.\n",
    "\n",
    "이 각각의 테이블에는 최초에는 인접리스트에 대한 내용만 들어가게 되는데 구후 경로를 추가할때마다 두 테이블이 갱신되는 방식이다."
   ]
  },
  {
   "cell_type": "markdown",
   "metadata": {},
   "source": [
    "<img src=\"5.png\" width=\"1000\" />"
   ]
  },
  {
   "cell_type": "markdown",
   "metadata": {},
   "source": [
    "- 플로이드-워쉘 알고리즘은 재귀와 기저조건이 필요하다 !\n",
    "\n",
    "\n",
    "- A[i][j]는 i에서 j까지 가는 최단경로길이\n",
    "\n",
    "\n",
    "- w(i,j) 는 i와 j의 에지가중치\n",
    "\n",
    "\n",
    "- A의 k승[i][j] 의미 : 0번 버텍스에서 시작해서 k번 버텍스까지 경유가 가능한 정점, 0에서 k를 거쳐도 되고 안거쳐도 되지만 경유가 가능하다는 의미\n",
    "\n",
    "\n",
    "ex)\n",
    "\n",
    "\n",
    "A의 -1승[0][3] = 0번인덱스부터 3번까지 가야하는데 -1번 인덱스를 거쳐갈 수 있다. -1번만 거쳐서 3번까지 갈수 없다. 무한대\n",
    "\n",
    "A의 0승[0][3] = 0번인덱스부터 3번까지 가야하는데 0번 인덱스를 거쳐갈 수 있다. 0번만 거쳐서 3번까지 갈수 없다. 무한대\n",
    "\n",
    "A의 1승[0][3] = 0번인덱스부터 3번까지 가야하는데 1번 인덱스를 거쳐갈 수 있다. 30\n",
    "\n",
    "A의 2승[0][3] = 0번인덱스부터 3번까지 가야하는데 2번 인덱스를 거쳐갈 수 있다. 5\n",
    "\n",
    "- path mat는 노드들간 거쳐간 버텍스 중에 가장 큰수를 저장해 놓는다.\n",
    "\n",
    "\n",
    "- 플로이드-워쉘 알고리즘 설명"
   ]
  },
  {
   "cell_type": "markdown",
   "metadata": {},
   "source": [
    "<img src=\"6.png\" width=\"1000\" />"
   ]
  },
  {
   "cell_type": "markdown",
   "metadata": {},
   "source": [
    "- 2차원 테이블을 하나만 쓰면 안되는 이유"
   ]
  },
  {
   "cell_type": "markdown",
   "metadata": {},
   "source": [
    "<img src=\"7.png\" width=\"700\" />"
   ]
  },
  {
   "cell_type": "markdown",
   "metadata": {},
   "source": [
    "- 플로이드-워쉘 알고리즘 예시\n",
    "\n",
    "정점2에서 정점3까지의 최단거리를 구하는 예시"
   ]
  },
  {
   "cell_type": "markdown",
   "metadata": {},
   "source": [
    "<img src=\"8.png\" width=\"1000\" />"
   ]
  },
  {
   "cell_type": "markdown",
   "metadata": {},
   "source": [
    "- 파이썬 코드구현 예시"
   ]
  },
  {
   "cell_type": "code",
   "execution_count": 9,
   "metadata": {},
   "outputs": [
    {
     "name": "stdout",
     "output_type": "stream",
     "text": [
      "A mat\n",
      "   0   5   7   9  11   7\n",
      "  10   0   6   4   6   2\n",
      "   8  13   0  17   6  15\n",
      "   6  10   5   0   2   3\n",
      "   8  13   3  17   0  10\n",
      "  12   7   4  11  10   0\n",
      "\n",
      "path mat\n",
      "  N   N   N   1   3   1 \n",
      "  3   N   5   N   3   N \n",
      "  N   0   N   1   N   1 \n",
      "  N   5   4   N   N   N \n",
      "  N   0   N   1   N   N \n",
      "  2   N   N   1   2   N \n",
      "\n",
      "path from 2 to 3\n",
      "2  0  1  3  "
     ]
    }
   ],
   "source": [
    "from copy import deepcopy\n",
    "class ShortestPath:\n",
    "    def __init__(self, A, path):\n",
    "        #2차원 배열 A\n",
    "        self.A=A\n",
    "        #2차원 배열 path\n",
    "        self.path=path\n",
    "\n",
    "class Graph:\n",
    "    #모든 가중치보다 충분히 큰 수(inf 대신 사용)\n",
    "    BIG_NUMBER=2000\n",
    "    @staticmethod\n",
    "    def print_shortest_path(sp, source, dest):\n",
    "        #경로 중 source와 dest를 제외하고 출력한다\n",
    "        if sp.path[source][dest]==None:\n",
    "            return\n",
    "        \n",
    "        # i~k까지 출력\n",
    "        Graph.print_shortest_path(sp, source, sp.path[source][dest])\n",
    "        # k 출력\n",
    "        print(sp.path[source][dest], end=\"  \")\n",
    "        # k~j까지 출력\n",
    "        Graph.print_shortest_path(sp, sp.path[source][dest], dest)\n",
    "\n",
    "    def __init__(self, vnum):\n",
    "        #A^-1 mat을 만들 때 if <u, v> not in E(G) then inf\n",
    "        #inf 대신에 모든 가중치보다 충분히 큰 수를 사용\n",
    "        self.adjacency_matrix=[[self.BIG_NUMBER for _ in range(vnum)] for _ in range(vnum)]\n",
    "\n",
    "        for i in range(vnum):\n",
    "            self.adjacency_matrix[i][i]=0\n",
    "        self.vertex_num=vnum\n",
    "\n",
    "    def insert_edge(self, u, v, w):\n",
    "        self.adjacency_matrix[u][v]=w\n",
    "\n",
    "    def floyd_warshall(self):\n",
    "        #A^-1 mat\n",
    "        A=deepcopy(self.adjacency_matrix)\n",
    "        #경로 기록을 위한 2차원 배열\n",
    "        path=[[None for _ in range(self.vertex_num)] for _ in range(self.vertex_num)]\n",
    "\n",
    "        for k in range(self.vertex_num):\n",
    "            for i in range(self.vertex_num):\n",
    "                for j in range(self.vertex_num):\n",
    "                    #A^k[i][j]=min{A^(k-1)[i][j], A^(k-1)[i][k]+A^(k-1)[k][j]}\n",
    "                    if A[i][j] > A[i][k] + A[k][j]:\n",
    "                        A[i][j]=A[i][k]+A[k][j]\n",
    "                        path[i][j]=k\n",
    "        \n",
    "        sp=ShortestPath(A, path)\n",
    "        return sp\n",
    "\n",
    "if __name__==\"__main__\":\n",
    "    # simple example\n",
    "    # g=Graph(4)\n",
    "    # g.insert_edge(0, 1, 12)\n",
    "    # g.insert_edge(0, 2, 3)\n",
    "    # g.insert_edge(1, 3, 15)\n",
    "    # g.insert_edge(1, 2, 5)\n",
    "    # g.insert_edge(2, 0, 7)\n",
    "    # g.insert_edge(2, 1, 6)\n",
    "    # g.insert_edge(2, 3, 2)\n",
    "    # g.insert_edge(3, 1, 13)\n",
    "    # g.insert_edge(3, 2, 6)\n",
    "\n",
    "    # source=0\n",
    "    # dest=3\n",
    "\n",
    "    # complicated example\n",
    "    g=Graph(6)\n",
    "    g.insert_edge(0, 1, 5)\n",
    "    g.insert_edge(0, 2, 7)\n",
    "    g.insert_edge(0, 5, 9)\n",
    "    g.insert_edge(1, 3, 4)\n",
    "    g.insert_edge(1, 5, 2)\n",
    "    g.insert_edge(2, 0, 8)\n",
    "    g.insert_edge(2, 4, 6)\n",
    "    g.insert_edge(3, 0, 6)\n",
    "    g.insert_edge(3, 4, 2)\n",
    "    g.insert_edge(3, 5, 3)\n",
    "    g.insert_edge(4, 0, 8)\n",
    "    g.insert_edge(4, 2, 3)\n",
    "    g.insert_edge(4, 5, 10)\n",
    "    g.insert_edge(5, 1, 7)\n",
    "    g.insert_edge(5, 2, 4)\n",
    "\n",
    "    source=2\n",
    "    dest=3\n",
    "\n",
    "    sp=g.floyd_warshall()\n",
    "\n",
    "    print(\"A mat\")\n",
    "    for i in range(g.vertex_num):\n",
    "        for j in range(g.vertex_num):\n",
    "            print(\"{}\".format(sp.A[i][j]).rjust(4), end=\"\")\n",
    "        print()\n",
    "    print()\n",
    "\n",
    "    print(\"path mat\")\n",
    "    for i in range(g.vertex_num):\n",
    "        for j in range(g.vertex_num):\n",
    "            if sp.path[i][j]==None:\n",
    "                print(\"{} \".format(\"N\").rjust(4), end=\"\")\n",
    "            else:\n",
    "                print(\"{} \".format(sp.path[i][j]).rjust(4), end=\"\")\n",
    "        print()\n",
    "    print()\n",
    "\n",
    "    print(\"path from {} to {}\".format(source, dest))\n",
    "    print(\"{}\".format(source), end=\"  \")\n",
    "    g.print_shortest_path(sp, source, dest)\n",
    "    print(\"{}\".format(dest), end=\"  \")"
   ]
  }
 ],
 "metadata": {
  "kernelspec": {
   "display_name": "Python 3",
   "language": "python",
   "name": "python3"
  },
  "language_info": {
   "codemirror_mode": {
    "name": "ipython",
    "version": 3
   },
   "file_extension": ".py",
   "mimetype": "text/x-python",
   "name": "python",
   "nbconvert_exporter": "python",
   "pygments_lexer": "ipython3",
   "version": "3.7.3"
  }
 },
 "nbformat": 4,
 "nbformat_minor": 2
}
