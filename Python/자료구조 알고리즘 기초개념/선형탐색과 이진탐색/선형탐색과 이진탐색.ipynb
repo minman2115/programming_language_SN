{
 "cells": [
  {
   "cell_type": "markdown",
   "metadata": {},
   "source": [
    "#### 그림, 실습코드 등 학습자료 출처 : https://github.com/ythwork\n",
    "\n",
    "### [선형탐색]\n",
    "\n",
    "- 파이썬코드 구현"
   ]
  },
  {
   "cell_type": "code",
   "execution_count": 4,
   "metadata": {},
   "outputs": [
    {
     "name": "stdout",
     "output_type": "stream",
     "text": [
      "[1, 4, 9, 16, 25, 36, 49, 64, 81]\n",
      "index : 1, data : 4\n"
     ]
    }
   ],
   "source": [
    "def linear_search(li, target):\n",
    "    \n",
    "    for idx in range(len(li)):\n",
    "        if target==li[idx]:\n",
    "            return idx\n",
    "    return None\n",
    "\n",
    "if __name__==\"__main__\":\n",
    "    data=[i**2 for i in range(1, 9+1)]\n",
    "    \n",
    "    print(data)\n",
    "\n",
    "    target=4\n",
    "    idx=linear_search(data, target)\n",
    "\n",
    "    if idx:\n",
    "        print('index : {}, data : {}'.format(idx, data[idx]))\n",
    "    else:\n",
    "        print('Failed to find the data of {}'.format(target))"
   ]
  },
  {
   "cell_type": "markdown",
   "metadata": {},
   "source": [
    "linear_search(li(리스트), target(찾고자 하는 타겟))\n",
    "\n",
    "return 값으로 리스트에 있는 데이터를 반환한다.\n",
    "\n",
    "li는 리스트를 의미한다.\n",
    "\n",
    "target는 찾고자 하는 데이터\n",
    "\n",
    "return은 찾았다면 찾은 데이터, 없다면 None을 반환해준다.\n",
    "    \n",
    "기본원리 : 말그대로 리스트를 넣어서 그 리스트의 인덱스에 해당하는 value값과 target 데이터랑 비교하여 그 벨류값과 타겟 데이터가 같을 경우 인덱스를 리턴해준다."
   ]
  },
  {
   "cell_type": "markdown",
   "metadata": {},
   "source": [
    "### [이진탐색]\n",
    "\n",
    "- 이진탐색 성립조건 : 데이터가 반드시 정렬된 상태이어야 한다.\n",
    "\n",
    "\n",
    "- 이진탐색 구현하기\n",
    "\n",
    "예를 들어서 list = [1,2,3,4,5,6,7,8,9,10], target = 2라고 할때 이진탐색의 탐색과정\n",
    "\n",
    "\n",
    "step 1) 가운데 인덱스(=mid)를 먼저 구한다.\n",
    "\n",
    "ex)"
   ]
  },
  {
   "cell_type": "code",
   "execution_count": null,
   "metadata": {},
   "outputs": [],
   "source": [
    "start = 0 \n",
    "# 파이썬 인덱스가 가장 앞에는 0이기 때문에\n",
    "\n",
    "end = len(list)-1 \n",
    "# 파이썬 리스트에서 가장 끝의 인덱스는 list의 길이 -1이다.\n",
    " \n",
    "middle = (start + end) // 2 \n",
    "# 따라서 가운데 인덱스는 start 인덱스와 end 인덱스를 더해서 2로 나누었을때 몫을 의미한다."
   ]
  },
  {
   "cell_type": "markdown",
   "metadata": {},
   "source": [
    "<img src=\"1.png\" width=\"700\" />"
   ]
  },
  {
   "cell_type": "markdown",
   "metadata": {},
   "source": [
    "step 2) target과 mid 의 값을 비교한다.\n",
    "\n",
    "mid = 5\n",
    "\n",
    "target = 2\n",
    "\n",
    "\n",
    "step 3) mid > target일 경우\n",
    "\n",
    "mid 값을 업데이트 한다. end = middle-1로 업데이트 해주고 기존에 middle 이후의 것들은 신경 안써도 된다.\n",
    "\n",
    "그래서 start = 0, end = 4이기 때문에 middle = 2가 된다."
   ]
  },
  {
   "cell_type": "markdown",
   "metadata": {},
   "source": [
    "<img src=\"2.png\" width=\"700\" />"
   ]
  },
  {
   "cell_type": "markdown",
   "metadata": {},
   "source": [
    "step 4) mid < target 일 경우\n",
    "\n",
    "- mid 이하는 아예 무시한다.\n",
    "\n",
    "\n",
    "- mid값을 업데이트 한다. 먼저 start를 mid+1로 옮겨준다. 그 다음에 (start / end) // 2 로 새로운 mid값을 설정해준다.\n",
    "\n",
    "step 5) start와 end가 같아지고 mid와 start,end가 교차되는 순간(start > end) while문을 빠져나오도록 조건을 걸어준다\n",
    "   \n",
    "\n",
    "- 파이썬코드 구현"
   ]
  },
  {
   "cell_type": "code",
   "execution_count": 5,
   "metadata": {},
   "outputs": [
    {
     "name": "stdout",
     "output_type": "stream",
     "text": [
      "index : 2, data : 9\n"
     ]
    }
   ],
   "source": [
    "def binary_search(li, target):\n",
    "    start=0\n",
    "    end=len(li)-1\n",
    "\n",
    "    while start <= end:\n",
    "        middle=(start+end)//2\n",
    "        if li[middle]==target:\n",
    "            return middle\n",
    "        elif li[middle] > target:\n",
    "            end=middle-1\n",
    "        else:\n",
    "            start=middle+1\n",
    "\n",
    "    return None\n",
    "\n",
    "if __name__==\"__main__\":\n",
    "    data=[i**2 for i in range(1, 10)]\n",
    "\n",
    "    target=9\n",
    "    idx=binary_search(data, target)\n",
    "\n",
    "    if idx:\n",
    "        \n",
    "        print('index : {}, data : {}'.format(idx, data[idx]))\n",
    "    else:\n",
    "        print('Failed to find the data of {}'.format(target))"
   ]
  }
 ],
 "metadata": {
  "kernelspec": {
   "display_name": "Python 3",
   "language": "python",
   "name": "python3"
  },
  "language_info": {
   "codemirror_mode": {
    "name": "ipython",
    "version": 3
   },
   "file_extension": ".py",
   "mimetype": "text/x-python",
   "name": "python",
   "nbconvert_exporter": "python",
   "pygments_lexer": "ipython3",
   "version": "3.7.3"
  }
 },
 "nbformat": 4,
 "nbformat_minor": 2
}
