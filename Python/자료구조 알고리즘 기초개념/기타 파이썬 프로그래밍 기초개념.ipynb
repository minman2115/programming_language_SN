{
 "cells": [
  {
   "cell_type": "markdown",
   "metadata": {},
   "source": [
    "#### 그림, 실습코드 등 학습자료 출처 : https://github.com/ythwork\n",
    "\n",
    "1) 오버로딩\n",
    "\n",
    "오버로딩은 사실 파이썬에서 지원하지 않는다.\n",
    "\n",
    "상속에서 나오는 개념이다.\n",
    "\n",
    "같은 레벨에서 같은 이름의 함수가 두가지 있을때\n",
    "\n",
    "가장 최근에 정의했던 함수를 실행하게 된다.\n",
    "\n",
    "기존에 있던 함수를 그냥 덮어버린다.\n",
    "\n",
    "일부 프로그래밍 언어에서는 이름이 같지만 다른 함수로 인정하는 경우가 있다.\n",
    "\n",
    "예를 들어서 인자가 다를때, 데이터 타입이 다를때 이럴때 인정을 해주는데 이런 개념을 오버로딩이라고 한다.\n",
    "\n",
    "2) 오버라이딩\n",
    "\n",
    "오버라이딩도 파이썬에서 지원하지 않는다.\n",
    "\n",
    "기본클래스가 있고 상속받은 파생클래스가 있다고 할때\n",
    "\n",
    "부모클래스 내에 있는 이미 존재하는 함수를 자식클래스에서 다시 정의하는 것을 말하고 이것을 매서드 오버라이딩이라고 한다.\n",
    "\n",
    "3) 다형성의 특수한 예시"
   ]
  },
  {
   "cell_type": "code",
   "execution_count": 1,
   "metadata": {},
   "outputs": [],
   "source": [
    "class Point:\n",
    "    def __init__(self, x, y):\n",
    "        self.x = x\n",
    "        self.y = y"
   ]
  },
  {
   "cell_type": "code",
   "execution_count": 2,
   "metadata": {},
   "outputs": [],
   "source": [
    "p1 = Point(2,3)"
   ]
  },
  {
   "cell_type": "markdown",
   "metadata": {},
   "source": [
    "- 아래의 코드가 수행했으면 하는게\n",
    "\n",
    "\n",
    "- p1에 각 x와 y에 1을 더해서 p2로 반환하고 싶다. 그러나 결과는 애러가 난다."
   ]
  },
  {
   "cell_type": "code",
   "execution_count": 3,
   "metadata": {},
   "outputs": [
    {
     "ename": "TypeError",
     "evalue": "unsupported operand type(s) for +: 'Point' and 'int'",
     "output_type": "error",
     "traceback": [
      "\u001b[1;31m---------------------------------------------------------------------------\u001b[0m",
      "\u001b[1;31mTypeError\u001b[0m                                 Traceback (most recent call last)",
      "\u001b[1;32m<ipython-input-3-35ae83714e86>\u001b[0m in \u001b[0;36m<module>\u001b[1;34m\u001b[0m\n\u001b[1;32m----> 1\u001b[1;33m \u001b[0mp2\u001b[0m \u001b[1;33m=\u001b[0m \u001b[0mp1\u001b[0m \u001b[1;33m+\u001b[0m \u001b[1;36m1\u001b[0m\u001b[1;33m\u001b[0m\u001b[1;33m\u001b[0m\u001b[0m\n\u001b[0m",
      "\u001b[1;31mTypeError\u001b[0m: unsupported operand type(s) for +: 'Point' and 'int'"
     ]
    }
   ],
   "source": [
    "p2 = p1 + 1"
   ]
  },
  {
   "cell_type": "markdown",
   "metadata": {},
   "source": [
    "- 연산자는 같은 타입의 데이터를 연산해주는 것인데 어쨌든 위에 의도한거 처럼 하고 싶다. 이럴때는 아래와 같이 구현해주면 된다."
   ]
  },
  {
   "cell_type": "code",
   "execution_count": 9,
   "metadata": {},
   "outputs": [
    {
     "name": "stdout",
     "output_type": "stream",
     "text": [
      "(3, 4)\n"
     ]
    }
   ],
   "source": [
    "class Point:\n",
    "    def __init__(self, x, y):\n",
    "        self.x = x\n",
    "        self.y = y\n",
    "        \n",
    "    def __add__(self, num):\n",
    "        x = self.x + num\n",
    "        y = self.y + num\n",
    "        return Point(x,y)\n",
    "    ## 그냥 x와 y로 받아주는 이유는 기존에 값을 변경하지 않기 위해서이다.\n",
    "    ## 만약에 self.x 와 self.y로 받아주게 되면 기존에 있던 값들을 덮어씌우면서\n",
    "    ## 기존에 값이 바뀌게 된다.\n",
    "    \n",
    "    def __str__(self):\n",
    "        return '({}, {})'.format(self.x, self.y)\n",
    "    \n",
    "p1 = Point(2,3)\n",
    "\n",
    "p2 = p1 + 1\n",
    "print(p2)"
   ]
  },
  {
   "cell_type": "markdown",
   "metadata": {},
   "source": [
    "- p2 = 1 + p1 를 실행하면 이때는 오류가 난다. 순서가 바뀌었기 때문에 그러는데 이것도 받아주기 위해 아래 구현한 코드와 같이 radd를 추가하면 하면 된다."
   ]
  },
  {
   "cell_type": "code",
   "execution_count": 12,
   "metadata": {},
   "outputs": [
    {
     "ename": "TypeError",
     "evalue": "unsupported operand type(s) for +: 'int' and 'Point'",
     "output_type": "error",
     "traceback": [
      "\u001b[1;31m---------------------------------------------------------------------------\u001b[0m",
      "\u001b[1;31mTypeError\u001b[0m                                 Traceback (most recent call last)",
      "\u001b[1;32m<ipython-input-12-243447a8ecec>\u001b[0m in \u001b[0;36m<module>\u001b[1;34m\u001b[0m\n\u001b[1;32m----> 1\u001b[1;33m \u001b[0mp2\u001b[0m \u001b[1;33m=\u001b[0m \u001b[1;36m1\u001b[0m \u001b[1;33m+\u001b[0m \u001b[0mp1\u001b[0m\u001b[1;33m\u001b[0m\u001b[1;33m\u001b[0m\u001b[0m\n\u001b[0m",
      "\u001b[1;31mTypeError\u001b[0m: unsupported operand type(s) for +: 'int' and 'Point'"
     ]
    }
   ],
   "source": [
    "p2 = 1 + p1"
   ]
  },
  {
   "cell_type": "code",
   "execution_count": 13,
   "metadata": {},
   "outputs": [],
   "source": [
    "class Point:\n",
    "    def __init__(self, x, y):\n",
    "        self.x = x\n",
    "        self.y = y\n",
    "        \n",
    "    def __add__(self, num):\n",
    "        x = self.x + num\n",
    "        y = self.y + num\n",
    "        return Point(x,y)\n",
    "\n",
    "    def __radd__(self, num):\n",
    "        x = self.x + num\n",
    "        y = self.y + num\n",
    "        return Point(x,y)\n",
    "    \n",
    "    def __str__(self):\n",
    "        return '({}, {})'.format(self.x, self.y)\n",
    "\n",
    "## __str__은 print(어떤값) 이라고 하면 어떤값을 \n",
    "## 스트링으로 변환해서 출력하게 하는 함수이다."
   ]
  },
  {
   "cell_type": "code",
   "execution_count": 20,
   "metadata": {},
   "outputs": [
    {
     "name": "stdout",
     "output_type": "stream",
     "text": [
      "(3, 4)\n"
     ]
    }
   ],
   "source": [
    "p1 = Point(2,3)\n",
    "\n",
    "p2 = 1 + p1\n",
    "print(p2)"
   ]
  },
  {
   "cell_type": "markdown",
   "metadata": {},
   "source": [
    "4) expression(식) vs statement(문)\n",
    "\n",
    "- expression(식)\n",
    "\n",
    "반드시 어떤값이 있어야 한다.\n",
    "\n",
    "ex) 3 + 5 ==> 식이다. 다항식\n",
    "\n",
    "ex) 3 ==> 식이다. 단항식\n",
    "\n",
    "ex) 'kim' ==> 식이다. 단항식\n",
    "\n",
    "왜냐하면 값이 있기 때문에\n",
    "\n",
    "\n",
    "- statement(문)\n",
    "\n",
    "ex) a = 1 + 5\n",
    "\n",
    "\n",
    "파이썬에서 모든함수는 식이다.\n",
    "\n",
    "따라서 모든함수는 값을 반환해야 한다.\n",
    "\n",
    "그런데 우리가 리턴을 명시를 안해줬다고 치자.\n",
    "\n",
    "이럴 경우에는 파이썬에서는 그 함수를 None 값으로 반환시킨다."
   ]
  },
  {
   "cell_type": "markdown",
   "metadata": {},
   "source": [
    "- *args 예시"
   ]
  },
  {
   "cell_type": "code",
   "execution_count": 14,
   "metadata": {},
   "outputs": [
    {
     "name": "stdout",
     "output_type": "stream",
     "text": [
      "[1, 2, 3, 4]\n"
     ]
    }
   ],
   "source": [
    "li = [1,2,3,4]\n",
    "\n",
    "def func(*args):\n",
    "    for elem in args:\n",
    "        print(elem)\n",
    "        \n",
    "func(li)"
   ]
  },
  {
   "cell_type": "code",
   "execution_count": 15,
   "metadata": {
    "scrolled": true
   },
   "outputs": [
    {
     "name": "stdout",
     "output_type": "stream",
     "text": [
      "1\n",
      "2\n",
      "3\n",
      "4\n"
     ]
    }
   ],
   "source": [
    "func(*li)"
   ]
  }
 ],
 "metadata": {
  "kernelspec": {
   "display_name": "Python 3",
   "language": "python",
   "name": "python3"
  },
  "language_info": {
   "codemirror_mode": {
    "name": "ipython",
    "version": 3
   },
   "file_extension": ".py",
   "mimetype": "text/x-python",
   "name": "python",
   "nbconvert_exporter": "python",
   "pygments_lexer": "ipython3",
   "version": "3.7.3"
  }
 },
 "nbformat": 4,
 "nbformat_minor": 2
}
