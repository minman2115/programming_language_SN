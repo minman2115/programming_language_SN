{
 "cells": [
  {
   "cell_type": "markdown",
   "metadata": {},
   "source": [
    "#### 그림, 실습코드 등 학습자료 출처 : https://github.com/ythwork\n",
    "\n",
    "1) https://github.com/ythwork\n",
    "\n",
    "2) https://gmlwjd9405.github.io/2018/05/10/data-structure-heap.html\n",
    "\n",
    "#### 1. heap 개요\n",
    "\n",
    "- 힙은 완전이진트리의 일종으로 우선순위 큐 구현을 위해 만들어진 자료구조이다.\n",
    "\n",
    "\n",
    "- 여러 개의 값들 중에서 최댓값이나 최솟값을 빠르게 찾아내도록 만들어졌다.\n",
    "\n",
    "\n",
    "- 힙은 일종의 '반정렬 상태'를 유지한다.\n",
    "\n",
    "간단히 말하면 부모 노드의 키 값이 자식 노드의 키 값보다 항상 큰(작은) 이진 트리를 말한다.\n",
    "\n",
    "- 힙 트리에서는 중복된 값을 허용한다. \n",
    "\n",
    "이진 탐색 트리에서는 중복된 값을 허용하지 않는다.\n",
    "\n",
    "\n",
    "#### 2. 우선순위 큐\n",
    "\n",
    "큐긴 큐인데 선입선출이 아니라 데이터에 우선순위를 정해서 우선순위가 높은 순위가 먼저 out될 수 있도록 하는 큐이다.\n",
    "\n",
    "ex) 잡 스케쥴링, 자바스크립트 이벤트 구현 등\n",
    "\n",
    "- 우선순위 큐 ADT\n",
    "\n",
    "1) pq.push(elem) : 우선순위를 가진 원소를 삽입하면 자동으로 재정렬\n",
    "\n",
    "\n",
    "2) pq.pop() : 우선순위가 가장 큰 원소를 삭제 후 반환\n",
    "\n",
    "\n",
    "3) pq.top() : 우선순위가 가장 큰 원소를 삭제하지 않고 반환\n",
    "\n",
    "#### 3. 힙의 종류"
   ]
  },
  {
   "cell_type": "markdown",
   "metadata": {},
   "source": [
    "<img src=\"1.jpg\" width=\"1000\" />"
   ]
  },
  {
   "cell_type": "markdown",
   "metadata": {},
   "source": [
    "#### 4. 최대 힙 예시"
   ]
  },
  {
   "cell_type": "markdown",
   "metadata": {},
   "source": [
    "<img src=\"2.jpg\" width=\"1000\" />"
   ]
  },
  {
   "cell_type": "markdown",
   "metadata": {},
   "source": [
    "- 부모 인덱스를 구하는 방법\n",
    "\n",
    "공식 : 부모인덱스 = 인덱스 / 2\n",
    "\n",
    "ex) 2번 인덱스의 부모 : 1, 5번 인덱스의 부모 : 2\n",
    "\n",
    "- 자식 인덱스를 구하는 방법\n",
    "\n",
    "공식 : 왼쪽 자식인덱스 : 인덱스 * 2, 오른쪽 자식인덱스 : 인덱스*2 + 1\n",
    "\n",
    "ex) 2번 인덱스의 왼쪽자식 : 4, 2번 인덱스의 부모 : 5\n",
    "\n",
    "#### 5. 최대 힙에서 push\n",
    "\n",
    "step1) 새로운 원소를 완전 이진트리 유지를 위해 가장 아래의 왼쪽에 삽입한다.\n",
    "\n",
    "step2) 삽입된 원소와 그것의 부모 key와 비교해서 삽입된 원소가 부모보다 크면 서로 데이터를 바꿔주는 것을 반복한다. 부모의 키가 더 크면 종료한다.\n",
    "\n",
    "while문으로 구현시\n",
    "temp의 key가 parent of key보다 크면 바꿔주는 알고리즘"
   ]
  },
  {
   "cell_type": "markdown",
   "metadata": {},
   "source": [
    "<img src=\"3.jpg\" width=\"1000\" />"
   ]
  },
  {
   "cell_type": "markdown",
   "metadata": {},
   "source": [
    "#### 5. 최대 힙에서 pop\n",
    "\n",
    "step1) 루트가 가장크기 때문에 루트를 뽑아주면 된다.\n",
    "\n",
    "step2) 루트가 공석이기 때문에 채워줘야 한다. 완전이진트리를 유지하기 위해서는 가장 아래의 오른쪽을 루트로 옮겨주면된다.\n",
    "\n",
    "step3) 가장 큰 데이터가 루트에 와야 하는데 그게 아니므로 현재 루트의 자식노드 중 큰 자식노드와 비교해서 바꿔준다.\n",
    "\n",
    "step4) 또 그 자식과 큰 놈과 또 비교해서 현재 temp가 더 작으면 교환하고 하니면 종료한다."
   ]
  },
  {
   "cell_type": "markdown",
   "metadata": {},
   "source": [
    "<img src=\"4.jpg\" width=\"1000\" />"
   ]
  },
  {
   "cell_type": "markdown",
   "metadata": {},
   "source": [
    "#### 6. 최대 힙 파이썬 코드구현"
   ]
  },
  {
   "cell_type": "code",
   "execution_count": 1,
   "metadata": {},
   "outputs": [],
   "source": [
    "class Element: ## 키와 데이터를 가리키는 \n",
    "    def __init__(self, key, data=None):\n",
    "        self.key = key\n",
    "        self.data = None\n",
    "\n",
    "class MaxHeap:\n",
    "    \n",
    "    ## 힙을 구현하는 내부 자료구조는 배열(list 또는 array)이다.\n",
    "       \n",
    "    MAX_ELEMENTS=200 ## 데이터를 200개까지 저장하는 한도를 정해줌\n",
    "    \n",
    "    def __init__(self):\n",
    "        self.arr = [None for i in range(self.MAX_ELEMENTS)]\n",
    "        self.heapsize = 0\n",
    "\n",
    "    def is_empty(self):\n",
    "        if self.heapsize==0:\n",
    "            return True\n",
    "        return False\n",
    "\n",
    "    def is_full(self):\n",
    "        if self.heapsize>=self.MAX_ELEMENTS:\n",
    "            return True\n",
    "        return False\n",
    "\n",
    "    def __get_parent_idx(self, idx): ## idx는 키값은 아니다. \n",
    "        return idx // 2\n",
    "        ## 부모의 인덱스를 계산해서 리턴\n",
    "    \n",
    "    def __get_left_child_idx(self, idx):\n",
    "        return idx * 2\n",
    "\n",
    "    def __get_right_child_idx(self, idx):\n",
    "        return idx * 2 + 1\n",
    "\n",
    "    def push(self, item):\n",
    "        if self.is_full():\n",
    "            raise IndexError(\"the heap is full!!\")\n",
    "\n",
    "        self.heapsize+=1\n",
    "        cur_idx=self.heapsize\n",
    "\n",
    "        #cur_idx가 루트가 아니고\n",
    "        #item의 key가 cur_idx 부모의 키보다 크면\n",
    "        while cur_idx! = 1 and item.key > self.arr[self.__get_parent_idx(cur_idx)].key :\n",
    "            self.arr[cur_idx] = self.arr[self.__get_parent_idx(cur_idx)]\n",
    "            cur_idx = self.__get_parent_idx(cur_idx)\n",
    "            \n",
    "        self.arr[cur_idx] = item\n",
    "\n",
    "    def __get_bigger_child_idx(self, idx):\n",
    "        ## pop함수에서 '두 자식 원소중 key가 더 큰 원소를 선택'할때 쓰는 함수\n",
    "        \n",
    "        if self.heapsize < self.__get_left_child_idx(idx):\n",
    "            return None\n",
    "        ## case1) self.heapsize < self.__get_left_child_idx(idx) 경우\n",
    "        ## idx는 leaf 노드다\n",
    "        \n",
    "        elif self.heapsize == self.__get_left_child_idx(idx):\n",
    "            return self.__get_left_child_idx(idx)\n",
    "        ## case2) self.heapsize == self.__get_left_child_idx(idx) 경우\n",
    "        ## idx의 자식이 왼쪽노드 하나가 있다.\n",
    "        \n",
    "        else:\n",
    "        ## case3) self.heapsize > self.__get_left_child_idx(idx) 경우 \n",
    "        ## idx 자식이 왼쪽 오른쪽 둘다 있는 경우\n",
    "        ## 이 경우에는 왼쪽 오른쪽 자식을 비교해서 더 큰것을 반환한다.\n",
    "        ## 반환하는 것은 엘리먼트를 반환하는 것이 아니라 인덱스를 반환한다.\n",
    "            left_child = self.__get_left_child_idx(idx)\n",
    "            right_child = self.__get_right_child_idx(idx)\n",
    "            if self.arr[left_child].key > self.arr[right_child].key:\n",
    "                return left_child\n",
    "            else:\n",
    "                return right_child\n",
    "\n",
    "    def pop(self):\n",
    "        if self.is_empty():\n",
    "            return None\n",
    "\n",
    "        #삭제된 후 반환될 원소\n",
    "        rem_elem = self.arr[1]\n",
    "\n",
    "        #맨 마지막에 위치한 원소\n",
    "        temp = self.arr[self.heapsize]\n",
    "\n",
    "        ## 아래코드들은 루트에서 시작, 아래로 쭉 이어짐\n",
    "        \n",
    "        cur_idx = 1\n",
    "        ## 루트 인덱스를 의미함\n",
    "        \n",
    "        bigger_child_idx = self.__get_bigger_child_idx(cur_idx)\n",
    "        ## 현재 위치에서 bigger_child_idx는 루트의 좌측 차일드 인덱스\n",
    "        \n",
    "        while bigger_child_idx and temp.key < self.arr[bigger_child_idx].key:\n",
    "            self.arr[cur_idx] = self.arr[bigger_child_idx]\n",
    "            cur_idx = bigger_child_idx\n",
    "            bigger_child_idx = self.__get_bigger_child_idx(cur_idx)\n",
    "        \n",
    "        self.arr[cur_idx] = temp \n",
    "        ## 힙에서 가장 마지막 원소\n",
    "        \n",
    "        self.heapsize -= 1\n",
    "\n",
    "        return rem_elem\n",
    "\n",
    "    def top(self):\n",
    "        if self.is_empty():\n",
    "            return None\n",
    "\n",
    "        return self.arr[1]"
   ]
  },
  {
   "cell_type": "code",
   "execution_count": 2,
   "metadata": {},
   "outputs": [],
   "source": [
    "def print_heap(h):\n",
    "    for i in range(1, h.heapsize+1):\n",
    "        print(\"{}\".format(h.arr[i].key), end=\"  \")\n",
    "    print()"
   ]
  },
  {
   "cell_type": "markdown",
   "metadata": {},
   "source": [
    "- push"
   ]
  },
  {
   "cell_type": "code",
   "execution_count": 3,
   "metadata": {},
   "outputs": [
    {
     "name": "stdout",
     "output_type": "stream",
     "text": [
      "14  2  9  \n"
     ]
    }
   ],
   "source": [
    "h=MaxHeap()\n",
    "\n",
    "e=Element(2)\n",
    "h.push(e)\n",
    "\n",
    "e=Element(14)\n",
    "h.push(e)\n",
    "\n",
    "e=Element(9)\n",
    "h.push(e)\n",
    "\n",
    "print_heap(h)"
   ]
  },
  {
   "cell_type": "code",
   "execution_count": 4,
   "metadata": {},
   "outputs": [
    {
     "name": "stdout",
     "output_type": "stream",
     "text": [
      "14  11  9  2  \n"
     ]
    }
   ],
   "source": [
    "e=Element(11)\n",
    "h.push(e)\n",
    "print_heap(h)"
   ]
  },
  {
   "cell_type": "code",
   "execution_count": 5,
   "metadata": {},
   "outputs": [
    {
     "name": "stdout",
     "output_type": "stream",
     "text": [
      "14  11  9  2  6  8  \n"
     ]
    }
   ],
   "source": [
    "e=Element(6)\n",
    "h.push(e)\n",
    "\n",
    "e=Element(8)\n",
    "h.push(e)\n",
    "\n",
    "print_heap(h)"
   ]
  },
  {
   "cell_type": "markdown",
   "metadata": {},
   "source": [
    "- pop"
   ]
  },
  {
   "cell_type": "code",
   "execution_count": 6,
   "metadata": {},
   "outputs": [
    {
     "name": "stdout",
     "output_type": "stream",
     "text": [
      "poped item is 14\n",
      "11  8  9  2  6  \n",
      "poped item is 11\n",
      "9  8  6  2  \n",
      "poped item is 9\n",
      "8  2  6  \n",
      "poped item is 8\n",
      "6  2  \n",
      "poped item is 6\n",
      "2  \n",
      "poped item is 2\n",
      "\n"
     ]
    }
   ],
   "source": [
    "rem=h.pop()\n",
    "print(\"poped item is {}\".format(rem.key))\n",
    "print_heap(h)\n",
    "\n",
    "rem=h.pop()\n",
    "print(\"poped item is {}\".format(rem.key))\n",
    "print_heap(h)\n",
    "\n",
    "rem=h.pop()\n",
    "print(\"poped item is {}\".format(rem.key))\n",
    "print_heap(h)\n",
    "\n",
    "rem=h.pop()\n",
    "print(\"poped item is {}\".format(rem.key))\n",
    "print_heap(h)\n",
    "\n",
    "rem=h.pop()\n",
    "print(\"poped item is {}\".format(rem.key))\n",
    "print_heap(h)\n",
    "\n",
    "rem=h.pop()\n",
    "print(\"poped item is {}\".format(rem.key))\n",
    "print_heap(h)"
   ]
  }
 ],
 "metadata": {
  "kernelspec": {
   "display_name": "Python 3",
   "language": "python",
   "name": "python3"
  },
  "language_info": {
   "codemirror_mode": {
    "name": "ipython",
    "version": 3
   },
   "file_extension": ".py",
   "mimetype": "text/x-python",
   "name": "python",
   "nbconvert_exporter": "python",
   "pygments_lexer": "ipython3",
   "version": "3.7.3"
  }
 },
 "nbformat": 4,
 "nbformat_minor": 2
}
