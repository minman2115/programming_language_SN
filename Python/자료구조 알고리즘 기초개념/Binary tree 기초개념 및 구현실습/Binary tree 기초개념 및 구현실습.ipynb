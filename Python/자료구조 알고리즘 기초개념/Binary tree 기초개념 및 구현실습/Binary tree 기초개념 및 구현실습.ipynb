{
 "cells": [
  {
   "cell_type": "markdown",
   "metadata": {},
   "source": [
    "#### 그림, 실습코드 등 학습자료 출처 : https://github.com/ythwork\n",
    "\n",
    "### 트리의 정의\n",
    "\n",
    "- connected acyclic graph : 연결된 그리고 사이클이 없는 그래프\n",
    "\n",
    "\n",
    "- 트리는 1개 이상의 노드로 이루어진 집합\n",
    "\n",
    "\n",
    "- 트리는 그래프의 일종이다.\n",
    "\n",
    "\n",
    "- '연결된' : 인접해있거나 노드간에 연결이 되어 있다는 의미\n",
    "\n",
    "\n",
    "- '사이클' : 노드의 방향을 타고 가다가 결국에는 나 자신에게 돌아오는 경로가 있는 것, 또는 루프라고 부르기도 한다.\n",
    "\n",
    "\n",
    "아래 그림이 사이클의 예시라고 할 수 있다."
   ]
  },
  {
   "cell_type": "markdown",
   "metadata": {},
   "source": [
    "<img src=\"1.png\" width=\"300\" />"
   ]
  },
  {
   "cell_type": "markdown",
   "metadata": {},
   "source": [
    "- 참고로 트리라는 범주가 있으면 이진트리는 트리가 아니다.\n",
    "\n",
    "\n",
    "- 별개의 트리가 여러개 있는 경우 : forest라고 부른다.\n",
    "\n",
    "\n",
    "- 루트노드를 반드시 가진다.\n",
    "\n",
    "\n",
    "- 트리를 구성하는 노드간 끊어진 부분이 없어야 한다. (노드간에 단순 경로가 존재)\n",
    "\n",
    "\n",
    "- 나머지 노드들은 분리집합 T1, T2, ... , Tn으로 분할 가능하다.\n",
    "\n",
    "\n",
    "- T1, ..., T2 등은 각각 하나의 트리(서브트리) 로 구성된다.(재귀적 정의)\n",
    "\n",
    "\n",
    "### 트리의 용어\n",
    "\n",
    "- 차수(degree) : 어떤 노드의 자식 노드의 개수\n",
    "\n",
    "\n",
    "- 트리의 차수(degree of a tree) : 전체 트리에 있는 노드중 최대 차수\n",
    "\n",
    "\n",
    "- leaf node : 차수가 0인 노드, 즉 자식이 없다.\n",
    "\n",
    "말노드(terminal node)라고도 부름\n",
    "\n",
    "\n",
    "- level : 루트의 레벨을 1로 하고 자식으로 내려가면서 하나씩 더한다.\n",
    "\n",
    "(루트의 레벨을 0으로 하는 경우도 많다.)\n",
    "\n",
    "\n",
    "- 트리의 높이(height) or 깊이(depth) : 트리가 가지는 최대 레벨"
   ]
  },
  {
   "cell_type": "markdown",
   "metadata": {},
   "source": [
    "<img src=\"2.png\" width=\"1000\" />"
   ]
  },
  {
   "cell_type": "markdown",
   "metadata": {},
   "source": [
    "- 노드와 에지의 관계는 다음과 같다.\n",
    "\n",
    "노드의 개수 : n이고, 에지의 개수가 e라면 'e = n-1'가 성립한다.\n",
    "\n",
    "- forest : 루트 노드를 제거한 나머지 서브 트리의 집합\n",
    "\n",
    "아래 그림은 포레스트 예시"
   ]
  },
  {
   "cell_type": "markdown",
   "metadata": {},
   "source": [
    "<img src=\"3.png\" width=\"700\" />"
   ]
  },
  {
   "cell_type": "markdown",
   "metadata": {},
   "source": [
    "- 트리에서 레벨이란\n",
    "\n",
    "기준으로 하는 노드를 기준으로 자식으로 뻗어나가는 높이의 정도.\n",
    "\n",
    "아래의 그림은 루트노드를 기준으로 레벨을 표시한 것이다."
   ]
  },
  {
   "cell_type": "markdown",
   "metadata": {},
   "source": [
    "<img src=\"4.png\" width=\"700\" />"
   ]
  },
  {
   "cell_type": "markdown",
   "metadata": {},
   "source": [
    "### 이진트리(binary tree)\n",
    "\n",
    "- 이진트리는 자식노드가 최대 2개인 트리를 말한다.\n",
    "\n",
    "\n",
    "- degree는 자식노드의 수를 말한다.\n",
    "\n",
    "\n",
    "- 정의 : 공집합 혹은 루트와 왼쪽 서브트리, 오른쪽 서브트리로 이루어진 유한집합, 각각의 서브트리는 모두 이진트리이다.\n",
    "\n",
    "\n",
    "- 공집합은 아무것도 안들어 있는 공노드라고 보면 된다.\n",
    "\n",
    "\n",
    "- 아래의 그림이 이진트리의 전형적인 예시이다."
   ]
  },
  {
   "cell_type": "markdown",
   "metadata": {},
   "source": [
    "<img src=\"6.png\" width=\"500\" />"
   ]
  },
  {
   "cell_type": "markdown",
   "metadata": {},
   "source": [
    "- 이진트리의 특징\n",
    "\n",
    "1) 레벨 l에서 최대 노드수 : 2의 l-1승개\n",
    "\n",
    "2) 높이가 h인 이진트리의 최대 노드 수 : 2의 h승 -1개\n",
    "\n",
    "3) 높이가 h인 이진트리의 최소 노드 수 : h개\n",
    "\n",
    "\n",
    "- 이진트리의 특성 적용예시\n",
    "\n",
    "트리의 높이 : 3\n",
    "\n",
    "최대 노드의 수 : 2의 3승 -1 = 7\n",
    "\n",
    "최소 노드의 수 : 3"
   ]
  },
  {
   "cell_type": "markdown",
   "metadata": {},
   "source": [
    "<img src=\"7.png\" width=\"500\" />"
   ]
  },
  {
   "cell_type": "markdown",
   "metadata": {},
   "source": [
    "#### 포화 이진트리 (full binary tree)\n",
    "\n",
    "이진트리의 일종이다.\n",
    "\n",
    "높이가 h이면 노드수가 2의 h승 -1 개인 트리\n",
    "\n",
    "아래의 그림처럼 모든 레벨이 꽉 차 있다.\n",
    "\n",
    "그래서 포화 이진트리는 모든 레벨이 꽉차 있는 이진트리라고 보면 된다."
   ]
  },
  {
   "cell_type": "markdown",
   "metadata": {},
   "source": [
    "<img src=\"8.png\" width=\"500\" />"
   ]
  },
  {
   "cell_type": "markdown",
   "metadata": {},
   "source": [
    "#### 완전 이진트리 (complete binary tree)\n",
    "\n",
    "높이가 h이면 레벨 h-1까지 노드 수는 2의 h-1승 -1개이고, 레벨 h에서는 왼쪽부터 오른쪽으로 노드가 채워져 있는 트리를 말한다.\n",
    "\n",
    "바로 아래레벨(전레벨)까지는 꽉차 있는 것이고, 가장 아래 레벨은 왼쪽부터 오른쪽으로 노드가 채워져 있는 구조이다.\n",
    "\n",
    "다시말해 위에서 아래로 좌에서 우로 노드가 채워져 있는 트리\n",
    "\n",
    "완전이진트리는 포화이진트리를 포함하는 개념이다\n",
    "\n",
    "-> 아래의 그림에서 4번과 5번 노드가 없어도 완전이진트리이다"
   ]
  },
  {
   "cell_type": "markdown",
   "metadata": {},
   "source": [
    "<img src=\"9.png\" width=\"500\" />"
   ]
  },
  {
   "cell_type": "markdown",
   "metadata": {},
   "source": [
    "- 포화이진트리와 완전이진트리\n",
    "\n",
    "이런 트리를 완전이진트리라고 한다. 포화 이진트리랑 헷갈리면 안된다.\n",
    "\n",
    "완전 이진트리는 위에서 아래로 그리고 좌에서 우로 노드가 채워지는 트리를 말한다."
   ]
  },
  {
   "cell_type": "markdown",
   "metadata": {},
   "source": [
    "<img src=\"5.png\" width=\"500\" />"
   ]
  },
  {
   "cell_type": "markdown",
   "metadata": {},
   "source": [
    "#### 편향 이진트리 (skewed binary tree)\n",
    "\n",
    "왼쪽이나 오른쪽 서브트리만 가지는 트리"
   ]
  },
  {
   "cell_type": "markdown",
   "metadata": {},
   "source": [
    "<img src=\"10.png\" width=\"500\" />"
   ]
  },
  {
   "cell_type": "markdown",
   "metadata": {},
   "source": [
    "### 트리에서 순회란 중복되지 않고 어떤 자료구조의 모든 노드(또는 데이터)를 방문하는 것\n",
    "\n",
    "데이터를 저장하는 것도 중요하지만 탐색을 할 수 있어야 하고 탐색한다는 것은 순회가 가능한가와 맞물린다.\n",
    "\n",
    "[트리에서 순회]\n",
    "\n",
    "1) 전위순회\n",
    "\n",
    "2) 중위순회\n",
    "\n",
    "3) 후위순회\n",
    "\n",
    "4) 레벨순서순회\n",
    "\n",
    "[그래프에서의 순회]\n",
    "\n",
    "1) DFS : 깊이우선 탐색\n",
    "\n",
    "2) BFS : 너비우선 탐색\n",
    "\n",
    "참고로 전위, 중위, 후위순회가 깊이우선 탐색의 응용버전이고 레벨순서순회는 너비우선 탐색의 응용버전이다.\n",
    "\n",
    "왜냐하면 트리는 그래프의 일종이기 때문에 탐색방법도 결국에는 그래프에서 쓰는 방법의 일종이다."
   ]
  },
  {
   "cell_type": "markdown",
   "metadata": {},
   "source": [
    "### 파이썬 코드로 구현해보기\n",
    "\n",
    "- 전,중,후위 순회 구현시 반복문 활용을 위한 스텍 구현\n",
    "\n",
    "재귀로 전위, 중위 , 후위를 구현하는 경우에는 스텍 자료구조를 이용한다."
   ]
  },
  {
   "cell_type": "code",
   "execution_count": 1,
   "metadata": {},
   "outputs": [
    {
     "name": "stdout",
     "output_type": "stream",
     "text": [
      "5  4  3  2  1  "
     ]
    }
   ],
   "source": [
    "class Node:\n",
    "    def __init__(self, data=None):\n",
    "        self.__data=data\n",
    "        self.__next=None\n",
    "\n",
    "    @property\n",
    "    def data(self):\n",
    "        return self.__data\n",
    "    \n",
    "    @data.setter\n",
    "    def data(self, data):\n",
    "        self.__data=data\n",
    "    \n",
    "    @property\n",
    "    def next(self):\n",
    "        return self.__next\n",
    "\n",
    "    @next.setter\n",
    "    def next(self, n):\n",
    "        self.__next=n\n",
    "\n",
    "class Stack:\n",
    "    def __init__(self):\n",
    "        self.top=None\n",
    "\n",
    "    def empty(self):\n",
    "        if self.top is None:\n",
    "            return True\n",
    "        else:\n",
    "            return False\n",
    "\n",
    "    def push(self, data):\n",
    "        new_node = Node(data)\n",
    "        if self.empty():\n",
    "            self.top = new_node\n",
    "            return\n",
    "        new_node.next = self.top\n",
    "        self.top=new_node\n",
    "\n",
    "    def pop(self):\n",
    "        if self.empty():\n",
    "            return None\n",
    "        cur = self.top\n",
    "        self.top = self.top.next\n",
    "        return cur.data\n",
    "\n",
    "    def peek(self):\n",
    "        if self.empty():\n",
    "            return None\n",
    "        return self.top.data\n",
    "\n",
    "if __name__ ==\"__main__\":\n",
    "    s = Stack()\n",
    "\n",
    "    s.push(1)\n",
    "    s.push(2)\n",
    "    s.push(3)\n",
    "    s.push(4)\n",
    "    s.push(5)\n",
    "\n",
    "    while not s.empty():\n",
    "        print(s.pop(), end=\"  \")"
   ]
  },
  {
   "cell_type": "markdown",
   "metadata": {},
   "source": [
    "- 레벨순서 순회 구현시 활용을 위한 큐 구현"
   ]
  },
  {
   "cell_type": "code",
   "execution_count": 2,
   "metadata": {},
   "outputs": [
    {
     "name": "stdout",
     "output_type": "stream",
     "text": [
      "1  2  3  4  5  "
     ]
    }
   ],
   "source": [
    "class Node:\n",
    "    def __init__(self, data=None):\n",
    "        self.__data=data\n",
    "        self.__next=None\n",
    "\n",
    "    @property\n",
    "    def data(self):\n",
    "        return self.__data\n",
    "    \n",
    "    @data.setter\n",
    "    def data(self, data):\n",
    "        self.__data=data\n",
    "    \n",
    "    @property\n",
    "    def next(self):\n",
    "        return self.__next\n",
    "\n",
    "    @next.setter\n",
    "    def next(self, n):\n",
    "        self.__next=n\n",
    "\n",
    "class Queue:\n",
    "    def __init__(self):\n",
    "        self.front = None\n",
    "        self.rear = None\n",
    "\n",
    "    def empty(self):\n",
    "        if not self.front:\n",
    "            return True\n",
    "        return False\n",
    "\n",
    "    def enqueue(self, data):\n",
    "        new_node = Node(data)\n",
    "        if self.empty():\n",
    "            self.front = new_node\n",
    "            self.rear = new_node\n",
    "            return\n",
    "\n",
    "        self.rear.next = new_node\n",
    "        self.rear = new_node\n",
    "\n",
    "    def dequeue(self):\n",
    "        if self.empty():\n",
    "            return None\n",
    "\n",
    "        if self.front is self.rear:\n",
    "            self.rear = self.rear.next\n",
    "        cur = self.front\n",
    "        self.front = self.front.next\n",
    "        return cur.data\n",
    "\n",
    "    def peek(self):\n",
    "        if self.empty():\n",
    "            return None\n",
    "        \n",
    "        return self.front.data\n",
    "\n",
    "if __name__ == \"__main__\":\n",
    "    q = Queue()\n",
    "    q.enqueue(1)\n",
    "    q.enqueue(2)\n",
    "    q.enqueue(3)\n",
    "    q.enqueue(4)\n",
    "    q.enqueue(5)\n",
    "\n",
    "    while not q.empty():\n",
    "        print(q.dequeue(), end='  ')\n"
   ]
  },
  {
   "cell_type": "markdown",
   "metadata": {},
   "source": [
    "- 순회구현을 위한 트리구현\n",
    "\n",
    "우리는 아래와 같은 그림의 트리를 구현할 것이다."
   ]
  },
  {
   "cell_type": "markdown",
   "metadata": {},
   "source": [
    "<img src=\"8.png\" width=\"500\" />"
   ]
  },
  {
   "cell_type": "code",
   "execution_count": 3,
   "metadata": {},
   "outputs": [],
   "source": [
    "class TreeNode:\n",
    "    def __init__(self, data=None):\n",
    "        ## 데이터 저장하는 부분\n",
    "        self.__data=data\n",
    "        ## 왼쪽 자식\n",
    "        self.__left=None\n",
    "        ## 오른쪽 자식\n",
    "        self.__right=None\n",
    "\n",
    "    def __del__(self):\n",
    "        print('data {} is deleted'.format(self.__data))\n",
    "\n",
    "    @property\n",
    "    def data(self):\n",
    "        return self.__data\n",
    "\n",
    "    @data.setter\n",
    "    def data(self, data):\n",
    "        self.__data=data\n",
    "\n",
    "    @property\n",
    "    def left(self):\n",
    "        return self.__left\n",
    "\n",
    "    @left.setter\n",
    "    def left(self, left):\n",
    "        self.__left=left\n",
    "\n",
    "    @property\n",
    "    def right(self):\n",
    "        return self.__right\n",
    "\n",
    "    @right.setter\n",
    "    def right(self, right):\n",
    "        self.__right=right\n",
    "        \n",
    "n1=TreeNode(1)\n",
    "n2=TreeNode(2)\n",
    "n3=TreeNode(3)\n",
    "n4=TreeNode(4)\n",
    "n5=TreeNode(5)\n",
    "n6=TreeNode(6)\n",
    "n7=TreeNode(7)\n",
    "\n",
    "n1.left=n2; n1.right=n3\n",
    "n2.left=n4; n2.right=n5\n",
    "n3.left=n6; n3.right=n7 # 세미콜론을 붙여도 에러는 나지 않는다. 여러 구문을 이어쓸때는 세미콜론을 쓰기도 하기 때문이다."
   ]
  },
  {
   "cell_type": "markdown",
   "metadata": {},
   "source": [
    "#### 전위순회(preorder)\n",
    "\n",
    "루트노드 -> 왼쪽자식 -> 오른쪽자식\n",
    "\n",
    "cur -> cur.left -> cur.right\n",
    "\n",
    "나이키 로고 모양으로 순회가 돈다.\n",
    "\n",
    "노드가 자식이 있는 경우 재귀적으로 또 전위순회를 한다.\n",
    "\n",
    "현재노드를 방문 -> 현재노드의 왼쪽 서브트리(여기서도 재귀적으로 전위순회) -> 노드의 오른쪽 서브트리(여기서도 재귀적으로 전위순회)"
   ]
  },
  {
   "cell_type": "markdown",
   "metadata": {},
   "source": [
    "<img src=\"11.png\" width=\"500\" />"
   ]
  },
  {
   "cell_type": "markdown",
   "metadata": {},
   "source": [
    "- 전위순회(preorder) 파이썬 코드 구현\n",
    "\n",
    "재귀함수를 이용한 구현"
   ]
  },
  {
   "cell_type": "markdown",
   "metadata": {},
   "source": [
    "[ 재귀함수 구현 시 주의사항 ]\n",
    "\n",
    "재귀함수의 구현조건에 대해 항상 생각해야 한다.\n",
    "\n",
    "1) 기저조건\n",
    "\n",
    "2) 점화식"
   ]
  },
  {
   "cell_type": "code",
   "execution_count": 4,
   "metadata": {},
   "outputs": [
    {
     "name": "stdout",
     "output_type": "stream",
     "text": [
      "1  2  4  5  3  6  7  "
     ]
    }
   ],
   "source": [
    "def preorder(cur):\n",
    "    if not cur: ## cur가 empty node라면\n",
    "        return ## 나가버린다 <- 이부분이 base case(기저조건)\n",
    "\n",
    "    print(cur.data, end='  ') ## 방문해서 데이터를 출력하는 코드\n",
    "    \n",
    "    ## 자기 내부적으로 또 전위순회를 하는 코드\n",
    "    ## cur의 left -> cur의 right\n",
    "    preorder(cur.left)\n",
    "    preorder(cur.right)\n",
    "    \n",
    "preorder(n1)"
   ]
  },
  {
   "cell_type": "markdown",
   "metadata": {},
   "source": [
    "스텍을 이용한 구현\n",
    "\n",
    "- 반복문 : 가독성은 떨어지지만 성능이 재귀보다 좋다.\n",
    "\n",
    "\n",
    "- 재귀 : 가독성이 좋지만 성능이 반복문으로 구현하는 것보다 퍼포먼스가 상당히 떨어진다."
   ]
  },
  {
   "cell_type": "code",
   "execution_count": 5,
   "metadata": {},
   "outputs": [
    {
     "name": "stdout",
     "output_type": "stream",
     "text": [
      "1  2  4  5  3  6  7  "
     ]
    }
   ],
   "source": [
    "def iter_preorder(cur):\n",
    "    \n",
    "    s = Stack()\n",
    "    \n",
    "    while True:\n",
    "        \n",
    "        while cur:\n",
    "            print(cur.data, end='  ')\n",
    "            s.push(cur)\n",
    "            cur= cur.left\n",
    "            \n",
    "        cur = s.pop()\n",
    "        \n",
    "        if not cur:\n",
    "            break\n",
    "            \n",
    "        cur = cur.right\n",
    "\n",
    "iter_preorder(n1)"
   ]
  },
  {
   "cell_type": "markdown",
   "metadata": {},
   "source": [
    "#### 중위순회(inorder)\n"
   ]
  },
  {
   "cell_type": "markdown",
   "metadata": {},
   "source": [
    "<img src=\"12.png\" width=\"500\" />"
   ]
  },
  {
   "cell_type": "markdown",
   "metadata": {},
   "source": [
    "재귀함수를 이용한 구현"
   ]
  },
  {
   "cell_type": "code",
   "execution_count": 6,
   "metadata": {},
   "outputs": [
    {
     "name": "stdout",
     "output_type": "stream",
     "text": [
      "4  2  5  1  6  3  7  "
     ]
    }
   ],
   "source": [
    "def inorder(cur):\n",
    "    if not cur:\n",
    "        return\n",
    "\n",
    "    inorder(cur.left)\n",
    "    print(cur.data, end='  ')\n",
    "    inorder(cur.right)\n",
    "    \n",
    "inorder(n1)"
   ]
  },
  {
   "cell_type": "markdown",
   "metadata": {},
   "source": [
    "스텍을 이용한 구현"
   ]
  },
  {
   "cell_type": "code",
   "execution_count": 7,
   "metadata": {},
   "outputs": [
    {
     "name": "stdout",
     "output_type": "stream",
     "text": [
      "4  2  5  1  6  3  7  "
     ]
    }
   ],
   "source": [
    "def iter_inorder(cur):\n",
    "    \n",
    "    s = Stack()\n",
    "    \n",
    "    while True:\n",
    "        while cur:\n",
    "            s.push(cur)\n",
    "            cur = cur.left\n",
    "        \n",
    "        cur = s.pop()\n",
    "        \n",
    "        if not cur:\n",
    "            break\n",
    "            \n",
    "        print(cur.data, end = '  ')\n",
    "        \n",
    "        cur = cur.right\n",
    "\n",
    "iter_inorder(n1)"
   ]
  },
  {
   "cell_type": "markdown",
   "metadata": {},
   "source": [
    "#### 후위순회(postorder)"
   ]
  },
  {
   "cell_type": "markdown",
   "metadata": {},
   "source": [
    "<img src=\"13.png\" width=\"500\" />"
   ]
  },
  {
   "cell_type": "markdown",
   "metadata": {},
   "source": [
    "파이썬 코드 구현"
   ]
  },
  {
   "cell_type": "code",
   "execution_count": 8,
   "metadata": {},
   "outputs": [
    {
     "name": "stdout",
     "output_type": "stream",
     "text": [
      "4  5  2  6  7  3  1  "
     ]
    }
   ],
   "source": [
    "def postorder(cur):\n",
    "    if not cur:\n",
    "        return\n",
    "\n",
    "    postorder(cur.left)\n",
    "    postorder(cur.right)\n",
    "    print(cur.data, end='  ')\n",
    "    \n",
    "postorder(n1)"
   ]
  },
  {
   "cell_type": "markdown",
   "metadata": {},
   "source": [
    "스텍을 이용한  구현"
   ]
  },
  {
   "cell_type": "code",
   "execution_count": 9,
   "metadata": {},
   "outputs": [
    {
     "name": "stdout",
     "output_type": "stream",
     "text": [
      "4  5  2  6  7  3  1  "
     ]
    }
   ],
   "source": [
    "def iter_postorder(cur):\n",
    "    s1 = Stack()\n",
    "    s2 = Stack()\n",
    "\n",
    "    s1.push(cur)\n",
    "    \n",
    "    while not s1.empty(): \n",
    "        cur = s1.pop()\n",
    "        s2.push(cur)\n",
    "\n",
    "        if cur.left: ## 만약에 왼쪽 자식이 있다면 왼쪽 스텍(s1)에 넣는다.\n",
    "            s1.push(cur.left)\n",
    "    \n",
    "        if cur.right: ## 만약에 오른쪽 자식이 있다면 왼쪽 스텍(s1)에 넣는다.\n",
    "            s1.push(cur.right)\n",
    "    \n",
    "    while not s2.empty():\n",
    "        cur = s2.pop()\n",
    "        print(cur.data, end='  ')\n",
    "    \n",
    "iter_postorder(n1)"
   ]
  },
  {
   "cell_type": "markdown",
   "metadata": {},
   "source": [
    "#### 레벨순서순회(levelorder)"
   ]
  },
  {
   "cell_type": "markdown",
   "metadata": {},
   "source": [
    "<img src=\"14.png\" width=\"500\" />"
   ]
  },
  {
   "cell_type": "code",
   "execution_count": 10,
   "metadata": {},
   "outputs": [
    {
     "name": "stdout",
     "output_type": "stream",
     "text": [
      "1  2  3  4  5  6  7  "
     ]
    }
   ],
   "source": [
    "def levelorder(cur):\n",
    "    q=Queue()\n",
    "\n",
    "    q.enqueue(cur)\n",
    "    while not q.empty():\n",
    "        \n",
    "        cur = q.dequeue()\n",
    "        \n",
    "        print(cur.data, end='  ')\n",
    "        \n",
    "        if cur.left:\n",
    "            q.enqueue(cur.left)\n",
    "            \n",
    "        if cur.right:\n",
    "            q.enqueue(cur.right)\n",
    "            \n",
    "levelorder(n1)"
   ]
  }
 ],
 "metadata": {
  "kernelspec": {
   "display_name": "Python 3",
   "language": "python",
   "name": "python3"
  },
  "language_info": {
   "codemirror_mode": {
    "name": "ipython",
    "version": 3
   },
   "file_extension": ".py",
   "mimetype": "text/x-python",
   "name": "python",
   "nbconvert_exporter": "python",
   "pygments_lexer": "ipython3",
   "version": "3.7.3"
  }
 },
 "nbformat": 4,
 "nbformat_minor": 2
}
