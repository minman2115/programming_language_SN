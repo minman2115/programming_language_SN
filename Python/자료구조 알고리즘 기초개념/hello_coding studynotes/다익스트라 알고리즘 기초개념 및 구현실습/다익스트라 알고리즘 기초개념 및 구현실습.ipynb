{
 "cells": [
  {
   "cell_type": "markdown",
   "metadata": {},
   "source": [
    "ㅇ 학습 시 참고한 도서정보\n",
    "\n",
    "- 제목 : Hello Coding 그림으로 개념을 이해하는 알고리즘\n",
    "\n",
    "\n",
    "- 저자&출판사 : 아디트야 바르가바 지음, 김도형 옮김 / 한빛미디어\n",
    "\n",
    "#### 개요\n",
    "\n",
    "- 다익스트라 알고리즘은 방향성 비순환 그래프 또는 사이클을 가진 경우에는 가중치가 양수일때만 적용된다.\n",
    "\n",
    "\n",
    "- 다익스트라 알고리즘에서 각 간선을 가중치라고 한다.\n",
    "\n",
    "\n",
    "- 다익스트라 알고리즘의 4단계\n",
    "\n",
    "1단계 = 가장 가격이 싼 정점, 즉 도달하는데 시간이 가장 적게 걸리는 정점을 찾는다.\n",
    "\n",
    "2단계 = 이 정점의 이웃 정점에 대해 현재의 가격보다 더 싼 경로가 존재하는지 확인한다. 만약에 존재한다면 가격을 수정한다.\n",
    "\n",
    "3단계 = 그래프 상의 모든 정점에 대해 이러한 일을 반복한다.\n",
    "\n",
    "4단계 = 최종경로를 계산한다.\n",
    "\n",
    "#### 파이썬 코드 구현"
   ]
  },
  {
   "cell_type": "markdown",
   "metadata": {},
   "source": [
    "<img src=\"1.jpg\" width=\"500\" />"
   ]
  },
  {
   "cell_type": "markdown",
   "metadata": {},
   "source": [
    "<img src=\"2.jpg\" width=\"600\" />"
   ]
  },
  {
   "cell_type": "code",
   "execution_count": 14,
   "metadata": {},
   "outputs": [],
   "source": [
    "from collections import deque\n",
    "\n",
    "## 그래프를 나타내는 해시테이블을 만드는 코드\n",
    "graph['출발점'] = {}\n",
    "graph['출발점']['A'] = 6\n",
    "graph['출발점']['B'] = 2\n",
    "# print(graph['출발점'].keys())\n",
    "\n",
    "graph['A'] = {}\n",
    "graph['A']['도착점'] = 1\n",
    "\n",
    "graph['B'] = {}\n",
    "graph['B']['A'] = 3\n",
    "graph['B']['도착점'] = 5\n",
    "\n",
    "graph['도착점'] = {}\n",
    "\n",
    "\n",
    "\n",
    "## 가격을 나타내는 해시테이블을 만드는 코드\n",
    "infinity = float(\"inf\")\n",
    "costs = {}\n",
    "costs['A'] = 6\n",
    "costs['B'] = 2\n",
    "costs['도착점'] = infinity\n",
    "\n",
    "\n",
    "\n",
    "## 부모를 나타내는 해시테이블을 만드는 코드\n",
    "parents = {}\n",
    "parents['A'] = \"출발점\"\n",
    "parents['B'] = \"출발점\"\n",
    "parents['도착점'] = None\n",
    "\n",
    "## 각 정점은 한번씩만 처리해야 하므로 처리한 정점을 추적하기 위한 배열\n",
    "processed = []\n",
    "\n",
    "## find_lowest_cost_node 함수 구현\n",
    "\n",
    "def find_lowest_cost_node(costs):\n",
    "    lowest_cost = float(\"inf\")\n",
    "    lowest_cost_node = None\n",
    "    \n",
    "    ## 모든 정점을 확인\n",
    "    for node in costs:\n",
    "        ## 여기서 node는 A나 B처럼 키값이 나오게 된다.\n",
    "        cost = costs[node]\n",
    "        \n",
    "        if cost < lowest_cost and node not in processed:\n",
    "            lowest_cost = cost\n",
    "            lowest_cost_node = node\n",
    "    \n",
    "    return lowest_cost_node\n",
    "\n",
    "##아직 처리하지 않은 가장 싼 정점을 찾는다.\n",
    "node = find_lowest_cost_node(costs)\n",
    "\n",
    "## 모든 정점을 처리하면 반복문이 종료된다.\n",
    "while node is not None:\n",
    "    cost = costs[node]\n",
    "    neighbors = graph[node]\n",
    "    \n",
    "    ## 모든 이웃에 대해 반복한다.\n",
    "    for n in neighbors.keys():\n",
    "        new_cost = cost + neighbors[n]\n",
    "        \n",
    "        ##만약 이 정점을 지나는 것이 가격이 더 싸다면\n",
    "        if costs[n] > new_cost:\n",
    "            ## 정점의 가격을 갱신하고\n",
    "            costs[n] = new_cost\n",
    "            ## 부모를 이 정점으로 새로 설정한다.\n",
    "            parents[n] = node\n",
    "    \n",
    "    ## 정점을 처리한 사실을 기록한다.\n",
    "    processed.append(node)\n",
    "    ## 다음으로 처리할 정점을 찾아 반복한다.\n",
    "    node = find_lowest_cost_node(costs)"
   ]
  },
  {
   "cell_type": "code",
   "execution_count": 12,
   "metadata": {},
   "outputs": [
    {
     "name": "stdout",
     "output_type": "stream",
     "text": [
      "Cost from the start to each node:\n",
      "{'A': 5, 'B': 2, '도착점': 6}\n"
     ]
    }
   ],
   "source": [
    "print(\"Cost from the start to each node:\")\n",
    "print(costs)"
   ]
  }
 ],
 "metadata": {
  "kernelspec": {
   "display_name": "Python 3",
   "language": "python",
   "name": "python3"
  },
  "language_info": {
   "codemirror_mode": {
    "name": "ipython",
    "version": 3
   },
   "file_extension": ".py",
   "mimetype": "text/x-python",
   "name": "python",
   "nbconvert_exporter": "python",
   "pygments_lexer": "ipython3",
   "version": "3.7.3"
  }
 },
 "nbformat": 4,
 "nbformat_minor": 2
}
