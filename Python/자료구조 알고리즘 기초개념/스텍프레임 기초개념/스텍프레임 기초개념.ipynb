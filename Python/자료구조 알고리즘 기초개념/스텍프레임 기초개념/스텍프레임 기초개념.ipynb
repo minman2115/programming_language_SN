{
 "cells": [
  {
   "cell_type": "markdown",
   "metadata": {},
   "source": [
    "#### 그림, 실습코드 등 학습자료 출처 : https://github.com/ythwork\n",
    "\n",
    "예를 들어 아래와 같은 파이썬 코드가 있다고 하자."
   ]
  },
  {
   "cell_type": "code",
   "execution_count": 3,
   "metadata": {},
   "outputs": [
    {
     "data": {
      "text/plain": [
       "(50, -10)"
      ]
     },
     "execution_count": 3,
     "metadata": {},
     "output_type": "execute_result"
    }
   ],
   "source": [
    "a=10\n",
    "\n",
    "def func(b,c):\n",
    "    d=b+c\n",
    "    e=b-c\n",
    "    return d, e\n",
    "\n",
    "func(20, 30)"
   ]
  },
  {
   "cell_type": "markdown",
   "metadata": {},
   "source": [
    "- 우리가 함수를 실행하는 순간 저장해야할 공간이 필요하다. a,b,c,d를 저장하는 공간이 필요하다. 메모리에서는 아래와 같이 스택프레임이라는 저장공간을 확보한다. 다시말해 함수가 실행할때 메모리에서 연산을 위해 변수만큼 저장공간(스텍프레임)을 만든다. 함수가 종료될 때 메모리 할당을 해제한다. 한마디로 함수를 실행될때 메모리 내부에서 함수 실행에 필요한 변수를 저장해두는 공간을 스텍프레임이라고 한다.\n",
    "\n",
    "\n",
    "- 관련개념 학습 URL : https://minman2115.github.io/Python_TIL2\n",
    "\n",
    "\n",
    "- 프레임 : 함수를 실행하기 위해 변수들을 모아놓은 공간\n",
    "\n",
    "\n",
    "- 스텍 : 급식판\n",
    "\n",
    "step1) 최초에 글로벌 프레임이 만들어져서 메모리 가장 밑에 쌓이게 되고 거기에는 a=10과 func 함수에 대한 내용이 저장된다."
   ]
  },
  {
   "cell_type": "markdown",
   "metadata": {},
   "source": [
    "<img src=\"1.png\" width=\"200\" />"
   ]
  },
  {
   "cell_type": "markdown",
   "metadata": {},
   "source": [
    "step2) func 함수를 호출하게 되는 순간(func(20,30)이 실행되는 순간) func에 대한 스텍프레임을 만들어져서 글로벌 프레임 위에 쌓이게 된다.\n",
    "\n",
    "step3) func 스텍프레임 내에는 그 함수에 있는 변수(c,b,d,e 총 4개) 만큼 공간이 생긴다."
   ]
  },
  {
   "cell_type": "markdown",
   "metadata": {},
   "source": [
    "<img src=\"2.png\" width=\"200\" />"
   ]
  },
  {
   "cell_type": "markdown",
   "metadata": {},
   "source": [
    "step4) 그리고 func 실행시 입력값(20,30)에 따라 각각의 변수에 수들이 저장이 된다."
   ]
  },
  {
   "cell_type": "markdown",
   "metadata": {},
   "source": [
    "<img src=\"3.png\" width=\"400\" />"
   ]
  },
  {
   "cell_type": "markdown",
   "metadata": {},
   "source": [
    "step5) 일들이 일어나는 동안 메모리에 프레임들이 쌓여있다가. func 함수가 실행이 완료되면서 return 값이 반환되는 순간 func 스텍프레임은 메모리 공간에서 사라지게 된다.\n",
    "\n",
    "step6) 프로그램이 전부 실행이 완료되면 글로벌 프레임까지 메모리 공간에서 사라지게 된다."
   ]
  },
  {
   "cell_type": "markdown",
   "metadata": {},
   "source": [
    "<img src=\"4.png\" width=\"400\" />"
   ]
  },
  {
   "cell_type": "markdown",
   "metadata": {},
   "source": [
    "<img src=\"5.png\" width=\"400\" />"
   ]
  }
 ],
 "metadata": {
  "kernelspec": {
   "display_name": "Python 3",
   "language": "python",
   "name": "python3"
  },
  "language_info": {
   "codemirror_mode": {
    "name": "ipython",
    "version": 3
   },
   "file_extension": ".py",
   "mimetype": "text/x-python",
   "name": "python",
   "nbconvert_exporter": "python",
   "pygments_lexer": "ipython3",
   "version": "3.7.3"
  }
 },
 "nbformat": 4,
 "nbformat_minor": 2
}
