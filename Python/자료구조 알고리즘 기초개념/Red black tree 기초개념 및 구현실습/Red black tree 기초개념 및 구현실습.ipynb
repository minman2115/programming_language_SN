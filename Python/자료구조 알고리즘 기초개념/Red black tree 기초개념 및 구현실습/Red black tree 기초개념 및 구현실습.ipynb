{
 "cells": [
  {
   "cell_type": "markdown",
   "metadata": {},
   "source": [
    "#### 그림, 실습코드 등 학습자료 출처 :\n",
    "\n",
    "1) https://github.com/ythwork\n",
    "\n",
    "2) https://m.blog.naver.com/noblea1117/220454721219\n",
    "\n",
    "### 레드 블랙트리의 필요성\n",
    "\n",
    "- 이진 탐색 트리 중에 데이터가 아래 그림과 같이 편향되게 들어오는 경우가 있는데 이럴경우 이진 탐색 트리의 검색 효율을 나쁘게 하므로, 균형을 바로 잡기 위해 레드 블랙 트리라는 알고리즘을 사용한다."
   ]
  },
  {
   "cell_type": "markdown",
   "metadata": {},
   "source": [
    "<img src=\"1.png\" width=\"500\" />"
   ]
  },
  {
   "cell_type": "markdown",
   "metadata": {},
   "source": [
    "그래서 아래 그림과 같은 필요성이 제기되었고, 그래서 나온 개념이 균형이진트리의 일종이다. 이 균형이진트리의 일종이 레드블랙트리인 것이다."
   ]
  },
  {
   "cell_type": "markdown",
   "metadata": {},
   "source": [
    "<img src=\"2.png\" width=\"1000\" />"
   ]
  },
  {
   "cell_type": "markdown",
   "metadata": {},
   "source": [
    "### 레드블랙트리의 이해를 위한 '확장 이진트리'\n",
    "\n",
    "- 또한 레드블랙트리는 '확장 이진트리'라는 트리개념도 포함하고 있다. \n",
    "\n",
    "\n",
    "- 아래 그림과 같이 모든 공백 이진 서브트리를 외부노드로 대체한 트리를 말한다.\n",
    "\n",
    "\n",
    "- 자식이 없는 리프노드(위에서는 4,5,3) 에 노드를 붙여주는데 이 놈들을 외부노드라고 한다."
   ]
  },
  {
   "cell_type": "markdown",
   "metadata": {},
   "source": [
    "<img src=\"3.png\" width=\"600\" />"
   ]
  },
  {
   "cell_type": "markdown",
   "metadata": {},
   "source": [
    "### 레드블랙트리의 정의\n",
    "\n",
    "- 모든 노드의 컬러가 레드 혹은 블랙인 균형이진트리\n",
    "\n",
    "\n",
    "- insert, search, delete 모두 최악의 경우 : O(log2n)\n",
    "\n",
    "### 레드블랙트리가 균형을 유지하기 위해서 갖는 특징\n",
    "\n",
    "아래 그림이 전형적인 레드블랙트리의 예시이다."
   ]
  },
  {
   "cell_type": "markdown",
   "metadata": {},
   "source": [
    "<img src=\"4.png\" width=\"600\" />"
   ]
  },
  {
   "cell_type": "markdown",
   "metadata": {},
   "source": [
    "- 기본적으로 레드 블랙 트리는 이진 탐색 트리를 베이스로 하기 때문에 BST의 특성을 모두 갖는다.\n",
    "\n",
    "\n",
    "- 추가적으로, 레드블랙트리가 균형을 유지하기 위해 여러 특성을 갖는다.\n",
    "\n",
    "1) 트리의 모든 노드는 검정색 아니면 빨간색이다.\n",
    "\n",
    "2) 루트 노드는 무조건 검정색이다.\n",
    "\n",
    "-> 13번 노드를 보면 알 수 있다.\n",
    "\n",
    "3) 모든 외부노드는 검정색이다.\n",
    "\n",
    "여기서 헷갈리면 안되는게 레드블랙 트리에서 리프노드는 외부노드를 말한다\n",
    "\n",
    "4) 빨간색의 노드 자식들은 모두 검정색이지만, 검정색 노드 자식들은 어느 색깔이든 상관없다.\n",
    "\n",
    "5) 루트 노드에서 모든 리프노드 사이에 있는 검정색 노드의 수는 모두 동일하다.\n",
    "\n",
    "다시말해 루트에서 외부노드의 모든 경로에서 블랙노드의 수는 같다는 것이다.\n",
    "\n",
    "-> 위의 그림에서는 각각 한개씩 있다.\n",
    "\n",
    "6) 루트에서 외부노드로의 경로중에 레드노드가 연속으로 나올 수 없다.\n",
    "\n",
    "7) N개의 노드가 있는 레드블랙트리 높이 : 2log2(n+1)\n",
    "\n",
    "### 레드블랙트리의 연산\n",
    "\n",
    "#### 1) 회전\n",
    "\n",
    "레드 블랙 트리에 새로운 값이 삽입되거나 삭제가 되었을 때 레드 블랙 트리의 특징이 깨지게 되는 경우가 있는데 이때 레드블랙트리의 특징을 유지하기 위해 아래 그림과 같이 '회전' 연산을 수행한다. 우회전, 좌회전 총 두 가지 회전 연산이 있다."
   ]
  },
  {
   "cell_type": "markdown",
   "metadata": {},
   "source": [
    "<img src=\"5.png\" width=\"1000\" />"
   ]
  },
  {
   "cell_type": "markdown",
   "metadata": {},
   "source": [
    "[파이썬 코드 구현시 로테이션 알고리즘]\n",
    "\n",
    "- 먼저 파이썬 코드 구현을 위한 용어정의\n",
    "\n",
    "1) key : 트리내에서 유일한 키\n",
    "\n",
    "2) color : 레드 아니면 블랙\n",
    "\n",
    "3) left_child : 왼쪽 서브트리\n",
    "\n",
    "4) right_child : 오른쪽 서브트리\n",
    "\n",
    "5) parent : 부모노드\n",
    "\n",
    "\n",
    "\n",
    "[좌회전]"
   ]
  },
  {
   "cell_type": "markdown",
   "metadata": {},
   "source": [
    "<img src=\"6.png\" width=\"700\" />"
   ]
  },
  {
   "cell_type": "markdown",
   "metadata": {},
   "source": [
    "left_notation이라는 함수 구현\n",
    "\n",
    "STEP1) l을 n.right_child 로 변경\n",
    "\n",
    "STEP2) n.parent를 r.parent로 변경\n",
    "\n",
    "STEP3) n을 r.left_child로 변경\n",
    "\n",
    "[우회전]"
   ]
  },
  {
   "cell_type": "markdown",
   "metadata": {},
   "source": [
    "<img src=\"7.png\" width=\"700\" />"
   ]
  },
  {
   "cell_type": "markdown",
   "metadata": {},
   "source": [
    "right_notation이라는 함수 구현\n",
    "\n",
    "STEP1) r을 n.left_child로 변경\n",
    "\n",
    "STEP2) n.parent를 l.parent로 변경\n",
    "\n",
    "STEP3) n을 l.right_child로 변경\n",
    "\n",
    "#### 2) 삽입\n",
    "\n",
    "레드블랙트리는 기본적으로 이진 탐색 트리의 특징을 그대로 갖고 있기 때문에 삽입하는 과정도 이진 탐색 트리와 동일하다. 하지만 새로운 노드를 삽입했을때 트리의 불균형이 깨지는 경우가 자주 있어서 각각의 경우에 따라 불균형한 트리를 fixing해줘야 한다.\n",
    "\n",
    "삽입 시 알고리즘 수행\n",
    "\n",
    "STEP1) BST에 노드를 삽입\n",
    "\n",
    "STEP2) 새로운 노드의 색을 RED로 지정\n",
    "\n",
    "STEP3) insert_fix를 호출해 노드를 균형있게 재배열\n",
    "\n",
    "- insert_fix 함수의 필요성\n",
    "\n",
    "1) 루트노드가 RED일 경우 루트노드를 블랙으로 바꿔줘야 한다.\n",
    "\n",
    "\n",
    "2) 삽입된 노드와 그 부모노드가 모두 RED라면 RED노드가 연속되어 나올 수 없다는 규칙을 위반하는 것임 \n",
    "\n",
    "아래 그림이 위에서 언급한 불균형한 케이스의 예시이다."
   ]
  },
  {
   "cell_type": "markdown",
   "metadata": {},
   "source": [
    "<img src=\"8.png\" width=\"700\" />"
   ]
  },
  {
   "cell_type": "markdown",
   "metadata": {},
   "source": [
    "이런 경우에 불균형한 구조를 바로 잡아주는 것이 insert_fix 함수이다.\n",
    "\n",
    "#### 새로 노드를 삽입하고 나서 트리구조가 연속된 레드노드가 존재할 때 insert_fix 함수의 실행\n",
    "\n",
    "- 삽입된 노드의 부모노드가 조부모노드의 왼쪽 자식일때 : LLr, LRr, LLb, LRb\n",
    "\n",
    "\n",
    "- 삽입된 노드의 부모노드가 조부모노드의 오른쪽 자식일때 : RLr, RRr, RLb, RRb\n",
    "\n",
    "CASE1) 부모의 형제노드가 레드일때"
   ]
  },
  {
   "cell_type": "markdown",
   "metadata": {},
   "source": [
    "<img src=\"9.png\" width=\"700\" />"
   ]
  },
  {
   "cell_type": "markdown",
   "metadata": {},
   "source": [
    "CASE2) 부모의 형제노드가 블랙일때"
   ]
  },
  {
   "cell_type": "markdown",
   "metadata": {},
   "source": [
    "<img src=\"10.png\" width=\"1000\" />"
   ]
  },
  {
   "cell_type": "markdown",
   "metadata": {},
   "source": [
    "#### insert 예시\n",
    "\n",
    "최초의 트리에서 점점 노드를 추가하는 과정"
   ]
  },
  {
   "cell_type": "markdown",
   "metadata": {},
   "source": [
    "<img src=\"12.png\" width=\"700\" />"
   ]
  },
  {
   "cell_type": "markdown",
   "metadata": {},
   "source": [
    "#### 3) 삭제\n",
    "\n",
    "레드블랙트리의 노드를 삭제할 때 빨간색, 검정색 중 하나의 노드를 삭제하게 될 것이다. 빨간색 노드를 삭제하게 되는 경우 레드블랙트리의 불균형성을 해치는 경우가 없으므로 고려해야 할 케이스가 아니다. 하지만, 검정색 노드를 삭제하게 되는 경우 트리의 불균형성이 깨지므로 이것도 역시 case에 맞게 잘 fixing해줘야 한다.\n",
    "\n",
    "- 삭제하는 CASE 별 알고리즘\n",
    "\n",
    "#### 1) 삭제된 노드를 대체하는 노드가 레드일 경우"
   ]
  },
  {
   "cell_type": "markdown",
   "metadata": {},
   "source": [
    "<img src=\"13.png\" width=\"500\" />"
   ]
  },
  {
   "cell_type": "markdown",
   "metadata": {},
   "source": [
    "우리가 여기서 23번 노드를 삭제한다고 한다면 아래의 그림처럼 '빨간색의 노드 자식들은 모두 검정색이지만, 검정색 노드 자식들은 어느 색깔이든 상관없다'는 규칙과 '루트 노드에서 모든 리프노드 사이에 있는 검정색 노드의 수는 모두 동일하다.'는 규칙이 깨지게 된다."
   ]
  },
  {
   "cell_type": "markdown",
   "metadata": {},
   "source": [
    "<img src=\"14.png\" width=\"500\" />"
   ]
  },
  {
   "cell_type": "markdown",
   "metadata": {},
   "source": [
    "그래서 레드블랙트리의 규칙을 유지하기 위해서 21번 노드를 검정색으로 칠해준다. 그러면 아래와 같이 구조가 잡히고 레드블랙트리의 규칙을 모두 지키게 된다."
   ]
  },
  {
   "cell_type": "markdown",
   "metadata": {},
   "source": [
    "<img src=\"15.png\" width=\"500\" />"
   ]
  },
  {
   "cell_type": "markdown",
   "metadata": {},
   "source": [
    "1번 케이스의 경우 결론 : 삭제된 노드를 대체하는 노드가 레드일 경우, 색상을 블랙으로 변경해준다.\n",
    "\n",
    "#### 2) 삭제된 노드를 대체하는 노드가 블랙인 경우"
   ]
  },
  {
   "cell_type": "markdown",
   "metadata": {},
   "source": [
    "<img src=\"16.png\" width=\"500\" />"
   ]
  },
  {
   "cell_type": "markdown",
   "metadata": {},
   "source": [
    "이번에도 23번 노드를 삭제한다고 치자. 그러면 결과는 아래 그림과 같다."
   ]
  },
  {
   "cell_type": "markdown",
   "metadata": {},
   "source": [
    "<img src=\"17.png\" width=\"500\" />"
   ]
  },
  {
   "cell_type": "markdown",
   "metadata": {},
   "source": [
    "이 경우, 삭제한 노드를 대체하는 노드(21번노드)에 블랙을 덧입힌다.\n",
    "\n",
    "그리고 블랙을 덧입힌 노드를 이중흑색 노드 라고 부른다.\n",
    "\n",
    "이중흑색 노드를 갖고 있을 경우 첫번째 규칙(모든 노드는 레드 아니면 블랙이다)이 무너진 것으로 간주한다. \n",
    "\n",
    "(이중흑색노드는 엄격하게 말하면 레드도 아니고 블랙도 아니기 때문에)\n",
    "\n",
    "그래서 이런 이중흑색노드도 잘 처리해줘야 한다.\n",
    "\n",
    "#### 이중흑색노드의 처리 \n",
    "\n",
    "CASE1) 형제가 레드인 경우"
   ]
  },
  {
   "cell_type": "markdown",
   "metadata": {},
   "source": [
    "<img src=\"18.png\" width=\"500\" />"
   ]
  },
  {
   "cell_type": "markdown",
   "metadata": {},
   "source": [
    "이때 형제를 블랙, 부모를 레드로 칠한다."
   ]
  },
  {
   "cell_type": "markdown",
   "metadata": {},
   "source": [
    "<img src=\"19.png\" width=\"500\" />"
   ]
  },
  {
   "cell_type": "markdown",
   "metadata": {},
   "source": [
    "그 후 부모를 기준으로 좌회전해준다."
   ]
  },
  {
   "cell_type": "markdown",
   "metadata": {},
   "source": [
    "<img src=\"20.png\" width=\"500\" />"
   ]
  },
  {
   "cell_type": "markdown",
   "metadata": {},
   "source": [
    "좌회전을 하면 위와 같은 그림의 형태가 되는데 이런 형태가 되면 21번이 이중흑색이지만 블랙으로 간주해준다.\n",
    "\n",
    "그러면 이제 문제의 유형이 '형제가 블랙인 경우'로 바뀌었다.\n",
    "\n",
    "2번 항목을 참고하여 이중흑색노드를 제거하면 된다.\n",
    "\n",
    "CASE2) 형제가 블랙인 경우\n",
    "\n",
    "이 경우 다시 세가지 케이스로 분류된다.\n",
    "\n",
    "1) 형제의 오른쪽 자식이 레드인 경우"
   ]
  },
  {
   "cell_type": "markdown",
   "metadata": {},
   "source": [
    "<img src=\"21.png\" width=\"500\" />"
   ]
  },
  {
   "cell_type": "markdown",
   "metadata": {},
   "source": [
    "STEP1) 이중흑색 노드의 부모 노드가 갖고 있는 색을 형제 노드에 칠한다.\n",
    "\n",
    "이미 부모노드와 형제노드의 색이 같이 때문에 일단 넘어간다.\n",
    "\n",
    "STEP2) 부모노드와 형제노드의 오른쪽 자식노드를 블랙으로 칠한다."
   ]
  },
  {
   "cell_type": "markdown",
   "metadata": {},
   "source": [
    "<img src=\"22.png\" width=\"500\" />"
   ]
  },
  {
   "cell_type": "markdown",
   "metadata": {},
   "source": [
    "STEP3) 부모노드를 기준으로 좌회전한다."
   ]
  },
  {
   "cell_type": "markdown",
   "metadata": {},
   "source": [
    "<img src=\"23.png\" width=\"500\" />"
   ]
  },
  {
   "cell_type": "markdown",
   "metadata": {},
   "source": [
    "STEP4) 이중흑색 노드가 갖고 있던 블랙중 하나를 루트노드에 넘긴다."
   ]
  },
  {
   "cell_type": "markdown",
   "metadata": {},
   "source": [
    "<img src=\"24.png\" width=\"500\" />"
   ]
  },
  {
   "cell_type": "markdown",
   "metadata": {},
   "source": [
    "최종적으로 루트노드가 이중흑색일 경우는 별도의 조치를 안해줘도 된다.\n",
    "\n",
    "(루트 노드는 이중흑색도 허용한다는 것으로 레드블랙트리의 특징을 위반하지 않는다.)\n",
    "\n",
    "2) 형제의 왼쪽 자식은 레드, 오른쪽 자식은 블랙인 경우"
   ]
  },
  {
   "cell_type": "markdown",
   "metadata": {},
   "source": [
    "<img src=\"25.png\" width=\"500\" />"
   ]
  },
  {
   "cell_type": "markdown",
   "metadata": {},
   "source": [
    "STEP1) 형제노드를 레드로 칠하고, 왼쪽 자식을 블랙으로 칠한다."
   ]
  },
  {
   "cell_type": "markdown",
   "metadata": {},
   "source": [
    "<img src=\"26.png\" width=\"500\" />"
   ]
  },
  {
   "cell_type": "markdown",
   "metadata": {},
   "source": [
    "STEP2) 형제노드를 기준으로 우회전 수행"
   ]
  },
  {
   "cell_type": "markdown",
   "metadata": {},
   "source": [
    "<img src=\"27.png\" width=\"500\" />"
   ]
  },
  {
   "cell_type": "markdown",
   "metadata": {},
   "source": [
    "문제의 유형이 형제의 오른쪽 자식이 레드인 경우로 변경되었고, 그것에 맞춰서 다시 한번 처리해준다.\n",
    "\n",
    "3) 형제 양쪽 자식이 모두 블랙인 경우"
   ]
  },
  {
   "cell_type": "markdown",
   "metadata": {},
   "source": [
    "<img src=\"28.png\" width=\"500\" />"
   ]
  },
  {
   "cell_type": "markdown",
   "metadata": {},
   "source": [
    "STEP1) 형제노드를 레드로 칠한다."
   ]
  },
  {
   "cell_type": "markdown",
   "metadata": {},
   "source": [
    "<img src=\"29.png\" width=\"500\" />"
   ]
  },
  {
   "cell_type": "markdown",
   "metadata": {},
   "source": [
    "STEP2) 이중흑색노드가 갖고 있던 두개의 블랙 중 하나를 부모노드로 넘긴다."
   ]
  },
  {
   "cell_type": "markdown",
   "metadata": {},
   "source": [
    "<img src=\"30.png\" width=\"500\" />"
   ]
  },
  {
   "cell_type": "markdown",
   "metadata": {},
   "source": [
    "부모가 이중흑색 노드가 되었을 경우\n",
    "\n",
    "위의 예시에서는 이중흑색 노드의 형제가 블랙이고, 형제의 자식이 모두 블랙인 경우이므로 (자식이 하나 밖에 없는데 그 하나가 블랙) 위의 과정을 한 번 더 수행한다.\n",
    "\n",
    "과정을 반복하여 루트가 이중흑색 노드가 되었을 경우 종료한다.\n",
    "\n",
    "#### 결국에는 바로 위에서 언급한 내용의 반복이지만 파이썬 코드구현 시는 다음과 같이 구현한다.\n",
    "\n",
    "삭제된 노드가 블랙이라면 delete_fix를 호출해 노드를 균형있게 재배열 할 것이다. \n",
    "\n",
    "- delete_fix 함수\n",
    "\n",
    "[delete_fix 함수가 필요한 경우]\n",
    "\n",
    "1) 삭제된 노드가 루트 또는 새로운 루트가 레드일때 \n",
    "\n",
    "루트노드를 블랙으로 바꿔줘야한다.\n",
    "\n",
    "삭제된 노드가 블랙이므로 루트에서 외부노드까지 모든 경로의 블랙 노드의 수는 같다는 규칙이 깨지기 때문이다.\n",
    "\n",
    "2) 삭제된 노드가 블랙일경우 루트에서 외부노드까지 모든 경로의 블랙노드의 같다는 규칙에 위반된다.\n",
    "\n",
    "이 경우에도 두가지 케이스로 나뉘어진다.\n",
    "\n",
    "CASE1) 삭제된 노드의 자식노드가 레드일때 -> 블랙으로 바꿔준다.\n",
    "\n",
    "CASE2) 삭제된 노드의 자식 노드가 블랙일때\n",
    "\n",
    "자식 노드에 extra 블랙(=이중흑색)을 주고, 위에 언급했던것처럼 이중흑색일 경우로 처리해준다.\n",
    "\n",
    "#### 파이썬 코드구현 시 delete case 정의\n",
    "\n",
    "CASE1) 삭제된 노드의 자식노드 c가 왼쪽 자식노드일때\n",
    "\n",
    "1) 노드 c의 형제노드 s가 레드일때"
   ]
  },
  {
   "cell_type": "markdown",
   "metadata": {},
   "source": [
    "<img src=\"31.png\" width=\"1000\" />"
   ]
  },
  {
   "cell_type": "markdown",
   "metadata": {},
   "source": [
    "그래서 s가 블랙인 케이스를 처리해주면 된다.\n",
    "\n",
    "2) 노드 c의 형제노드 s가 블랙일때\n",
    "\n",
    "노드 s의 두자식이 블랙"
   ]
  },
  {
   "cell_type": "markdown",
   "metadata": {},
   "source": [
    "<img src=\"32.png\" width=\"1000\" />"
   ]
  },
  {
   "cell_type": "markdown",
   "metadata": {},
   "source": [
    "노드 s의 왼쪽자식이 레드"
   ]
  },
  {
   "cell_type": "markdown",
   "metadata": {},
   "source": [
    "<img src=\"33.png\" width=\"1000\" />"
   ]
  },
  {
   "cell_type": "markdown",
   "metadata": {},
   "source": [
    "노드 s의 오른쪽 자식이 레드"
   ]
  },
  {
   "cell_type": "markdown",
   "metadata": {},
   "source": [
    "<img src=\"34.png\" width=\"1000\" />"
   ]
  },
  {
   "cell_type": "markdown",
   "metadata": {},
   "source": [
    "CASE2) 삭제된 노드의 자식노드 c가 오른쪽 자식노드일때\n",
    "\n",
    "#### 위의 삭제알고리즘 들을 고려한 Delete 예시\n",
    "\n",
    "똑같은 2번 노드를 삭제하는데 크게 두가지 방법이 가능하다. (아래 그림참고)"
   ]
  },
  {
   "cell_type": "markdown",
   "metadata": {},
   "source": [
    "<img src=\"35.png\" width=\"1000\" />"
   ]
  },
  {
   "cell_type": "markdown",
   "metadata": {},
   "source": [
    "### 레드블랙트리 파이썬 코드구현"
   ]
  },
  {
   "cell_type": "code",
   "execution_count": 5,
   "metadata": {},
   "outputs": [],
   "source": [
    "class RBNode:\n",
    "    def __init__(self, key):\n",
    "        #트리 내에서 유일한 키\n",
    "        self.key=key\n",
    "        #노드의 색 : RED or BLACK\n",
    "        #트리에 insert 연산을 할 때 먼저 새 노드의 색은 RED로 한다.\n",
    "        self.color=\"RED\"\n",
    "        \n",
    "        self.left_child=None\n",
    "        self.right_child=None\n",
    "\n",
    "        #부모\n",
    "        self.parent=None\n",
    "\n",
    "class RedBlackTree:\n",
    "    def __init__(self):\n",
    "        self.root=None\n",
    "\n",
    "    def get_root(self):\n",
    "        return self.root\n",
    "\n",
    "    def preorder_traverse(self, cur, func, *args, **kwargs):\n",
    "        if not cur:\n",
    "            return\n",
    "\n",
    "        func(cur, *args, **kwargs)\n",
    "        self.preorder_traverse(cur.left_child, func, *args, **kwargs)\n",
    "        self.preorder_traverse(cur.right_child, func, *args, **kwargs)\n",
    "\n",
    "    def __left_rotate(self, n):\n",
    "        #n's right child\n",
    "        rc=n.right_child\n",
    "        #rc's left child\n",
    "        rcl=rc.left_child\n",
    "\n",
    "        #rcl을 n의 오른쪽 자식으로\n",
    "        #rcl이 None일 수 있으므로\n",
    "        if rcl:\n",
    "            rcl.parent=n\n",
    "        n.right_child=rcl\n",
    "\n",
    "        #n.parent를 rc.parent로\n",
    "        #n이 루트라면, 트리 루트도 업데이트\n",
    "        if n.parent==None:\n",
    "            self.root=rc\n",
    "        elif n.parent.left_child==n:\n",
    "            n.parent.left_child=rc\n",
    "        else:\n",
    "            n.parent.right_child=rc\n",
    "        rc.parent=n.parent\n",
    "\n",
    "        #n을 rc의 왼쪽 자식으로\n",
    "        rc.left_child=n\n",
    "        n.parent=rc\n",
    "\n",
    "    def __right_rotate(self, n):\n",
    "        #n's left child\n",
    "        lc=n.left_child\n",
    "        #lc's right child\n",
    "        lcr=lc.right_child\n",
    "\n",
    "        #lcr을 n의 왼쪽 자식으로\n",
    "        #lcr이 None일 수 있으므로\n",
    "        if lcr:\n",
    "            lcr.parent=n\n",
    "        n.left_child=lcr\n",
    "\n",
    "        #n.parent를 lc.parent로\n",
    "        #n이 루트라면 트리의 루트도 업데이트\n",
    "        if n.parent==None:\n",
    "            self.root=lc\n",
    "        elif n.parent.left_child==n:\n",
    "            n.parent.left_child=lc\n",
    "        else:\n",
    "            n.parent.right_child=lc\n",
    "        lc.parent=n.parent\n",
    "\n",
    "        #n을 lc의 오른쪽 자식으로\n",
    "        lc.right_child=n\n",
    "        n.parent=lc\n",
    "\n",
    "    def __insert_fix(self, n):\n",
    "        #pn: n's parent\n",
    "        #gn: n's grand parent\n",
    "        #un: pn's sibling \n",
    "        pn=gn=un=None\n",
    "\n",
    "        #en: external node\n",
    "        en=RBNode(None)\n",
    "        en.color=\"BLACK\"\n",
    "\n",
    "        pn=n.parent\n",
    "        #n이 루트가 아니고 \n",
    "        #n.parent가 RED --> 연속된 RED\n",
    "        while pn != None and pn.color==\"RED\":\n",
    "            #pn이 RED이면 반드시 gn이 존재: 루트는 BLACK이므로 pn은 루트가 될 수 없다\n",
    "            gn=pn.parent\n",
    "            \n",
    "            #1. pn이 gn의 왼쪽 자식일 때\n",
    "            if gn.left_child == pn:\n",
    "                #조부모의 오른쪽 자식이 외부 노드일 때\n",
    "                #부모 형제를 미리 만들어 둔 en으로 대체\n",
    "                if gn.right_child==None:\n",
    "                    un=en\n",
    "                else:\n",
    "                    un=gn.right_child\n",
    "                \n",
    "                #XYr : 부모 형제가 RED일 때\n",
    "                if un.color==\"RED\":\n",
    "                    #부모, 부모 형제와 조부모의 색을 변경\n",
    "                    gn.color=\"RED\"\n",
    "                    pn.color=un.color=\"BLACK\"\n",
    "\n",
    "                    #gn을 새로운 n으로 만든 후 연속된 레드가 또 일어나는지 확인\n",
    "                    n = gn\n",
    "                    pn = n.parent\n",
    "                    \n",
    "                #XYb : 부모 형제가 BLACK일 때\n",
    "                else:\n",
    "                    #LRb일 때 \n",
    "                    if pn.right_child==n:\n",
    "                        #LEFT-ROTATE(pn)\n",
    "                        self.__left_rotate(pn)\n",
    "                        n, pn = pn, n\n",
    "                    #LLb일 때\n",
    "                    #부모와 조부모의 색을 바꾸고\n",
    "                    pn.color, gn.color=gn.color, pn.color\n",
    "\n",
    "                    #RIGHT-ROATE(gn)\n",
    "                    self.__right_rotate(gn)\n",
    "                    \n",
    "            #2. pn이 gn의 오른쪽 자식일 때\n",
    "            else:\n",
    "                #조부모의 왼쪽 자식이 외부 노드일 때\n",
    "                #부모 형제를 en으로 대체\n",
    "                if gn.left_child==None:\n",
    "                    un=en\n",
    "                else:\n",
    "                    un=gn.left_child\n",
    "                    \n",
    "                if un.color==\"RED\":\n",
    "                    gn.color=\"RED\"\n",
    "                    pn.color=un.color=\"BLACK\"\n",
    "\n",
    "                    n=gn\n",
    "                    pn=n.parent\n",
    "                    \n",
    "                else:\n",
    "                    if pn.left_child==n:\n",
    "                        self.__right_rotate(pn)\n",
    "                        n, pn = pn, n\n",
    "                        \n",
    "                    pn.color, gn.color=gn.color, pn.color\n",
    "                    self.__left_rotate(gn)\n",
    "\n",
    "        #연속된 레드가 루트까지 올라갔을 경우에는 \n",
    "        #루트를 BLACK으로 만들어주면 된다\n",
    "        self.root.color=\"BLACK\"\n",
    "\n",
    "    def insert(self, key):\n",
    "        new_node=RBNode(key)\n",
    "        cur=self.root\n",
    "        \n",
    "        if not cur:\n",
    "            self.root=new_node\n",
    "            #루트 노드는 BLACK\n",
    "            new_node.color=\"BLACK\"\n",
    "            return\n",
    "\n",
    "        while True:\n",
    "            parent=cur\n",
    "            if key < cur.key:\n",
    "                cur=cur.left_child\n",
    "                if not cur:\n",
    "                    parent.left_child=new_node\n",
    "                    #노드의 parent 설정\n",
    "                    new_node.parent=parent\n",
    "                    break\n",
    "            else:\n",
    "                cur=cur.right_child\n",
    "                if not cur:\n",
    "                    parent.right_child=new_node\n",
    "                    #노드의 parent 설정\n",
    "                    new_node.parent=parent\n",
    "                    break\n",
    "        #노드 삽입 후 처리\n",
    "        self.__insert_fix(new_node)\n",
    "\n",
    "    def search(self, target):\n",
    "        cur=self.root\n",
    "        while cur:\n",
    "            if cur.key==target:\n",
    "                return cur\n",
    "            elif cur.key > target:\n",
    "                cur=cur.left_child\n",
    "            elif cur.key < target:\n",
    "                cur=cur.right_child\n",
    "        return cur\n",
    "\n",
    "    def __remove_recursion(self, cur, target):\n",
    "        if not cur:\n",
    "            return None, None\n",
    "        elif target < cur.key:\n",
    "            cur.left_child, rem_node=self.__remove_recursion(cur.left_child, target)\n",
    "            #왼쪽 자식 노드의 부모 설정\n",
    "            if cur.left_child:\n",
    "                cur.left_child.parent=cur\n",
    "        elif target > cur.key:\n",
    "            cur.right_child, rem_node=self.__remove_recursion(cur.right_child, target)\n",
    "            #오른쪽 자식 노드의 부모 설정\n",
    "            if cur.right_child:\n",
    "                cur.right_child.parent=cur\n",
    "        else:\n",
    "            if not cur.left_child and not cur.right_child:\n",
    "                rem_node=cur\n",
    "                cur=None\n",
    "            elif not cur.right_child:\n",
    "                rem_node=cur\n",
    "                cur=cur.left_child\n",
    "            elif not cur.left_child:\n",
    "                rem_node=cur\n",
    "                cur=cur.right_child\n",
    "            else:\n",
    "                replace=cur.left_child\n",
    "                while replace.right_child:\n",
    "                    replace=replace.right_child\n",
    "                cur.key, replace.key=replace.key, cur.key\n",
    "                cur.left_child, rem_node=self.__remove_recursion(cur.left_child, replace.key)\n",
    "                #왼쪽 자식 노드의 부모 설정\n",
    "                if cur.left_child:\n",
    "                    cur.left_child.parent=cur\n",
    "        return cur, rem_node\n",
    "\n",
    "    def __remove_fix(self, c):\n",
    "        #노드 c가 루트가 아니고 : 루트면 extra BLACK 제거 후 종료\n",
    "        #노드 c가 BLACK이면 : RED이면 BLACK으로 만들고 종료\n",
    "        while c.parent!=None and c.color==\"BLACK\":\n",
    "            #노드 c가 왼쪽 자식 노드일 때\n",
    "            if c.parent.left_child==c:\n",
    "                #s: sibling\n",
    "                s=c.parent.right_child\n",
    "\n",
    "                #case 1: s.color = RED\n",
    "                #case 2로 만든다\n",
    "                if s.color==\"RED\":\n",
    "                    #c.parent와 s의 컬러를 바꾼다\n",
    "                    c.parent.color, s.color=s.color, c.parent.color\n",
    "                    #LEFT-ROTATE(c.parent)\n",
    "                    self.__left_rotate(c.parent)\n",
    "                    \n",
    "                #case 2: s.color = BLACK\n",
    "                else:\n",
    "                    #case 2-1: s.left and s.right --> BLACK\n",
    "                    if s.left_child.color==\"BLACK\" and s.right_child.color==\"BLACK\":\n",
    "                        #tack black from c, s\n",
    "                        s.color=\"RED\"\n",
    "                        #give black to p\n",
    "                        c=c.parent\n",
    "\n",
    "                    #case 2-2: s.left --> RED\n",
    "                    elif s.right_child.color==\"BLACK\":\n",
    "                        s.color, s.left_child.color=s.left_child.color, s.color\n",
    "                        self.__right_rotate(s)\n",
    "\n",
    "                    #case 2-3: s.right --> RED\n",
    "                    else:\n",
    "                        s.color=c.parent.color\n",
    "                        c.parent.color=s.right_child.color=\"BLACK\"\n",
    "                        self.__left_rotate(c.parent)\n",
    "                        #while문을 빠져나간다\n",
    "                        c=self.root\n",
    "\n",
    "            #노드 c가 오른쪽 자식일 때\n",
    "            else:\n",
    "                s=c.parent.left_child\n",
    "                if s.color==\"RED\":\n",
    "                    c.parent.color, s.color=s.color, c.parent.color\n",
    "                    self.__right_rotate(c.parent)\n",
    "                else:\n",
    "                    if s.left_child.color==\"BLACK\" and s.right_child.color==\"BLACK\":\n",
    "                        s.color=\"RED\"\n",
    "                        c=c.parent\n",
    "                    elif s.left_child.color==\"BLACK\":\n",
    "                        s.color, s.right_child.color=s.right_child, s.color\n",
    "                        self.__left_rotate(s)\n",
    "                    else:\n",
    "                        s.color=c.parent.color\n",
    "                        c.parent.color=s.left_child.color=\"BLACK\"\n",
    "                        self.__right_rotate(c.parent)\n",
    "\n",
    "                        c=self.root        \n",
    "        c.color=\"BLACK\"\n",
    "        \n",
    "    def remove(self, target):\n",
    "        self.root, removed_node=self.__remove_recursion(self.root, target)\n",
    "\n",
    "        #삭제된 노드가 블랙 노드인 경우\n",
    "        #삭제된 노드의 자식 노드를 \n",
    "        #remove_fix의 인자로 전달\n",
    "        if removed_node and removed_node.color==\"BLACK\":\n",
    "            if removed_node.left_child:\n",
    "                rem_child=removed_node.left_child\n",
    "            elif removed_node.right_child:\n",
    "                rem_child=removed_node.right_child\n",
    "            else:\n",
    "                #삭제된 노드가 리프 노드라면\n",
    "                #삭제된 노드의 자식 노드는 외부 노드\n",
    "                rem_child=RBNode(None)\n",
    "                rem_child.parent=removed_node.parent\n",
    "                rem_child.color=\"BLACK\"\n",
    "            self.__remove_fix(rem_child)\n",
    "\n",
    "        if removed_node:\n",
    "            removed_node.left=removed_node.right=removed_node.parent=None\n",
    "        return removed_node\n",
    "\n",
    "    def print_node(self, rbn):\n",
    "        if rbn:\n",
    "            print(\"node : {}, \".format(rbn.key), end=\"\")\n",
    "            if rbn.color==\"RED\":\n",
    "                print(\"color : RED, \", end=\"\")\n",
    "            else:\n",
    "                print(\"color : BLACK, \", end=\"\")\n",
    "            if rbn.left_child:\n",
    "                print(\"left : {}, \".format(rbn.left_child.key), end=\"\")\n",
    "            if rbn.right_child:\n",
    "                print(\"right : {}, \".format(rbn.right_child.key), end=\"\")\n",
    "            if rbn.parent:\n",
    "                print(\"parent : {}\".format(rbn.parent.key), end=\"\")\n",
    "            print()\n",
    "\n",
    "def color_changer(cur, *keys):\n",
    "    print(keys)\n",
    "    if cur.key in keys:\n",
    "        cur.color=\"RED\"\n",
    "    else:\n",
    "        cur.color=\"BLACK\""
   ]
  },
  {
   "cell_type": "code",
   "execution_count": 6,
   "metadata": {},
   "outputs": [
    {
     "name": "stdout",
     "output_type": "stream",
     "text": [
      "node : 20, color : BLACK, left : 10, right : 22, \n",
      "node : 10, color : BLACK, left : 7, parent : 20\n",
      "node : 7, color : RED, parent : 10\n",
      "node : 22, color : BLACK, parent : 20\n"
     ]
    }
   ],
   "source": [
    "rbt=RedBlackTree()\n",
    "#insert\n",
    "rbt.insert(20)\n",
    "rbt.insert(10)\n",
    "rbt.insert(22)\n",
    "#LLr\n",
    "rbt.insert(7)\n",
    "rbt.preorder_traverse(rbt.get_root(), rbt.print_node) "
   ]
  },
  {
   "cell_type": "code",
   "execution_count": 7,
   "metadata": {},
   "outputs": [
    {
     "name": "stdout",
     "output_type": "stream",
     "text": [
      "node : 20, color : BLACK, left : 10, right : 22, \n",
      "node : 10, color : RED, left : 7, right : 15, parent : 20\n",
      "node : 7, color : BLACK, right : 8, parent : 10\n",
      "node : 8, color : RED, parent : 7\n",
      "node : 15, color : BLACK, parent : 10\n",
      "node : 22, color : BLACK, parent : 20\n"
     ]
    }
   ],
   "source": [
    "rbt.insert(15)\n",
    "#LRr\n",
    "rbt.insert(8)\n",
    "rbt.preorder_traverse(rbt.get_root(), rbt.print_node)"
   ]
  },
  {
   "cell_type": "code",
   "execution_count": 8,
   "metadata": {},
   "outputs": [
    {
     "name": "stdout",
     "output_type": "stream",
     "text": [
      "node : 20, color : BLACK, left : 10, right : 22, \n",
      "node : 10, color : RED, left : 7, right : 14, parent : 20\n",
      "node : 7, color : BLACK, right : 8, parent : 10\n",
      "node : 8, color : RED, parent : 7\n",
      "node : 14, color : BLACK, left : 13, right : 15, parent : 10\n",
      "node : 13, color : RED, parent : 14\n",
      "node : 15, color : RED, parent : 14\n",
      "node : 22, color : BLACK, parent : 20\n"
     ]
    }
   ],
   "source": [
    "rbt.insert(13)\n",
    "#LRb\n",
    "rbt.insert(14)\n",
    "rbt.preorder_traverse(rbt.get_root(), rbt.print_node)"
   ]
  }
 ],
 "metadata": {
  "kernelspec": {
   "display_name": "Python 3",
   "language": "python",
   "name": "python3"
  },
  "language_info": {
   "codemirror_mode": {
    "name": "ipython",
    "version": 3
   },
   "file_extension": ".py",
   "mimetype": "text/x-python",
   "name": "python",
   "nbconvert_exporter": "python",
   "pygments_lexer": "ipython3",
   "version": "3.7.3"
  }
 },
 "nbformat": 4,
 "nbformat_minor": 2
}
