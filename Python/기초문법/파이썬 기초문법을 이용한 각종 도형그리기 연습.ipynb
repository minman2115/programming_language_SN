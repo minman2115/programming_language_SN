{
 "cells": [
  {
   "cell_type": "markdown",
   "metadata": {},
   "source": [
    "#### 그림, 실습코드 등 학습자료 출처 : https://gitlab.com/radajin\n",
    "\n",
    "for문과 class 문법을 이용한 각종 도형 그리기 연습"
   ]
  },
  {
   "cell_type": "code",
   "execution_count": 1,
   "metadata": {},
   "outputs": [
    {
     "name": "stdout",
     "output_type": "stream",
     "text": [
      "*\n",
      "**\n",
      "***\n",
      "****\n",
      "*****\n",
      "\n",
      "    *\n",
      "   **\n",
      "  ***\n",
      " ****\n",
      "*****\n",
      "\n",
      "  *\n",
      " ***\n",
      "*****\n",
      "\n",
      "*****\n",
      " ***\n",
      "  *\n",
      "\n",
      "  *\n",
      " ***\n",
      "*****\n",
      " ***\n",
      "  *\n"
     ]
    }
   ],
   "source": [
    "class starmaker():\n",
    "    \n",
    "    def __init__(self,number):\n",
    "        self.number = number\n",
    "    \n",
    "    def setData(self, number):\n",
    "        self.number = number\n",
    "        \n",
    "    def type_1(self):\n",
    "        for star in range(1, self.number + 1):\n",
    "            print(\"*\" * star)\n",
    "    \n",
    "    def type_2(self):\n",
    "        space = self.number - 1\n",
    "        for star in range(1, self.number + 1):\n",
    "            print(\" \" * space + \"*\" * star)\n",
    "            space -= 1\n",
    "    \n",
    "    def type_3(self):\n",
    "        space = self.number // 2\n",
    "        for star in range(1, self.number+1, 2):\n",
    "            print(\" \" * space + \"*\" * star)\n",
    "            space -= 1\n",
    "    \n",
    "    def type_4(self):\n",
    "        space = 0\n",
    "        for star in range(self.number, 0 , -2):\n",
    "            print(\" \" * space + \"*\" * star)\n",
    "            space += 1\n",
    "            \n",
    "    def type_5(self):\n",
    "        space = self.number // 2\n",
    "        for star in range(1, self.number+1, 2):\n",
    "            print(\" \" * space + \"*\" * star)\n",
    "            space -= 1\n",
    "    \n",
    "        space = 1\n",
    "        for star in range(self.number-2, 0 , -2):\n",
    "            print(\" \" * space + \"*\" * star)\n",
    "            space += 1\n",
    "            \n",
    "making = starmaker(5)\n",
    "\n",
    "making.type_1()\n",
    "print()\n",
    "making.type_2()\n",
    "print()\n",
    "making.type_3()\n",
    "print()\n",
    "making.type_4()\n",
    "print()\n",
    "making.type_5()"
   ]
  }
 ],
 "metadata": {
  "kernelspec": {
   "display_name": "Python 3",
   "language": "python",
   "name": "python3"
  },
  "language_info": {
   "codemirror_mode": {
    "name": "ipython",
    "version": 3
   },
   "file_extension": ".py",
   "mimetype": "text/x-python",
   "name": "python",
   "nbconvert_exporter": "python",
   "pygments_lexer": "ipython3",
   "version": "3.7.3"
  }
 },
 "nbformat": 4,
 "nbformat_minor": 2
}
