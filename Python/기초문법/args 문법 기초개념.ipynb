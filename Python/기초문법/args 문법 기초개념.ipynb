{
 "cells": [
  {
   "cell_type": "markdown",
   "metadata": {},
   "source": [
    "#### 그림, 실습코드 등 학습자료 출처 : https://gitlab.com/radajin\n",
    "\n",
    "#### 1. arg앞에 ' * ' 의 유무에 따른 차이 이해"
   ]
  },
  {
   "cell_type": "code",
   "execution_count": 15,
   "metadata": {},
   "outputs": [
    {
     "name": "stdout",
     "output_type": "stream",
     "text": [
      "([1, 2, 3],)\n",
      "(1, 2, 3)\n"
     ]
    }
   ],
   "source": [
    "def test(*args):\n",
    "    print(args)\n",
    "    \n",
    "data = [1, 2, 3] \n",
    "\n",
    "test(data) \n",
    "# ([1, 2, 3]) -> ([1, 2, 3],)\n",
    "test(*data) \n",
    "# (1, 2, 3) -> (1, 2, 3)"
   ]
  },
  {
   "cell_type": "markdown",
   "metadata": {},
   "source": [
    "#### 2. map function을 이용한 arg 문법활용 예제 1"
   ]
  },
  {
   "cell_type": "code",
   "execution_count": 7,
   "metadata": {},
   "outputs": [
    {
     "data": {
      "text/plain": [
       "[10, 18, 42]"
      ]
     },
     "execution_count": 7,
     "metadata": {},
     "output_type": "execute_result"
    }
   ],
   "source": [
    "ls1 = [1,2,3,4]\n",
    "ls2 = [5,6,7]\n",
    "ls3 = [9,10,11,12]\n",
    "\n",
    "def map_func(func, *args):\n",
    "    return [func(*datas) for datas in zip(args)]\n",
    "\n",
    "result = map_func(lambda args : sum(args), ls1, ls2, ls3)\n",
    "\n",
    "result"
   ]
  },
  {
   "cell_type": "markdown",
   "metadata": {},
   "source": [
    "#### 2. map function을 이용한 arg 문법활용 예제 2"
   ]
  },
  {
   "cell_type": "code",
   "execution_count": 21,
   "metadata": {},
   "outputs": [
    {
     "name": "stdout",
     "output_type": "stream",
     "text": [
      "zip(args) :  [([1, 2, 3, 4],), ([5, 6, 7],), ([9, 10, 11, 12],)]\n",
      "zip(*args) :  [(1, 5, 9), (2, 6, 10), (3, 7, 11)]\n",
      "datas: ([1, 2, 3, 4],) *datas: [1, 2, 3, 4] result: 10 \n",
      "datas: ([5, 6, 7],) *datas: [5, 6, 7] result: 18 \n",
      "datas: ([9, 10, 11, 12],) *datas: [9, 10, 11, 12] result: 42 \n"
     ]
    },
    {
     "data": {
      "text/plain": [
       "[10, 18, 42]"
      ]
     },
     "execution_count": 21,
     "metadata": {},
     "output_type": "execute_result"
    }
   ],
   "source": [
    "ls1 = [1,2,3,4]\n",
    "ls2 = [5,6,7]\n",
    "ls3 = [9,10,11,12]\n",
    "\n",
    "def map_func(func, *args):\n",
    "    \n",
    "    results = []\n",
    "    print(\"zip(args) : \", list(zip(args)))\n",
    "    print(\"zip(*args) : \", list(zip(*args)))\n",
    "    \n",
    "    for datas in zip(args):\n",
    "        \n",
    "        # ([1, 2, 3, 4],) - ([5, 6, 7],) - ([9, 10, 11, 12],)\n",
    "        print(\"datas:\", datas, end=\" \")            \n",
    "        \n",
    "        # [1, 2, 3, 4] - [5, 6, 7] - [9, 10, 11, 12]\n",
    "        print(\"*datas:\", *datas, end=\" \")           \n",
    "        \n",
    "        # 아래와 같이 3번 func 함수를 호출한다.\n",
    "        # func([1, 2, 3, 4]) - func([5, 6, 7]) - func([9, 10, 11, 12]) \n",
    "        # lambda args : sum(args) 함수에서 \n",
    "        # lambda 함수의 args 는 [1, 2, 3, 4] - [5, 6, 7] - [9, 10, 11, 12] 를 받아서 sum 함수를 실행한다.\n",
    "        result = func(*datas)  \n",
    "        print(\"result:\", result, end=\" \")           \n",
    "        \n",
    "        # 결과 데이터 저장\n",
    "        results.append(result)\n",
    "        print()\n",
    "        \n",
    "    return results\n",
    "\n",
    "#     return [func(*datas) for datas in zip(args)]\n",
    "\n",
    "result = map_func(lambda args : sum(args), ls1, ls2, ls3)\n",
    "\n",
    "result"
   ]
  },
  {
   "cell_type": "markdown",
   "metadata": {},
   "source": [
    "#### 3. map function을 이용한 arg 문법활용 예제 3"
   ]
  },
  {
   "cell_type": "code",
   "execution_count": 22,
   "metadata": {},
   "outputs": [
    {
     "name": "stdout",
     "output_type": "stream",
     "text": [
      "zip(*args) :  [(1, 5, 9), (2, 6, 10), (3, 7, 11)]\n"
     ]
    },
    {
     "data": {
      "text/plain": [
       "[15, 18, 21]"
      ]
     },
     "execution_count": 22,
     "metadata": {},
     "output_type": "execute_result"
    }
   ],
   "source": [
    "ls1 = [1,2,3,4]\n",
    "ls2 = [5,6,7]\n",
    "ls3 = [9,10,11,12]\n",
    "\n",
    "def map_func(func, *args):\n",
    "    print(\"zip(*args) : \", list(zip(*args)))\n",
    "    return [func(*datas) for datas in zip(*args)]\n",
    "\n",
    "result = map_func(lambda *args : sum(args), ls1, ls2, ls3)\n",
    "\n",
    "result"
   ]
  }
 ],
 "metadata": {
  "kernelspec": {
   "display_name": "Python 3",
   "language": "python",
   "name": "python3"
  },
  "language_info": {
   "codemirror_mode": {
    "name": "ipython",
    "version": 3
   },
   "file_extension": ".py",
   "mimetype": "text/x-python",
   "name": "python",
   "nbconvert_exporter": "python",
   "pygments_lexer": "ipython3",
   "version": "3.7.3"
  }
 },
 "nbformat": 4,
 "nbformat_minor": 2
}
