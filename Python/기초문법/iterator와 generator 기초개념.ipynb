{
 "cells": [
  {
   "cell_type": "markdown",
   "metadata": {},
   "source": [
    "#### 그림, 실습코드 등 학습자료 출처 : https://gitlab.com/radajin\n",
    "\n",
    "iterator&generator를 위해서는 먼저 iterable을 알아야 한다.\n",
    "\n",
    "#### 1. iterable 개요\n",
    "\n",
    "iterable은 순서가 있는 집합을 의미한다."
   ]
  },
  {
   "cell_type": "code",
   "execution_count": 1,
   "metadata": {},
   "outputs": [],
   "source": [
    "x = [1,2,3]\n",
    "it = iter(x)\n",
    "\n",
    "## x에 있는 데이터를 하나씩 꺼내는 것이 목적인게 iter이다."
   ]
  },
  {
   "cell_type": "code",
   "execution_count": 4,
   "metadata": {},
   "outputs": [
    {
     "name": "stdout",
     "output_type": "stream",
     "text": [
      "1\n"
     ]
    }
   ],
   "source": [
    "print(next(it))"
   ]
  },
  {
   "cell_type": "code",
   "execution_count": 5,
   "metadata": {},
   "outputs": [
    {
     "name": "stdout",
     "output_type": "stream",
     "text": [
      "2\n"
     ]
    }
   ],
   "source": [
    "print(next(it))"
   ]
  },
  {
   "cell_type": "code",
   "execution_count": 6,
   "metadata": {},
   "outputs": [
    {
     "name": "stdout",
     "output_type": "stream",
     "text": [
      "3\n"
     ]
    }
   ],
   "source": [
    "print(next(it))"
   ]
  },
  {
   "cell_type": "code",
   "execution_count": 7,
   "metadata": {},
   "outputs": [
    {
     "name": "stdout",
     "output_type": "stream",
     "text": [
      "[1, 2, 3]\n"
     ]
    }
   ],
   "source": [
    "print(x)"
   ]
  },
  {
   "cell_type": "markdown",
   "metadata": {},
   "source": [
    "- iterator란 next 함수를 호출하면 다음 값을 생성하는 생성기이다.\n",
    "\n",
    "\n",
    "- next를 호출하면 객체상태가 변경된다.\n",
    "\n",
    "\n",
    "#### 2. iterator를 이용한 피보나치 수열 구현"
   ]
  },
  {
   "cell_type": "code",
   "execution_count": 1,
   "metadata": {},
   "outputs": [
    {
     "name": "stdout",
     "output_type": "stream",
     "text": [
      "1 1 2 3 5 8 13 21 34 55 "
     ]
    }
   ],
   "source": [
    "# 피보나치 수열을 구현한 이터레이터\n",
    "# next를 호출하면 객체의 상태를 변경한다.\n",
    "# 호출에 대한 결과값을 return 한다.\n",
    "\n",
    "class fib:\n",
    "    def __init__(self):\n",
    "        self.prev = 0\n",
    "        self.current = 1\n",
    "        \n",
    "    def __iter__(self):\n",
    "        return self ##오브젝트 자체를 리턴한다.\n",
    "    \n",
    "    def __next__(self):\n",
    "        value = self.current\n",
    "        self.current += self.prev\n",
    "        self.prev = value\n",
    "        return value\n",
    "    \n",
    "f = fib()\n",
    "\n",
    "for count in range(10):\n",
    "    print(next(f), end = ' ')"
   ]
  },
  {
   "cell_type": "markdown",
   "metadata": {},
   "source": [
    "#### 3. generator 개요\n",
    "\n",
    "- 이터레이터를 간편하게 만든것이 제네레이터이다.\n",
    "\n",
    "\n",
    "- 특별한 종류의 이터레이터라고 생각하면 된다.\n",
    "\n",
    "\n",
    "- 이터레이터를 간결하게 만든것이다.\n",
    "\n",
    "\n",
    "- iter()와 next() 메서드로 클래스를 작성하는 수고를 없애줬다.\n",
    "\n",
    "\n",
    "- 사용하는 이유 : 프로그램의 성능향상 때문이다. 왜냐하면 메모리를 소비하지 않기 때문이다. 또한 속도도 빨라진다. lazy evaluation이 가능하기 때문이다.\t\n",
    "\n",
    "\n",
    "- 특정한 종류의 함수이다.\n",
    "\n",
    "\n",
    "- next로 실행한다.\n",
    "\n",
    "\n",
    "- yield를 순차적으로 실행한다. 예를 들어 내가 yield 1을 반환했다면 그다음에는 yield 2를 반환한다. yield 1을 반환하는게 아니라..\n",
    "\n",
    "#### 4. generator를 이용한 피보나치수열 구현"
   ]
  },
  {
   "cell_type": "code",
   "execution_count": 2,
   "metadata": {},
   "outputs": [
    {
     "name": "stdout",
     "output_type": "stream",
     "text": [
      "1 1 2 3 5 8 13 21 34 55 "
     ]
    }
   ],
   "source": [
    "def fib():\n",
    "    prev = 0\n",
    "    current = 1\n",
    "    ## 아래처럼해도 가능\n",
    "    ## prev, current = 0,1\n",
    "    while True:\n",
    "        yield current\n",
    "        ## yield는 yield 명령을 만나면 값을 바깥으로 전달한다.\n",
    "        ## 그리고 현재 실행하던 함수를 잠시 중단하고 바깥 코드를 실행한 후에 다음 next를 만나면 다시 돌아와서 나머지 코드를 실행한다.\n",
    "        prev, current = current, prev + current\n",
    "        \n",
    "f = fib()\n",
    "\n",
    "for count in range(10):\n",
    "    print(next(f), end = ' ')"
   ]
  },
  {
   "cell_type": "markdown",
   "metadata": {},
   "source": [
    "yield 테스트"
   ]
  },
  {
   "cell_type": "code",
   "execution_count": 3,
   "metadata": {},
   "outputs": [
    {
     "name": "stdout",
     "output_type": "stream",
     "text": [
      "1\n",
      "2\n",
      "3\n",
      "4\n",
      "5\n"
     ]
    }
   ],
   "source": [
    "def test():\n",
    "    yield 1\n",
    "    yield 2\n",
    "    yield 3\n",
    "    yield 4\n",
    "    yield 5\n",
    "    \n",
    "t = test()\n",
    "\n",
    "for count in range(5):\n",
    "    print(next(t))\n",
    "\n",
    "## 실행코드에 넥스트에 넣어줬을때 순서대로 리턴해줌"
   ]
  },
  {
   "cell_type": "markdown",
   "metadata": {},
   "source": [
    "- yield, yield from \n",
    "\n",
    "1) yield를 만나면 값을 바깥으로 전달\n",
    "\n",
    "2) 현재 함수를 잠시 중단하고 바깥 코드를 실행 시킴"
   ]
  },
  {
   "cell_type": "code",
   "execution_count": 18,
   "metadata": {},
   "outputs": [
    {
     "name": "stdout",
     "output_type": "stream",
     "text": [
      "1\n",
      "2\n",
      "3\n"
     ]
    }
   ],
   "source": [
    "def test():\n",
    "    ls = [1, 2, 3]\n",
    "    yield from ls\n",
    "    \n",
    "t = test()\n",
    "\n",
    "for _ in range(3):\n",
    "    print(next(t))"
   ]
  },
  {
   "cell_type": "markdown",
   "metadata": {},
   "source": [
    "#### 5. list Comprehention\n",
    "\n",
    "- 컴프리헨션도 제너레이터의 한 종류이다."
   ]
  },
  {
   "cell_type": "code",
   "execution_count": 8,
   "metadata": {},
   "outputs": [
    {
     "data": {
      "text/plain": [
       "[1, 4, 9, 16, 25, 36]"
      ]
     },
     "execution_count": 8,
     "metadata": {},
     "output_type": "execute_result"
    }
   ],
   "source": [
    "# list comprehention\n",
    "numbers = [1, 2, 3, 4, 5, 6]\n",
    "[x * x for x in numbers]"
   ]
  },
  {
   "cell_type": "code",
   "execution_count": 9,
   "metadata": {},
   "outputs": [
    {
     "data": {
      "text/plain": [
       "{1, 4, 9, 16, 25, 36}"
      ]
     },
     "execution_count": 9,
     "metadata": {},
     "output_type": "execute_result"
    }
   ],
   "source": [
    "# set comprehention\n",
    "numbers = [1, 2, 3, 4, 5, 6]\n",
    "{x * x for x in numbers}"
   ]
  },
  {
   "cell_type": "code",
   "execution_count": 10,
   "metadata": {},
   "outputs": [
    {
     "data": {
      "text/plain": [
       "{1: 1, 2: 4, 3: 9, 4: 16, 5: 25, 6: 36}"
      ]
     },
     "execution_count": 10,
     "metadata": {},
     "output_type": "execute_result"
    }
   ],
   "source": [
    "# dictionary comprehention\n",
    "numbers = [1, 2, 3, 4, 5, 6]\n",
    "{x: x * x for x in numbers}"
   ]
  },
  {
   "cell_type": "markdown",
   "metadata": {},
   "source": [
    "- 제너레이터 표현식"
   ]
  },
  {
   "cell_type": "code",
   "execution_count": 15,
   "metadata": {},
   "outputs": [
    {
     "name": "stdout",
     "output_type": "stream",
     "text": [
      "<generator object <genexpr> at 0x10d272468>\n"
     ]
    }
   ],
   "source": [
    "numbers = [1, 2, 3, 4, 5, 6]\n",
    "gen_numbers = (x * x for x in numbers)\n",
    "print(gen_numbers)"
   ]
  },
  {
   "cell_type": "code",
   "execution_count": 12,
   "metadata": {},
   "outputs": [
    {
     "data": {
      "text/plain": [
       "1"
      ]
     },
     "execution_count": 12,
     "metadata": {},
     "output_type": "execute_result"
    }
   ],
   "source": [
    "next(gen_numbers)"
   ]
  },
  {
   "cell_type": "code",
   "execution_count": 13,
   "metadata": {},
   "outputs": [
    {
     "data": {
      "text/plain": [
       "[4, 9, 16, 25, 36]"
      ]
     },
     "execution_count": 13,
     "metadata": {},
     "output_type": "execute_result"
    }
   ],
   "source": [
    "list(gen_numbers)"
   ]
  }
 ],
 "metadata": {
  "kernelspec": {
   "display_name": "Python 3",
   "language": "python",
   "name": "python3"
  },
  "language_info": {
   "codemirror_mode": {
    "name": "ipython",
    "version": 3
   },
   "file_extension": ".py",
   "mimetype": "text/x-python",
   "name": "python",
   "nbconvert_exporter": "python",
   "pygments_lexer": "ipython3",
   "version": "3.7.3"
  }
 },
 "nbformat": 4,
 "nbformat_minor": 2
}
