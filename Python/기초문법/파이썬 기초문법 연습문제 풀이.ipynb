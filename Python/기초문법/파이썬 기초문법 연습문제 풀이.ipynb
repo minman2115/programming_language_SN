{
 "cells": [
  {
   "cell_type": "markdown",
   "metadata": {},
   "source": [
    "#### 그림, 실습코드 등 학습자료 출처 : https://gitlab.com/radajin\n",
    "\n",
    "#### 각종 툴 사전 SETUP"
   ]
  },
  {
   "cell_type": "code",
   "execution_count": 1,
   "metadata": {},
   "outputs": [],
   "source": [
    "import random\n",
    "from functools import reduce"
   ]
  },
  {
   "cell_type": "markdown",
   "metadata": {},
   "source": [
    "#### 1. 삼항연산을 이용하여 값을 입력받아 짝수이면 even, 홀수이면 odd를 출력하는 코드를 작성하세요. "
   ]
  },
  {
   "cell_type": "code",
   "execution_count": 2,
   "metadata": {},
   "outputs": [
    {
     "name": "stdout",
     "output_type": "stream",
     "text": [
      "숫자를 입력하시오 : 5\n",
      "odd\n"
     ]
    }
   ],
   "source": [
    "_input = int(input(\"숫자를 입력하시오 : \"))\n",
    "\n",
    "print(\"even\" if _input % 2 == 0 else \"odd\")"
   ]
  },
  {
   "cell_type": "markdown",
   "metadata": {},
   "source": [
    "#### 2. 구구단을 4단까지 세로로 출력하는 코드를 작성하세요. \n",
    "\n",
    "```\n",
    "2단\n",
    "2*1=2\n",
    "2*2=4\n",
    "2*3=6\n",
    "2*4=8\n",
    "2*5=10\n",
    "2*6=12\n",
    "2*7=14\n",
    "2*8=16\n",
    "2*9=18\n",
    "\n",
    "3단\n",
    "3*1=3\n",
    "3*2=6\n",
    "3*3=9\n",
    "3*4=12\n",
    "3*5=15\n",
    "3*6=18\n",
    "3*7=21\n",
    "3*8=24\n",
    "3*9=27\n",
    "\n",
    "4단\n",
    "4*1=4\n",
    "4*2=8\n",
    "4*3=12\n",
    "4*4=16\n",
    "4*5=20\n",
    "4*6=24\n",
    "4*7=28\n",
    "4*8=32\n",
    "4*9=36\n",
    "```"
   ]
  },
  {
   "cell_type": "markdown",
   "metadata": {},
   "source": [
    "#### 3. 구구단을 9단까지 가로로 출력하는 코드를 작성하세요. "
   ]
  },
  {
   "cell_type": "code",
   "execution_count": 3,
   "metadata": {},
   "outputs": [
    {
     "name": "stdout",
     "output_type": "stream",
     "text": [
      "2단\n",
      "2 * 1 = 2   2 * 2 = 4   2 * 3 = 6   2 * 4 = 8   2 * 5 = 10   2 * 6 = 12   2 * 7 = 14   2 * 8 = 16   2 * 9 = 18   \n",
      "\n",
      "3단\n",
      "3 * 1 = 3   3 * 2 = 6   3 * 3 = 9   3 * 4 = 12   3 * 5 = 15   3 * 6 = 18   3 * 7 = 21   3 * 8 = 24   3 * 9 = 27   \n",
      "\n",
      "4단\n",
      "4 * 1 = 4   4 * 2 = 8   4 * 3 = 12   4 * 4 = 16   4 * 5 = 20   4 * 6 = 24   4 * 7 = 28   4 * 8 = 32   4 * 9 = 36   \n",
      "\n",
      "5단\n",
      "5 * 1 = 5   5 * 2 = 10   5 * 3 = 15   5 * 4 = 20   5 * 5 = 25   5 * 6 = 30   5 * 7 = 35   5 * 8 = 40   5 * 9 = 45   \n",
      "\n",
      "6단\n",
      "6 * 1 = 6   6 * 2 = 12   6 * 3 = 18   6 * 4 = 24   6 * 5 = 30   6 * 6 = 36   6 * 7 = 42   6 * 8 = 48   6 * 9 = 54   \n",
      "\n",
      "7단\n",
      "7 * 1 = 7   7 * 2 = 14   7 * 3 = 21   7 * 4 = 28   7 * 5 = 35   7 * 6 = 42   7 * 7 = 49   7 * 8 = 56   7 * 9 = 63   \n",
      "\n",
      "8단\n",
      "8 * 1 = 8   8 * 2 = 16   8 * 3 = 24   8 * 4 = 32   8 * 5 = 40   8 * 6 = 48   8 * 7 = 56   8 * 8 = 64   8 * 9 = 72   \n",
      "\n",
      "9단\n",
      "9 * 1 = 9   9 * 2 = 18   9 * 3 = 27   9 * 4 = 36   9 * 5 = 45   9 * 6 = 54   9 * 7 = 63   9 * 8 = 72   9 * 9 = 81   \n",
      "\n"
     ]
    }
   ],
   "source": [
    "for num1 in range(2,10):\n",
    "    print(\"{}단\".format(num1))\n",
    "    for num2 in range(1,10):\n",
    "        print(\"{} * {} = {}\".format(num1,num2,num1*num2),end ='   ')\n",
    "    print()\n",
    "    print()"
   ]
  },
  {
   "cell_type": "markdown",
   "metadata": {},
   "source": [
    "#### 4. 로또번호를 출력하는 코드를 작성하시오\n",
    "\n",
    "주의사항 : 1 ~ 45 사이의 숫자를 랜덤으로 뽑되 숫자가 중복불가\n",
    "\n",
    "\n",
    "```\n",
    "출력 예시\n",
    "\n",
    "[3, 8, 15, 22, 27, 29]\n",
    "```"
   ]
  },
  {
   "cell_type": "code",
   "execution_count": 23,
   "metadata": {},
   "outputs": [
    {
     "name": "stdout",
     "output_type": "stream",
     "text": [
      "[3, 7, 19, 8, 16, 22]\n"
     ]
    }
   ],
   "source": [
    "lotto = []\n",
    "\n",
    "while True:\n",
    "    \n",
    "    num = random.randint(1,45)\n",
    "    \n",
    "    if num not in lotto:\n",
    "        lotto.append(num)\n",
    "    \n",
    "    if len(lotto) >= 6:\n",
    "        break\n",
    "\n",
    "print(lotto)"
   ]
  },
  {
   "cell_type": "markdown",
   "metadata": {},
   "source": [
    "#### 5. 5를 입력했을때 아래와 같이 별이 출력되도록 코드를 작성하세요.\n",
    "\n",
    "```\n",
    "*\n",
    "**\n",
    "***\n",
    "****\n",
    "*****\n",
    "```"
   ]
  },
  {
   "cell_type": "code",
   "execution_count": 5,
   "metadata": {},
   "outputs": [
    {
     "name": "stdout",
     "output_type": "stream",
     "text": [
      "숫자를 입력하시오 : 5\n",
      "*\n",
      "**\n",
      "***\n",
      "****\n",
      "*****\n"
     ]
    }
   ],
   "source": [
    "_input = int(input(\"숫자를 입력하시오 : \"))\n",
    "\n",
    "star = 1\n",
    "\n",
    "for i in range(0,_input):\n",
    "    print(\"{}\".format(\"*\" * star))\n",
    "    star +=1"
   ]
  },
  {
   "cell_type": "markdown",
   "metadata": {},
   "source": [
    "#### 6. kim 씨 성을 가진 사람은 데이터에서 제거하고, lee 씨 성을  가진 사람은 성을 삭제하는 코드를 작성하시오\n",
    "\n",
    "주의사항 : list comprehension을 사용하여 코드를 작성\n",
    "\n",
    "```\n",
    "\n",
    "예시\n",
    "\n",
    "(입력) => [\"kim test\", \"park python\", \"lee data\", \"jung science\", \"lee school\"] \n",
    "(결과) => [\"park python\", \"data\", \"jung science\", \"school\"] \n",
    "```"
   ]
  },
  {
   "cell_type": "code",
   "execution_count": 7,
   "metadata": {},
   "outputs": [
    {
     "data": {
      "text/plain": [
       "['park python', 'data', 'jung science', 'school']"
      ]
     },
     "execution_count": 7,
     "metadata": {},
     "output_type": "execute_result"
    }
   ],
   "source": [
    "names = [\"kim test\", \"park python\", \"lee data\", \"jung science\", \"lee school\"] \n",
    "\n",
    "result = [ \n",
    "    name.split(\" \")[1] if name.split(\" \")[0] == 'lee' else name\n",
    "    for name in names\n",
    "    if name.split(\" \")[0] != 'kim'\n",
    "]\n",
    "result"
   ]
  },
  {
   "cell_type": "markdown",
   "metadata": {},
   "source": [
    "#### 7. map을 이용하여 아래 리스트에 있는 성의 가장 앞 문자를 대문자로 수정하고, filter를 사용하여 사람 이름에서 성이 Lee인 사람의 이름만 결과로 출력하는 코드 작성하시오\n",
    "\n",
    "name_list = [\"kim kildong\", \"lee jeawoo\", \"park sangjin\", \"kim kilsoo\", \"lee sungsim\"]"
   ]
  },
  {
   "cell_type": "code",
   "execution_count": 8,
   "metadata": {},
   "outputs": [
    {
     "data": {
      "text/plain": [
       "['Lee jeawoo', 'Lee sungsim']"
      ]
     },
     "execution_count": 8,
     "metadata": {},
     "output_type": "execute_result"
    }
   ],
   "source": [
    "name_list = [\"kim kildong\", \"lee jeawoo\", \"park sangjin\", \"kim kilsoo\", \"lee sungsim\"]\n",
    "family_name = \"Lee\"\n",
    "\n",
    "name_list = list(map(lambda name : name[0].upper()+name[1:],name_list))\n",
    "                 \n",
    "result = list(filter(lambda name : name.split(\" \")[0] == family_name,name_list))\n",
    "\n",
    "result"
   ]
  },
  {
   "cell_type": "markdown",
   "metadata": {},
   "source": [
    "#### 8. reduce를 사용하여 사람의 이름 길이가 가장 긴 사람 1명을 출력하시오\n",
    "\n",
    "```\n",
    "name_list = [\"Kim kildong\", \"Lee jeawoo\", \"Park sangjin\", \"Kim kilsoo\", \"Lee sungsim\"]\n",
    "```"
   ]
  },
  {
   "cell_type": "code",
   "execution_count": 9,
   "metadata": {},
   "outputs": [
    {
     "name": "stdout",
     "output_type": "stream",
     "text": [
      "Park sangjin\n"
     ]
    }
   ],
   "source": [
    "name_list = [\"Kim kildong\", \"Lee jeawoo\", \"Park sangjin\", \"Kim kilsoo\", \"Lee sungsim\"]\n",
    "\n",
    "result = reduce(lambda name1, name2 : name1 if len(name1) > len(name2) else name2, name_list)\n",
    "\n",
    "print(result)"
   ]
  },
  {
   "cell_type": "markdown",
   "metadata": {},
   "source": [
    "#### 9. map 함수를 map_func 함수의 이름으로 구현하시오\n",
    "\n",
    "- 리스트의 데이터를 아래의 예시와 같이 더하는 함수를 만드는데 따로 함수를 선언해서 사용하지 말고 map의 첫번째 파라미터에 lambda 함수로 구현하시오\n",
    "\n",
    "```\n",
    "ls1 = [1,2,3,4]\n",
    "ls2 = [5,6,7]\n",
    "ls3 = [9,10,11,12]\n",
    "\n",
    "result = [15, 18, 21]\n",
    "```"
   ]
  },
  {
   "cell_type": "code",
   "execution_count": 10,
   "metadata": {},
   "outputs": [
    {
     "data": {
      "text/plain": [
       "[15, 18, 21]"
      ]
     },
     "execution_count": 10,
     "metadata": {},
     "output_type": "execute_result"
    }
   ],
   "source": [
    "ls1 = [1,2,3,4]\n",
    "ls2 = [5,6,7]\n",
    "ls3 = [9,10,11,12]\n",
    "\n",
    "def map_filter(func, *datas):\n",
    "    return [func(*data) for data in zip(*datas)]\n",
    "\n",
    "result = list(map(lambda *args : sum(args),ls1,ls2,ls3))\n",
    "\n",
    "result"
   ]
  },
  {
   "cell_type": "markdown",
   "metadata": {},
   "source": [
    "#### 10. 아래에 있는 데이터를 class와 object로 나타내세요.\n",
    "\n",
    "- 클래스에서는 타율(안타/타석) 정보를 볼수 있는 기능(avg)을 클래스의 함수로 추가하세요.\n",
    "\n",
    "```\n",
    "김선빈(ksb) - 타석:476, 안타:176\n",
    "박건우(pgw) - 타석:483, 안타:177\n",
    "박민우(pmw) - 타석:388, 안타:141\n",
    "```"
   ]
  },
  {
   "cell_type": "code",
   "execution_count": 11,
   "metadata": {},
   "outputs": [
    {
     "name": "stdout",
     "output_type": "stream",
     "text": [
      "ksb : 0.37\n",
      "pgw : 0.366\n",
      "pmw : 0.363\n"
     ]
    }
   ],
   "source": [
    "# TODO\n",
    "class player:\n",
    "    \n",
    "    def __init__(self, bb, hit):\n",
    "        self.bb = bb\n",
    "        self.hit = hit\n",
    "    \n",
    "    def avg(self):\n",
    "        return round(self.hit / self.bb,3)\n",
    "        \n",
    "ksb = player(476, 176)\n",
    "pgw = player(483, 177)\n",
    "pmw = player(388, 141)\n",
    "\n",
    "print(\"ksb : {}\".format(ksb.avg()))\n",
    "print(\"pgw : {}\".format(pgw.avg()))\n",
    "print(\"pmw : {}\".format(pmw.avg()))"
   ]
  },
  {
   "cell_type": "markdown",
   "metadata": {},
   "source": [
    "#### 11. `input`을 이용하여 숫자를 입력받는 코드를 작성하시오.\n",
    "\n",
    "- 문자가 입력되면 에러 메시지를 보내고 다시 숫자를 입력받도록 만들어 주세요."
   ]
  },
  {
   "cell_type": "code",
   "execution_count": 57,
   "metadata": {
    "scrolled": true
   },
   "outputs": [
    {
     "name": "stdout",
     "output_type": "stream",
     "text": [
      "insert number : asd\n",
      "invalid literal for int() with base 10: 'asd'\n",
      "insert number : 1\n",
      "<class 'int'> 1\n"
     ]
    }
   ],
   "source": [
    "while True:\n",
    "    try:\n",
    "        number = int(input(\"insert number : \"))\n",
    "        break\n",
    "    except Exception as e:\n",
    "        print(e)\n",
    "print(type(number), number)"
   ]
  },
  {
   "cell_type": "markdown",
   "metadata": {},
   "source": [
    "#### 12. 다음 두 Nested List를 더하는 코드를 List comprehension 을 이용해서 작성하세요.\n",
    "\n",
    "힌트 : 행렬의 덧셈을 이용"
   ]
  },
  {
   "cell_type": "code",
   "execution_count": 56,
   "metadata": {},
   "outputs": [
    {
     "name": "stdout",
     "output_type": "stream",
     "text": [
      " X + Y = \n",
      "[17, 15, 4]\n",
      "[10, 12, 9]\n",
      "[11, 13, 18]\n"
     ]
    }
   ],
   "source": [
    "X = [[12,7,3],\n",
    "     [4 ,5,6],\n",
    "     [7,8,9]]\n",
    "\n",
    "Y = [[5,8,1],\n",
    "     [6,7,3],\n",
    "     [4,5,9]]\n",
    "\n",
    "# TODO\n",
    "\n",
    "result = [list(sum(data) for data in zip(X[number],Y[number])) for number in range(0,2+1)]\n",
    "\n",
    "result\n",
    "\n",
    "print(' X + Y = ')\n",
    "\n",
    "for r in result:\n",
    "    print(r)"
   ]
  }
 ],
 "metadata": {
  "kernelspec": {
   "display_name": "Python 3",
   "language": "python",
   "name": "python3"
  },
  "language_info": {
   "codemirror_mode": {
    "name": "ipython",
    "version": 3
   },
   "file_extension": ".py",
   "mimetype": "text/x-python",
   "name": "python",
   "nbconvert_exporter": "python",
   "pygments_lexer": "ipython3",
   "version": "3.7.3"
  }
 },
 "nbformat": 4,
 "nbformat_minor": 2
}
