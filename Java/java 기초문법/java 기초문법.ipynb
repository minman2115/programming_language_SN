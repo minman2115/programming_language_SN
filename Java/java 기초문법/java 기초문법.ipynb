{
 "cells": [
  {
   "cell_type": "markdown",
   "metadata": {},
   "source": [
    ".\n",
    "\n",
    "JAVA_TIL(20200630)\n",
    "\n",
    "- study program : youtube 생활코딩 채널 'JAVA1'\n",
    "\n",
    "\n",
    "- 학습환경 : Ubuntu 18\n",
    "\n",
    "[학습노트]\n",
    "\n",
    "- 먼저 아래와 같이 프로젝트 폴더를 만들고 자바파일을 하나 생성해준다.\n",
    "\n",
    "![1](https://user-images.githubusercontent.com/41605276/86084170-1ddd5180-bad7-11ea-8919-ebd27fe04dfd.png)\n",
    "\n",
    "- 그리고 아래와 같이 코딩해서 실행해본다.\n",
    "\n",
    "자바에서 문자열과 숫자를 처리할때를 구분할 수 있어야 한다."
   ]
  },
  {
   "cell_type": "code",
   "execution_count": null,
   "metadata": {},
   "outputs": [],
   "source": [
    "public class datatype{\n",
    "    public static void main(String[] args) {\n",
    "        System.out.println(777); // 숫자 777을 출력할때\n",
    "        System.out.println(\"seven seven seven\"); // 문자열 seven seven seven 을 출력할때\n",
    "        System.out.println(\"777\"); // 문자열 777을 출력할때\n",
    "    }\n",
    "}"
   ]
  },
  {
   "cell_type": "code",
   "execution_count": null,
   "metadata": {},
   "outputs": [],
   "source": [
    "[출력결과]\n",
    "\n",
    "777\n",
    "seven seven seven\n",
    "777"
   ]
  },
  {
   "cell_type": "markdown",
   "metadata": {},
   "source": [
    "- 아래와 같이 코딩하여 문자열과 숫자 데이터의 처리가 어떻게 되는지 확인해본다."
   ]
  },
  {
   "cell_type": "code",
   "execution_count": null,
   "metadata": {},
   "outputs": [],
   "source": [
    "public class datatype{\n",
    "    public static void main(String[] args) {\n",
    "        System.out.println(6+6); // 출력값으로 숫자 12가 출력될 것이다. --> 숫자 더하기 연산\n",
    "        System.out.println(\"6\"+\"6\"); //출력값으로 문자열 66이 출력될 것이다. --> 결합 문자열 연산\n",
    "    }\n",
    "}"
   ]
  },
  {
   "cell_type": "code",
   "execution_count": null,
   "metadata": {},
   "outputs": [],
   "source": [
    "[출력결과]\n",
    "\n",
    "12\n",
    "66"
   ]
  },
  {
   "cell_type": "markdown",
   "metadata": {},
   "source": [
    "- 당연한거지만 아래와 같이 \"문자열 *(곱셈연산) 문자열\"을 코딩해서 실행하면 Error가 발생할 것이다."
   ]
  },
  {
   "cell_type": "code",
   "execution_count": null,
   "metadata": {},
   "outputs": [],
   "source": [
    "public class datatype{\n",
    "    public static void main(String[] args) {\n",
    "        System.out.println(\"6\"*\"6\");\n",
    "    }\n",
    "}"
   ]
  },
  {
   "cell_type": "code",
   "execution_count": null,
   "metadata": {},
   "outputs": [],
   "source": [
    "[출력결과]\n",
    "\n",
    "Exception in thread \"main\" java.lang.Error: Unresolved compilation problem:\n",
    "The operator * is undefined for the argument type(s) java.lang.String, java.lang.String\n",
    "\n",
    "at datatype.main(datatype.java:3)"
   ]
  },
  {
   "cell_type": "markdown",
   "metadata": {},
   "source": [
    "- 아래와 같이 .length()를 이용해서 문자열의 길이를 추출할 수도 있다."
   ]
  },
  {
   "cell_type": "code",
   "execution_count": null,
   "metadata": {},
   "outputs": [],
   "source": [
    "public class datatype{\n",
    "    public static void main(String[] args) {\n",
    "        System.out.println(\"7777\".length());\n",
    "    }\n",
    "}"
   ]
  },
  {
   "cell_type": "code",
   "execution_count": null,
   "metadata": {},
   "outputs": [],
   "source": [
    "[출력결과]\n",
    "\n",
    "4"
   ]
  },
  {
   "cell_type": "markdown",
   "metadata": {},
   "source": [
    "- 역시 당연한 얘기지만 .length()를 이용해서 숫자의 길이를 추출하려고 하면 Error가 발생한다."
   ]
  },
  {
   "cell_type": "code",
   "execution_count": null,
   "metadata": {},
   "outputs": [],
   "source": [
    "public class datatype{\n",
    "    public static void main(String[] args) {\n",
    "        System.out.println(7777.length());\n",
    "    }\n",
    "}"
   ]
  },
  {
   "cell_type": "code",
   "execution_count": null,
   "metadata": {},
   "outputs": [],
   "source": [
    "[출력결과]\n",
    "\n",
    "Exception in thread \"main\" java.lang.Error: Unresolved compilation problems:\n",
    "Syntax error on token \"7777.\", . expected after this token\n",
    "Cannot invoke length() on the primitive type double\n",
    "\n",
    "at datatype.main(datatype.java:3)"
   ]
  },
  {
   "cell_type": "markdown",
   "metadata": {},
   "source": [
    "- 그러면 숫자데이터에 대한 연산을 해보자\n",
    "\n",
    "아래와 같이 java 파일을 만들어본다. 이 방법은 기존의 방법과 동일하지만 class를 생성해서 만든다는점에서 기존의 방법과 약간 다르다. 결국에는 .java 를 만든다는 점에서는 같은 방법이다.\n",
    "\n",
    "![make java pjt file 2](https://user-images.githubusercontent.com/41605276/86085992-84fd0500-badb-11ea-9c56-3fd3aed256bb.png)\n",
    "\n",
    "- 그런다음에 아래와 같이 코딩해서 간단한 숫자연산을 실행해보자."
   ]
  },
  {
   "cell_type": "code",
   "execution_count": null,
   "metadata": {},
   "outputs": [],
   "source": [
    "public class Number {\n",
    "\n",
    "    public static void main(String[] args) {\n",
    "        System.out.println(5 + 3); // 덧셈연산, 출력값은 숫자 8이 될 것이다.\n",
    "        System.out.println(5 - 3); // 뺄셈연산, 출력값은 숫자 2가 될 것이다.\n",
    "        System.out.println(5 * 3); // 곱셈연산, 출력값은 숫자 15가 될 것이다.\n",
    "        System.out.println(6 / 3); // 나눗셈연산, 출력값은 숫자 2가 될 것이다.\n",
    "    }\n",
    "\n",
    "}"
   ]
  },
  {
   "cell_type": "code",
   "execution_count": null,
   "metadata": {},
   "outputs": [],
   "source": [
    "[출력결과]\n",
    "\n",
    "8\n",
    "2\n",
    "15\n",
    "2"
   ]
  },
  {
   "cell_type": "markdown",
   "metadata": {},
   "source": [
    "- 아래 그림과 같이 자바에서 Math라는 함수를 통해 예를 들어서 파이 같은 자주쓰는 수학 연산을 할 수 있다.\n",
    "\n",
    "Math를 이용해서 절대값 등 다양한 숫자연산을 할 수 있다.\n",
    "\n",
    "![image](https://user-images.githubusercontent.com/41605276/86086467-cc37c580-badc-11ea-99ca-b193aaabc38a.png)"
   ]
  },
  {
   "cell_type": "code",
   "execution_count": null,
   "metadata": {},
   "outputs": [],
   "source": [
    "public class Number {\n",
    "\n",
    "    public static void main(String[] args) {\n",
    "        System.out.println(Math.PI);\n",
    "    }\n",
    "\n",
    "}"
   ]
  },
  {
   "cell_type": "code",
   "execution_count": null,
   "metadata": {},
   "outputs": [],
   "source": [
    "[출력결과]\n",
    "\n",
    "3.141592653589793"
   ]
  },
  {
   "cell_type": "markdown",
   "metadata": {},
   "source": [
    "- 이 Math 함수를 응용해서 숫자를 연산할 수도 있다."
   ]
  },
  {
   "cell_type": "code",
   "execution_count": null,
   "metadata": {},
   "outputs": [],
   "source": [
    "public class Number {\n",
    "\n",
    "    public static void main(String[] args) {\n",
    "        System.out.println(Math.floor(Math.PI)); // 3.141592 여기에서 뒤에 소수점을 내리고 싶을때\n",
    "        System.out.println(Math.ceil(Math.PI)); // 3.141592 여기에서 뒤에 소수점을 올리고 싶을때\n",
    "    }\n",
    "\n",
    "}"
   ]
  },
  {
   "cell_type": "code",
   "execution_count": null,
   "metadata": {},
   "outputs": [],
   "source": [
    "[출력결과]\n",
    "\n",
    "3.0\n",
    "4.0"
   ]
  },
  {
   "cell_type": "markdown",
   "metadata": {},
   "source": [
    "- 문자열에 대해서도 아래와 같이 기초문법을 실습해본다."
   ]
  },
  {
   "cell_type": "code",
   "execution_count": null,
   "metadata": {},
   "outputs": [],
   "source": [
    "public class Number {\n",
    "\n",
    "    public static void main(String[] args) {\n",
    "\n",
    "        // string vs character\n",
    "        System.out.println(\"Hello World\"); // 문자가 모여있는 열=문자열=string 이다.\n",
    "\n",
    "        // 자바에서는 string과 character를 엄격하게 구분한다.\n",
    "        // 예를 들어서 아래와 같이 작성하고 실행하면 Error가 난다.\n",
    "        // System.out.println('Hello World');\n",
    "\n",
    "        System.out.println('H'); // Character=한글자를 표현하는 데이터 타입\n",
    "                                   // 참고로 string은 character들이 모여있는 형태를 말한다.\n",
    "\n",
    "        System.out.println(\"H\"); // H라는 한글자지만 큰따옴표(\"\")안에 명시가 되어 있으므로 string이다.\n",
    "\n",
    "        // Hello world를 줄바꿈하고 싶을때 아래와 같이 코딩하면 줄바꿈이 될까?\n",
    "        // 아니다. 그대로 Hello World가 된다.\n",
    "        System.out.println(\"Hello \"\n",
    "        + \"World\");\n",
    "\n",
    "        // 줄바꿈을 하고 싶다면 \\n를 이용하면 된다.\n",
    "        System.out.println(\"Hello \\nWorld\");\n",
    "\n",
    "        // escape = 예를들어서 Hello \"World\" 를 출력하고 싶을때\n",
    "        System.out.println(\"Hello \\\"World\\\"\");\n",
    "\n",
    "    }\n",
    "\n",
    "}"
   ]
  },
  {
   "cell_type": "code",
   "execution_count": null,
   "metadata": {},
   "outputs": [],
   "source": [
    "[출력결과]\n",
    "\n",
    "Hello World\n",
    "H\n",
    "H\n",
    "Hello World\n",
    "Hello\n",
    "World\n",
    "Hello \"World\""
   ]
  },
  {
   "cell_type": "markdown",
   "metadata": {},
   "source": [
    "- 문자열을 치환하는 실습도 해보자."
   ]
  },
  {
   "cell_type": "code",
   "execution_count": null,
   "metadata": {},
   "outputs": [],
   "source": [
    "public class Number {\n",
    "\n",
    "    public static void main(String[] args) {\n",
    "\n",
    "        System.out.println(\"Hello World\".length()); // 빈칸포함해서 character가 몇개인지 counting\n",
    "\n",
    "        // 문자열을 replace해보자\n",
    "        System.out.println(\"Hello minman !! Hello minman !! Hello minman !!\");\n",
    "        System.out.println(\"Hello minman !! Hello minman !! Hello minman !!\".replace(\"minman\",\"minsu\"));\n",
    "\n",
    "        System.out.println(\"Hello [[name]] !! Hello [[name]] !! Hello [[name]] !!\".replace(\"[[name]]\",\"park\"));\n",
    "\n",
    "    }\n",
    "\n",
    "}"
   ]
  },
  {
   "cell_type": "code",
   "execution_count": null,
   "metadata": {},
   "outputs": [],
   "source": [
    "[출력결과]\n",
    "\n",
    "11\n",
    "Hello minman !! Hello minman !! Hello minman !!\n",
    "Hello minsu !! Hello minsu !! Hello minsu !!\n",
    "Hello park !! Hello park !! Hello park !!"
   ]
  },
  {
   "cell_type": "markdown",
   "metadata": {},
   "source": [
    "- 변수를 할당해서 출력하는 실습도 해보자."
   ]
  },
  {
   "cell_type": "code",
   "execution_count": null,
   "metadata": {},
   "outputs": [],
   "source": [
    "public class Number {\n",
    "\n",
    "    public static void main(String[] args) {\n",
    "\n",
    "        // 자바는 변수 지정시에 어떤 데이터 타입인지 명시해줘야 한다.\n",
    "        // 그리고 그 데이터 타입에 맞게 변수를 정의해야 한다.\n",
    "\n",
    "        int a = 1; // integer(정수)\n",
    "        System.out.println(a);\n",
    "\n",
    "        double b = 1.1; // real number(실수)\n",
    "                         // 만약에 예를들어 int b = 1.1; 로 코딩하면 애러가 날 것이다.\n",
    "\n",
    "        System.out.println(b);\n",
    "\n",
    "        String c = \"Hello World\";\n",
    "        System.out.println(c);\n",
    "\n",
    "    }\n",
    "\n",
    "}"
   ]
  },
  {
   "cell_type": "code",
   "execution_count": null,
   "metadata": {},
   "outputs": [],
   "source": [
    "[출력결과]\n",
    "\n",
    "1\n",
    "1.1\n",
    "Hello World"
   ]
  },
  {
   "cell_type": "markdown",
   "metadata": {},
   "source": [
    "- 변수를 이용한 실습을 해보자.\n",
    "\n",
    "변수는 값에 이름을 매기는 것이다. 그래서 누구나 이해할 수 있도록 올바른 변수이름을 정의해줘야 한다."
   ]
  },
  {
   "cell_type": "code",
   "execution_count": null,
   "metadata": {},
   "outputs": [],
   "source": [
    "public class Number {\n",
    "\n",
    "    public static void main(String[] args) {\n",
    "\n",
    "        // 문자열 변수를 할당해서 새로운 문자열을 표현하는 실습\n",
    "        // 저 name이라는 변수가 많으면 많을 수록 우리가 작성한 코딩이 효율적인 것이다.\n",
    "        String name = \"minman\";\n",
    "        System.out.println(\"Hello, \" + name + \" ... \" + name + \" ... \" + \" park ... bye \");\n",
    "\n",
    "        // 코딩을 할때 변수를 어떻게 작성하느냐가 중요하다.\n",
    "        // 결국에는 사람이 읽는 언어이기 때문이다.\n",
    "        // 아래와 같이 VAT = 10.0이라고 표현을 한것은 다른사람이 봤을때\n",
    "        // \"아 부가가치세 10프로를 말하는 구나\"라고 이해할 수 있어야 한다는 것이다.\n",
    "        double VAT = 10.0;\n",
    "        System.out.println(VAT);\n",
    "\n",
    "    }\n",
    "\n",
    "}"
   ]
  },
  {
   "cell_type": "code",
   "execution_count": null,
   "metadata": {},
   "outputs": [],
   "source": [
    "[출력결과]\n",
    "\n",
    "Hello, minman ... minman ...  park ... bye\n",
    "10.0"
   ]
  },
  {
   "cell_type": "markdown",
   "metadata": {},
   "source": [
    "- 어떤 데이터 타입을 다른 데이터 타입으로 변환하는 casting 실습을 해보자."
   ]
  },
  {
   "cell_type": "code",
   "execution_count": null,
   "metadata": {},
   "outputs": [],
   "source": [
    "public class Number {\n",
    "\n",
    "    public static void main(String[] args) {\n",
    "\n",
    "        // 자바는 데이터 변수에 대한 타입을 엄격하게 통제하기 때문에 관련해서 명확하게 구분해서 알고 있어야 한다.\n",
    "\n",
    "        // 1은 정수지만 b라는 변수에 담길때 b가 double 즉, 실수형태이기 때문에 자동으로 1이 double형 1.0으로 변경된다.\n",
    "        // 정수 1을 실수 1.0으로 바꾸는데 데이터 손실이 잃어나지 않는다.\n",
    "        double b = 1;\n",
    "        System.out.println(b);\n",
    "\n",
    "        // int c = 1.1; 은 1.1이라는 실수를 정수형 데이터 타입에 담으려고 하니까 Error가 날 것이다.\n",
    "        // c는 정수형태이기 때문에 1은 들어가는데 0.1은 잃어버린다. 즉, 데이터 손실이 잃어난다.\n",
    "\n",
    "        // (int) 1.1 --> 1.1은 실수인데 강제로 int로 변환하겠다는 의미이다.\n",
    "        // 데이터 손실을 감수하고, 명시적으로 강제로 int로 바꾸겠다.\n",
    "        int e = (int) 1.1;\n",
    "        System.out.println(e);\n",
    "\n",
    "        // 마찬가지로 1이라는 정수를 강제로 1.0 실수로 바꾸겠다는 의미이다.\n",
    "        double b1 = (double) 1; // double b = 1; 와 같은 의미다.\n",
    "        System.out.println(b);\n",
    "\n",
    "        // 1이라는 정수를 string으로 변환해보자.\n",
    "        String f = Integer.toString(1);\n",
    "        System.out.println(f.getClass()); //.getClass() 는 해당 변수가 어떤 데이터 타입인지 알려주는 함수\n",
    "\n",
    "    }\n",
    "\n",
    "}"
   ]
  },
  {
   "cell_type": "code",
   "execution_count": null,
   "metadata": {},
   "outputs": [],
   "source": [
    "[출력결과]\n",
    "\n",
    "1.0\n",
    "1\n",
    "1.0\n",
    "class java.lang.String"
   ]
  }
 ],
 "metadata": {
  "kernelspec": {
   "display_name": "Javascript (Node.js)",
   "language": "javascript",
   "name": "javascript"
  },
  "language_info": {
   "file_extension": ".js",
   "mimetype": "application/javascript",
   "name": "javascript",
   "version": "8.12.0"
  }
 },
 "nbformat": 4,
 "nbformat_minor": 2
}
