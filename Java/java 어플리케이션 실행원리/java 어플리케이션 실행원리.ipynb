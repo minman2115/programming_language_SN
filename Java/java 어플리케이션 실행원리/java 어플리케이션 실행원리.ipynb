{
 "cells": [
  {
   "cell_type": "markdown",
   "metadata": {},
   "source": [
    ".\n",
    "\n",
    "JAVA_TIL(20200630)\n",
    "\n",
    "- study program : youtube 생활코딩 채널 'JAVA1'\n",
    "\n",
    "\n",
    "- 학습환경 : Ubuntu 18\n",
    "\n",
    "[학습노트]\n",
    "\n",
    "- 우리는 컴퓨터화면에 Hello world라는 문자를 출력하고 싶었고 아래와 같은 코드를 실행해서 우리가 원하는 목적을 달성했다.\n",
    "\n",
    "우리는 자바라는 컴퓨터 프로그래밍 언어의 문법에 맞게 \n",
    "\n",
    "소스(또는 코드 또는 language)를 작성해서 결과물로 application(또는 프로그램)을 만들었다."
   ]
  },
  {
   "cell_type": "code",
   "execution_count": null,
   "metadata": {},
   "outputs": [],
   "source": [
    "public class HelloWorldApp {\n",
    "    public static void main(String[] args) {\n",
    "        System.out.println(\"Hello world\");\n",
    "    }\n",
    "}"
   ]
  },
  {
   "cell_type": "markdown",
   "metadata": {},
   "source": [
    "- 위와 같은 소스가 application이 되고 run 되는 과정에 대해 알아보자.\n",
    "\n",
    "먼저 컴퓨터가 필요할 것이다. 그리고 jdk라는 것을 설치했다. 그때 여러가지 프로그램이 설치가 되는데 그때 가장 핵심이 되는 것이 자바 버츄얼 머신이라는 것이다. 그리고 우리가 하고자하는 코드를 담은 확장자가 java인 파일을 작성했다. 그리고 이 소스코드는 사람이 이해할 수 있는 것이지 기계가 이해할 수 있지는 않다. 그래서 기계가 저 확장자가 java인 파일을 이해할 수 있도록 변환하는 작업이 필요한데 그 작업을 컴파일이라고 한다. 이 컴파일이라는 작업은 우리가 이클립스에서 확장자가 java인 파일을 작성하고 저장버튼을 눌렀을때 `.class`라는 확장자 명을 가진 파일을 만드는 것을 확인했었다. 이 `.class` 파일이 자바 어플리케이션이다. 즉 우리가 자바에 기술을 응용해서 만든 어플리케이션이라고 할 수 있다. 그리고 이클립스에서 run 버튼을 클릭하면 자바 어플리케이션을 자바 버츄얼머신이 읽어서 컴퓨터가 실행하게 된다.\n",
    "\n",
    "![Java running](https://user-images.githubusercontent.com/41605276/86078061-342fe100-bac8-11ea-8d78-80fd27888f29.png)"
   ]
  }
 ],
 "metadata": {
  "kernelspec": {
   "display_name": "Javascript (Node.js)",
   "language": "javascript",
   "name": "javascript"
  },
  "language_info": {
   "file_extension": ".js",
   "mimetype": "application/javascript",
   "name": "javascript",
   "version": "8.12.0"
  }
 },
 "nbformat": 4,
 "nbformat_minor": 2
}
