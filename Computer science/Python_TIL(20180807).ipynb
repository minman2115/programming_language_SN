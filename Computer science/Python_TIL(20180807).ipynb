{
 "cells": [
  {
   "cell_type": "markdown",
   "metadata": {},
   "source": [
    "### # Python 20180807 TIL\n",
    "\n",
    "study program : https://www.fastcampus.co.kr/dev_school_css"
   ]
  },
  {
   "cell_type": "markdown",
   "metadata": {},
   "source": [
    "#### # 클래스메서드\n",
    "\n",
    "- 형식은 classmethod(클래스명, 인자) 로 되어있다. \n",
    "\n",
    "\n",
    "- ex)"
   ]
  },
  {
   "cell_type": "code",
   "execution_count": 10,
   "metadata": {},
   "outputs": [],
   "source": [
    "class Person:\n",
    "    \n",
    "    @classmethod\n",
    "    def init_from_string(cls, string):\n",
    "        name,age = string.split('_')\n",
    "        return name, int(age)"
   ]
  },
  {
   "cell_type": "markdown",
   "metadata": {},
   "source": [
    "- 여기서는 예를 들어 cls에는 Person클래스 자체가 인자로 들어오게 되고 string은 예를들어 li=['john_36','minsu_28','kim_25'] 를 이름과 나이 넣고 싶을때"
   ]
  },
  {
   "cell_type": "code",
   "execution_count": 11,
   "metadata": {},
   "outputs": [
    {
     "data": {
      "text/plain": [
       "[('john', 36), ('minsu', 28), ('kim', 25)]"
      ]
     },
     "execution_count": 11,
     "metadata": {},
     "output_type": "execute_result"
    }
   ],
   "source": [
    "li=['john_36','minsu_28','kim_25'] \n",
    "\n",
    "ojt_list=[]\n",
    "for string in li:\n",
    "    ojt_list.append(Person.init_from_string(string))\n",
    "    \n",
    "ojt_list"
   ]
  },
  {
   "cell_type": "markdown",
   "metadata": {},
   "source": [
    "- 위와같이 입력하여 init_from_string함수를 활용한다."
   ]
  },
  {
   "cell_type": "markdown",
   "metadata": {},
   "source": [
    "#### # Property 예시"
   ]
  },
  {
   "cell_type": "code",
   "execution_count": 12,
   "metadata": {},
   "outputs": [],
   "source": [
    "class Account:    \n",
    "    def __init__(self, money):\n",
    "        self._balance=money\n",
    "        ## 만약에 self.balance=money이면 balance setter 함수를 호출한다.\n",
    "        \n",
    "    @property\n",
    "    def balance(self):\n",
    "        print('balance_getter')\n",
    "        return self._balance\n",
    "    \n",
    "    @balance.setter\n",
    "    def balance(self,new_bal):\n",
    "        print('balance_setter')\n",
    "        if new_bal < 0 :\n",
    "            return\n",
    "        self._balance=new_bal"
   ]
  },
  {
   "cell_type": "code",
   "execution_count": 13,
   "metadata": {},
   "outputs": [
    {
     "name": "stdout",
     "output_type": "stream",
     "text": [
      "balance_getter\n"
     ]
    },
    {
     "data": {
      "text/plain": [
       "5000"
      ]
     },
     "execution_count": 13,
     "metadata": {},
     "output_type": "execute_result"
    }
   ],
   "source": [
    "my_acnt=Account(5000)\n",
    "\n",
    "my_acnt.balance"
   ]
  },
  {
   "cell_type": "markdown",
   "metadata": {},
   "source": [
    "위의 실행결과를 확인하고 아래와 같이 명령어를 넣고 실행하면 아래과 같은 실행결과가 나온다."
   ]
  },
  {
   "cell_type": "code",
   "execution_count": 14,
   "metadata": {},
   "outputs": [
    {
     "name": "stdout",
     "output_type": "stream",
     "text": [
      "balance_setter\n"
     ]
    }
   ],
   "source": [
    "my_acnt.balance = 3000"
   ]
  },
  {
   "cell_type": "markdown",
   "metadata": {},
   "source": [
    " property는 my_acnt.balance 이런식으로 명령어를 실행하면 바로 벨런스라는\n",
    " 멤버에 직접 접근하는 것처럼 보이지만 def balance(self): 함수를 호출한다\n",
    " 통상 my_acnt.balance 이걸 실행하면"
   ]
  },
  {
   "cell_type": "markdown",
   "metadata": {},
   "source": [
    "@property\n",
    "\n",
    "def balance(self):\n",
    "\n",
    "print('balance_getter')\n",
    "\n",
    "return self._balance\n",
    "\n",
    "이놈이 실행되고"
   ]
  },
  {
   "cell_type": "markdown",
   "metadata": {},
   "source": [
    "만약에 my_acnt.balance = 3000 이렇게 실행하면 \n",
    "\n",
    "@balance.setter\n",
    "\n",
    "def balance(self,new_bal):\n",
    "\n",
    "print('balance_setter')\n",
    "\n",
    "if new_bal < 0 :\n",
    "\n",
    "return self._balance=new_bal\n",
    "\n",
    "함수가 실행된다."
   ]
  },
  {
   "cell_type": "markdown",
   "metadata": {},
   "source": [
    "def __init__(self, money):\n",
    "\n",
    "self._balance=money\n",
    "\n",
    "이 함수에서 만약에 self.balance=money이면 머니라는\n",
    "숫자값이 self.balance로 들어가기 때문에 balance setter 함수를 호출한다."
   ]
  },
  {
   "cell_type": "markdown",
   "metadata": {},
   "source": [
    "#### # 클래스 간의 관계\n",
    "\n",
    "- 프로그래밍의 복잡성이 커질 수록 클래스간의 관계형성이 중요하다. \n",
    "\n",
    "1) IS-A 관계\n",
    "\n",
    "- ex) A lap-top is a computer\n",
    "     \n",
    "- X(클래스)는 Y(클래스)의 '일종'이다. 그래서 is a 가 나온것이다.\n",
    "     \n",
    "- inheritence(상속) 기법을 쓴다. \n",
    "\n",
    "상속받는 입장이 반드시 논리적으로 상위 클래스의 모든 멤버변수와 모든 기능을 가지는 상태가 되야한다.\t\n",
    "\n",
    "2) HAS-A관계\n",
    "\n",
    "- ex) A policeman has a gun\n",
    "\n",
    "- X(클래스)는 Y(클래스)를 가지고 있다(또는 포함한다).\n",
    "\n",
    "- composition(합성), aggregation(통합) 을 쓴다. 이 둘의 용어 구분이 감이 안잡히는데 그것은 중요한 것은 아니고 그냥 has a 관계구나 라고 생각하면 된다.\n",
    "\n",
    "- composition 특성 \n",
    "\n",
    "(1) 클래스간에 has a 상황 기반에서 같은 life cycle이고 강하게 연관되어 있다.\n",
    "\n",
    "(2) 멤버가 클래스의 통해 만들어진 객체를 갖는다. \n",
    "\n",
    "- aggregation 특성 : 클래스간 약한 연관\n",
    "\n",
    "\n",
    "3) 이즈어나 해즈어 는 결국 논리적으로 잘 판단해야하며, 둘을 구분하기 애매한 경우 헤즈어를 쓰는경우가 많다고 한다. \n",
    "\n",
    "\n",
    "#### # 다형성\n",
    "\n",
    "- OOP를 사용하는 궁극적인 목적 : 다형성\n",
    "\n",
    "- 다형성은 상속을 해야하는 상황에서 발생한다.\n",
    "\n",
    "- 다형성의 정의 : 상속을 할때, 같은 이름의 메서드를 호출할때 그 메서드를 호출하는 객체가 서로 다르기 때문에 그 결과 값이 서로 다른 것\n",
    "\n",
    "- 다형성은 method overriding으로 구현한다."
   ]
  }
 ],
 "metadata": {
  "kernelspec": {
   "display_name": "Python 3",
   "language": "python",
   "name": "python3"
  },
  "language_info": {
   "codemirror_mode": {
    "name": "ipython",
    "version": 3
   },
   "file_extension": ".py",
   "mimetype": "text/x-python",
   "name": "python",
   "nbconvert_exporter": "python",
   "pygments_lexer": "ipython3",
   "version": "3.7.3"
  }
 },
 "nbformat": 4,
 "nbformat_minor": 2
}
