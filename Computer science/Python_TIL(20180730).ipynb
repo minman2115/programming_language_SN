{
 "cells": [
  {
   "cell_type": "markdown",
   "metadata": {},
   "source": [
    "### # Python 20180730 TIL\n",
    "\n",
    "study program : https://www.fastcampus.co.kr/dev_school_css"
   ]
  },
  {
   "cell_type": "markdown",
   "metadata": {},
   "source": [
    "#### # 컴퓨터가 다룰 수 있는 자료의 타입\n",
    "\n",
    "1) 수 \n",
    "- 정수(양수, 음수)\n",
    "- 실수(실수에서 중요한 포인트는 정밀도와 표현범위이다.)\n",
    "\n",
    "2) 문자\n",
    "- 컴퓨터가 0,1 밖에 모르는데 문자를 어떻게 표현할 것인가\n",
    "- 문자를 수로 변환한다. 아스키 코드나 유니코드 또는 UTF-8로.."
   ]
  },
  {
   "cell_type": "markdown",
   "metadata": {},
   "source": [
    "#### # 파이썬에서 '=='  명령어는 값을 비교할때 쓰는 연산이다.\n",
    "\n",
    "- 참고로 a is b는 a와 b가 같은 메모리를 가리키고 있는가를 말한다.\n",
    "- a is b 와 a == b는 결론적으로 다른 것을 비교하는 명령어다."
   ]
  },
  {
   "cell_type": "markdown",
   "metadata": {},
   "source": [
    "#### # 파이썬에서 변수할당 방법\n",
    "\n",
    "- 파이썬에서는 a=10이라고 하면 a라고 하는 이름이라는 메모리 공간을 만들고, 10이 저장되어 있는 별도에 메모리 공간을 만든다음 a = 10이라고 정의하는 순간 a라는 공간이 10이 저장되어 있는 공간을 가리키게 된다."
   ]
  },
  {
   "cell_type": "markdown",
   "metadata": {},
   "source": [
    "#### # mutable과 immutable\n",
    "\n",
    "- 파이썬에서 변수든 객체든 간에\n",
    "- immutable = 변경 불가한 객체 = 수, 튜플, 문자열 등\n",
    "- mutable = 변경 가능한 객체 = 리스트, 딕셔너리 등\n",
    "- 참고로 튜플이 리스트보다 메모리를 훨씬 더 적게 잡기 때문에 튜플이 훨씬 빠르다."
   ]
  },
  {
   "cell_type": "markdown",
   "metadata": {},
   "source": [
    "#### # Lambda\n",
    "\n",
    "- 정의 : 익명함수로 말 그대로 이름이 없는 함수이다. 한번 쓰고 다시 사용하지 않을때, 다시말해 함수인데 한번만 쓰고 안쓸때 사용하는 함수이다.\n",
    "\n",
    "- 특징 :\n",
    "\n",
    "1) 익명함수\n",
    "\n",
    "2) 자주 사용하지 않을때 편리\n",
    "\n",
    "3) return 문이 없다.\n",
    "\n",
    "4) body는 오직 expression(식)만 올 수 있다."
   ]
  },
  {
   "cell_type": "markdown",
   "metadata": {},
   "source": [
    "- 4) 파이썬 코드 예시"
   ]
  },
  {
   "cell_type": "code",
   "execution_count": 3,
   "metadata": {},
   "outputs": [],
   "source": [
    "# lambda 함수\n",
    "f = lambda a,b : a+b\n",
    "\n",
    "# 일반함수\n",
    "def add(a,b):\n",
    "    return a+b"
   ]
  },
  {
   "cell_type": "code",
   "execution_count": 4,
   "metadata": {},
   "outputs": [
    {
     "data": {
      "text/plain": [
       "30"
      ]
     },
     "execution_count": 4,
     "metadata": {},
     "output_type": "execute_result"
    }
   ],
   "source": [
    "a = 10\n",
    "b = 20\n",
    "add(a, b)"
   ]
  },
  {
   "cell_type": "code",
   "execution_count": 5,
   "metadata": {},
   "outputs": [
    {
     "data": {
      "text/plain": [
       "30"
      ]
     },
     "execution_count": 5,
     "metadata": {},
     "output_type": "execute_result"
    }
   ],
   "source": [
    "f(a,b)"
   ]
  },
  {
   "cell_type": "markdown",
   "metadata": {},
   "source": [
    "5) 람다함수는 주변에 있는 변수를 가져다 쓸 수 있다.\n",
    "\n",
    "- 5) 파이썬 코드 예시"
   ]
  },
  {
   "cell_type": "code",
   "execution_count": 6,
   "metadata": {},
   "outputs": [
    {
     "name": "stdout",
     "output_type": "stream",
     "text": [
      "1\n",
      "4\n",
      "9\n",
      "16\n"
     ]
    }
   ],
   "source": [
    "li = [1, 2, 3, 4]\n",
    "f = lambda idx: li[idx] ** 2\n",
    "\n",
    "for i in range(4): \n",
    "    print(f(i))"
   ]
  },
  {
   "cell_type": "markdown",
   "metadata": {},
   "source": [
    "#### # 식(expression) vs 문(statement)\n",
    "\n",
    "- 식 : a+b, a , 같은 것들\n",
    "- 문 : a = a+b 식에서 값을 반환해서 할당할 경우\n",
    "- 파이썬에서는 함수를 식으로 인식을 하고 함수내에서 리턴이 없다고 하더라도 none을 반환하게 된다. 그래서 함수를 쓸 경우에는 별도로 리턴을 하지 않아도 none을 리턴하게 된다. 하지만 람다는 얘기가 다르다."
   ]
  },
  {
   "cell_type": "markdown",
   "metadata": {},
   "source": [
    "#### # 람다에서는 식만 가능하고 문은 사용할 수 없다.\n",
    "\n",
    "- 예를들어 lambda = a, b : a+b는 가능한데 lambda = a, b : c= a+b는 사용할 수 없다.\n",
    "- 예를들어 아래와 같이\n",
    "\n",
    "f = lambda idx, data: li[idx] = data\n",
    "\n",
    "결과값을 출력하면 다음과 같은 애러가 발생한다. \n",
    "\n",
    "SyntaxError: can't assign to lambda"
   ]
  },
  {
   "cell_type": "markdown",
   "metadata": {},
   "source": [
    "#### # 람다함수 사용예제\n",
    "\n",
    "- 람다함수를 사용하지 않을때 (일반함수를 이용할때)"
   ]
  },
  {
   "cell_type": "code",
   "execution_count": 7,
   "metadata": {},
   "outputs": [
    {
     "data": {
      "text/plain": [
       "[1, 3, 5, 7, 9, 2, 4, 6, 8, 10]"
      ]
     },
     "execution_count": 7,
     "metadata": {},
     "output_type": "execute_result"
    }
   ],
   "source": [
    "li = [i for i in range(1, 11)]\n",
    "\n",
    "# lambda 사용하지 않을 때(함수를 이용할때)\n",
    "\n",
    "def pred(a):\n",
    "    return a % 2 == 0\n",
    "\n",
    "li.sort(key = pred)\n",
    "##sort는 리스트를 낮음과 높음으로 정렬한다.\n",
    "\n",
    "li"
   ]
  },
  {
   "cell_type": "markdown",
   "metadata": {},
   "source": [
    "- 람다함수를 사용할때\n",
    "\n",
    "-> 여러줄 코딩할 필요가 없고 한번만 사용할 함수를 대체할 수 있다."
   ]
  },
  {
   "cell_type": "code",
   "execution_count": 8,
   "metadata": {},
   "outputs": [
    {
     "data": {
      "text/plain": [
       "[1, 3, 5, 7, 9, 2, 4, 6, 8, 10]"
      ]
     },
     "execution_count": 8,
     "metadata": {},
     "output_type": "execute_result"
    }
   ],
   "source": [
    "li.sort(key = lambda a: a%2==0)\n",
    "li"
   ]
  },
  {
   "cell_type": "markdown",
   "metadata": {},
   "source": [
    "#### # lazy evaluation\n",
    "\n",
    "- 왜 쓰냐 ? lazy evaluation이라는 것 때문에 쓴다.\n",
    "- lazy evaluation 이란 필요할 때만 연산을 수행하고 이에 따라 자원을 절약하고 성능을 개선하고자 할 때를 말한다.\n",
    "- 대표적인 메서드로 map, filter, reduce가 있다."
   ]
  },
  {
   "cell_type": "markdown",
   "metadata": {},
   "source": [
    "#### # map\n",
    "\n",
    "- Y = f(X)로 정의역에서 함수에 변수들을 넣으면서 결과값이 나오면 그대로 매핑해서 결과값을 출력한다고 해서 map 이다.\n",
    "\n",
    "- 아래는 map함수 예시"
   ]
  },
  {
   "cell_type": "code",
   "execution_count": 9,
   "metadata": {},
   "outputs": [
    {
     "name": "stdout",
     "output_type": "stream",
     "text": [
      "1\n",
      "4\n",
      "9\n",
      "16\n"
     ]
    }
   ],
   "source": [
    "#일반 함수 사용시\n",
    "li = [1, 2, 3, 4]\n",
    "\n",
    "def square(x):\n",
    "    return x ** 2\n",
    "\n",
    "m = map(square, li)\n",
    "\n",
    "for e in m:\n",
    "    print(e)"
   ]
  },
  {
   "cell_type": "code",
   "execution_count": 10,
   "metadata": {},
   "outputs": [
    {
     "name": "stdout",
     "output_type": "stream",
     "text": [
      "1\n",
      "4\n",
      "9\n",
      "16\n"
     ]
    }
   ],
   "source": [
    "#lambda 사용시\n",
    "li = [1, 2, 3, 4]\n",
    "\n",
    "m = map(lambda x: x**2, li)\n",
    "\n",
    "for e in m:\n",
    "    print(e)"
   ]
  },
  {
   "cell_type": "markdown",
   "metadata": {},
   "source": [
    "#### # filter\n",
    "\n",
    "- 조건에 True인 것만 골라낸다.\n",
    "- 아래는 filter 사용예시"
   ]
  },
  {
   "cell_type": "code",
   "execution_count": 11,
   "metadata": {},
   "outputs": [],
   "source": [
    "li = [1, -2, 4, -6, 0, 8]\n",
    "\n",
    "#filter 객체로 iterator이다\n",
    "f = filter(lambda x: x > 0, li)\t"
   ]
  },
  {
   "cell_type": "code",
   "execution_count": 12,
   "metadata": {},
   "outputs": [
    {
     "data": {
      "text/plain": [
       "1"
      ]
     },
     "execution_count": 12,
     "metadata": {},
     "output_type": "execute_result"
    }
   ],
   "source": [
    "next(f) #next는 객체의 메서드를 호출해준다."
   ]
  },
  {
   "cell_type": "code",
   "execution_count": 13,
   "metadata": {},
   "outputs": [
    {
     "data": {
      "text/plain": [
       "4"
      ]
     },
     "execution_count": 13,
     "metadata": {},
     "output_type": "execute_result"
    }
   ],
   "source": [
    "next(f) "
   ]
  },
  {
   "cell_type": "code",
   "execution_count": 14,
   "metadata": {},
   "outputs": [
    {
     "data": {
      "text/plain": [
       "8"
      ]
     },
     "execution_count": 14,
     "metadata": {},
     "output_type": "execute_result"
    }
   ],
   "source": [
    "next(f) "
   ]
  },
  {
   "cell_type": "code",
   "execution_count": 15,
   "metadata": {},
   "outputs": [
    {
     "ename": "StopIteration",
     "evalue": "",
     "output_type": "error",
     "traceback": [
      "\u001b[1;31m---------------------------------------------------------------------------\u001b[0m",
      "\u001b[1;31mStopIteration\u001b[0m                             Traceback (most recent call last)",
      "\u001b[1;32m<ipython-input-15-b7f2e1fb42f4>\u001b[0m in \u001b[0;36m<module>\u001b[1;34m\u001b[0m\n\u001b[1;32m----> 1\u001b[1;33m \u001b[0mnext\u001b[0m\u001b[1;33m(\u001b[0m\u001b[0mf\u001b[0m\u001b[1;33m)\u001b[0m\u001b[1;33m\u001b[0m\u001b[1;33m\u001b[0m\u001b[0m\n\u001b[0m",
      "\u001b[1;31mStopIteration\u001b[0m: "
     ]
    }
   ],
   "source": [
    "next(f) \n",
    "## 결과값을 모두 뽑아냈는데 또 next를 하게 되면 아래처럼 애러가 발생한다."
   ]
  },
  {
   "cell_type": "markdown",
   "metadata": {},
   "source": [
    "#### # 맵과 필터의 사용예시"
   ]
  },
  {
   "cell_type": "code",
   "execution_count": 16,
   "metadata": {},
   "outputs": [
    {
     "name": "stdout",
     "output_type": "stream",
     "text": [
      "4\n",
      "36\n",
      "9\n"
     ]
    }
   ],
   "source": [
    "li=[2,6,-7,-3,3,-5]\n",
    "## 원하는 함수출력 기대값은 4, 36, 9\n",
    "\n",
    "m = map(lambda x : x**2, filter(lambda a : a>0,li))\n",
    "\n",
    "for val in m:\n",
    "    print(val)"
   ]
  },
  {
   "cell_type": "markdown",
   "metadata": {},
   "source": [
    "#### # reduce\n",
    "\n",
    "- 핵심 기능 : sequence 자료형에서 두개씩 가져온 후 연산에 한개의 값으로 치환한다.\n",
    "\n",
    "- sequence 자료형을 하나의 값으로 할때\n",
    "\n",
    "- 함수는 두개의 인자를 받는다.\t\n",
    "\n",
    "- from fuctools import reduce를 입력하여 호출을 먼저 해줘야한다.\n",
    "\n",
    "- For example "
   ]
  },
  {
   "cell_type": "code",
   "execution_count": 18,
   "metadata": {},
   "outputs": [
    {
     "data": {
      "text/plain": [
       "15"
      ]
     },
     "execution_count": 18,
     "metadata": {},
     "output_type": "execute_result"
    }
   ],
   "source": [
    "from functools import reduce\n",
    "\n",
    "reduce(lambda x, y: x+y, [1, 2, 3, 4, 5])\n",
    "# 다음과 같이 계산한다. ((((1+2)+3)+4)+5)"
   ]
  },
  {
   "cell_type": "code",
   "execution_count": 19,
   "metadata": {},
   "outputs": [
    {
     "data": {
      "text/plain": [
       "115"
      ]
     },
     "execution_count": 19,
     "metadata": {},
     "output_type": "execute_result"
    }
   ],
   "source": [
    "reduce(lambda x, y: x+y, [1, 2, 3, 4, 5],100)\n",
    "# 위에 ,100은 초기값으로 100을 부여하겠다는 의미이다."
   ]
  },
  {
   "cell_type": "code",
   "execution_count": 20,
   "metadata": {},
   "outputs": [
    {
     "data": {
      "text/plain": [
       "9"
      ]
     },
     "execution_count": 20,
     "metadata": {},
     "output_type": "execute_result"
    }
   ],
   "source": [
    "li = [9, -3, -7, 2, 4, 3, 3, -8, -6, -7]\n",
    "\n",
    "reduce(lambda a,b : a if a>b else b ,li)"
   ]
  },
  {
   "cell_type": "markdown",
   "metadata": {},
   "source": [
    "#### # 파이썬이 거짓으로 인정하는 객체\n",
    "\n",
    "1) {}\n",
    "\n",
    "2) ()\n",
    "\n",
    "3) ''\n",
    "\n",
    "4) []\n",
    "\n",
    "5) None"
   ]
  },
  {
   "cell_type": "markdown",
   "metadata": {},
   "source": [
    "- 아래는 코드구현 예시"
   ]
  },
  {
   "cell_type": "code",
   "execution_count": 21,
   "metadata": {},
   "outputs": [
    {
     "data": {
      "text/plain": [
       "[1, 2]"
      ]
     },
     "execution_count": 21,
     "metadata": {},
     "output_type": "execute_result"
    }
   ],
   "source": [
    "[]  or [1,2]\n",
    "# False or True"
   ]
  },
  {
   "cell_type": "code",
   "execution_count": 22,
   "metadata": {},
   "outputs": [
    {
     "data": {
      "text/plain": [
       "[]"
      ]
     },
     "execution_count": 22,
     "metadata": {},
     "output_type": "execute_result"
    }
   ],
   "source": [
    "[1,2] and []\n",
    "# True and False"
   ]
  },
  {
   "cell_type": "code",
   "execution_count": 23,
   "metadata": {},
   "outputs": [
    {
     "data": {
      "text/plain": [
       "[3, 4]"
      ]
     },
     "execution_count": 23,
     "metadata": {},
     "output_type": "execute_result"
    }
   ],
   "source": [
    "[3,4] or [1,2]\n",
    "# True or True"
   ]
  },
  {
   "cell_type": "code",
   "execution_count": 24,
   "metadata": {},
   "outputs": [
    {
     "data": {
      "text/plain": [
       "[1, 2]"
      ]
     },
     "execution_count": 24,
     "metadata": {},
     "output_type": "execute_result"
    }
   ],
   "source": [
    "[3,4] and [1,2]\n",
    "# True and True"
   ]
  },
  {
   "cell_type": "markdown",
   "metadata": {},
   "source": [
    "#### # map, filter, reduce 응용"
   ]
  },
  {
   "cell_type": "code",
   "execution_count": 26,
   "metadata": {},
   "outputs": [
    {
     "data": {
      "text/plain": [
       "{'a': 3, 'b': 2, 'c': 1}"
      ]
     },
     "execution_count": 26,
     "metadata": {},
     "output_type": "execute_result"
    }
   ],
   "source": [
    "li = ['a','b','a','c','b','a']\n",
    "\n",
    "dic = reduce(lambda result, ch: result.update({ch : result.get(ch, 0)+1}) or result, li, {})\n",
    "dic"
   ]
  },
  {
   "cell_type": "markdown",
   "metadata": {},
   "source": [
    "1) 람다가 실행되고 result는 초기값 {}(비어있는 딕셔너리)를 가져온다.\n",
    "\n",
    "2) 그리고 result.update 함수를 실행하게 되는데 result에 아무것도 없기 때문에 (li에서 가져온 값이 없기 때문에 처음에 있는 'a'를 가져와서 {'a' : 0}이 들어가지만 뒤에 +1 이 있으므로 결론적으로 {'a' : 1}이 셋팅되게 된다. 그리고 result에  {'a' : 1}이 들어간다. \n",
    "\n",
    "3) 람다에서 리턴 반환시 update기능은 none이 반환되므로 뒤에 or dic을 넣어주면 {} or {'a' : 1}이 된다.\n",
    "\n",
    "4) 그리고 {'a' : 1} 가 다음연산을 위한 result에 셋팅이 된다. \n",
    "\n",
    "5)  2) ~ 4) 과정이 반복되면서 {'a' :3 , 'b' : 2, 'c' :1}가 완성된다."
   ]
  },
  {
   "cell_type": "markdown",
   "metadata": {},
   "source": [
    "#### # first class function\n",
    "\n",
    "- 정의 : 퍼스트클래스 함수란 프로그래밍 언어가 함수 (function) 를 first-class citizen으로 취급하는 것을 뜻합니다. 쉽게 설명하자면 함수 자체를 인자 (argument) 로써 다른 함수에 전달하거나 다른 함수의 결과값으로 리턴 할수도 있고, 함수를 변수에 할당하거나 데이터 구조안에 저장할 수 있는 함수를 뜻합니다.\n",
    "\n",
    "\n",
    "- 사용하는 언어가 first class function를 할 수 있는 위한 세가지 조건이 있는데 파이썬은 아래 세가지 조건을 만족하므로 first class function을 지원한다\n",
    "\n",
    "\n",
    "- 그 세가지 조건은 아래와 같다.\n",
    "\n",
    "\n",
    "1) 함수를 인자(argument)로 전달할 수 있는가"
   ]
  },
  {
   "cell_type": "code",
   "execution_count": 27,
   "metadata": {},
   "outputs": [
    {
     "data": {
      "text/plain": [
       "3"
      ]
     },
     "execution_count": 27,
     "metadata": {},
     "output_type": "execute_result"
    }
   ],
   "source": [
    "def f(a,b):\n",
    "    return a+b\n",
    "\n",
    "def g(func, a, b):\n",
    "    return func(a,b)\n",
    "\n",
    "g(f,1,2)"
   ]
  },
  {
   "cell_type": "markdown",
   "metadata": {},
   "source": [
    "2) 함수를 변수에 할당 할 수 있는가"
   ]
  },
  {
   "cell_type": "code",
   "execution_count": 28,
   "metadata": {},
   "outputs": [],
   "source": [
    "def adder(a, b):\n",
    "    return a + b\n",
    "\n",
    "#함수를 변수에 할당해 사용\n",
    "func_var = adder"
   ]
  },
  {
   "cell_type": "markdown",
   "metadata": {},
   "source": [
    "3) 함수를 리턴할 수 있는가"
   ]
  },
  {
   "cell_type": "code",
   "execution_count": 30,
   "metadata": {},
   "outputs": [],
   "source": [
    "def calculator(kind = 'add'):\n",
    "    def add(a, b):\n",
    "         return a + b\n",
    "        \n",
    "    def subtract(a, b):\n",
    "        return a - b\n",
    "    \n",
    "    if kind == 'add':\n",
    "        return add\n",
    "    else:\n",
    "        return subtract"
   ]
  }
 ],
 "metadata": {
  "kernelspec": {
   "display_name": "Python 3",
   "language": "python",
   "name": "python3"
  },
  "language_info": {
   "codemirror_mode": {
    "name": "ipython",
    "version": 3
   },
   "file_extension": ".py",
   "mimetype": "text/x-python",
   "name": "python",
   "nbconvert_exporter": "python",
   "pygments_lexer": "ipython3",
   "version": "3.7.3"
  }
 },
 "nbformat": 4,
 "nbformat_minor": 2
}
